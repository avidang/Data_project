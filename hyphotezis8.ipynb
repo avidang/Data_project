{
 "cells": [
  {
   "cell_type": "code",
   "execution_count": 4,
   "metadata": {},
   "outputs": [],
   "source": [
    "import warnings\n",
    "warnings.filterwarnings(\"ignore\")\n"
   ]
  },
  {
   "attachments": {},
   "cell_type": "markdown",
   "metadata": {},
   "source": [
    "# Importing libraries"
   ]
  },
  {
   "cell_type": "code",
   "execution_count": 5,
   "metadata": {},
   "outputs": [],
   "source": [
    "import pandas as pd\n",
    "import numpy as np\n",
    "import plotly.graph_objects as go\n"
   ]
  },
  {
   "attachments": {},
   "cell_type": "markdown",
   "metadata": {},
   "source": [
    "# Load data"
   ]
  },
  {
   "cell_type": "code",
   "execution_count": 6,
   "metadata": {},
   "outputs": [],
   "source": [
    "kickstarter_df = pd.read_csv(\"./inputs/kickstarter_data_full.csv\", low_memory=False)\n"
   ]
  },
  {
   "attachments": {},
   "cell_type": "markdown",
   "metadata": {},
   "source": [
    "# Naive feature selection"
   ]
  },
  {
   "cell_type": "code",
   "execution_count": 7,
   "metadata": {},
   "outputs": [],
   "source": [
    "kickstarter_df.drop(\n",
    "    columns=[\"index\", \"Unnamed: 0\", \"id\", \"location\"], inplace=True\n",
    ")  # location is not needed because we have country\n"
   ]
  },
  {
   "attachments": {},
   "cell_type": "markdown",
   "metadata": {},
   "source": [
    "# Check for features with zero variance and remove if there is"
   ]
  },
  {
   "cell_type": "code",
   "execution_count": 8,
   "metadata": {},
   "outputs": [
    {
     "data": {
      "text/plain": [
       "friends        1\n",
       "is_starred     1\n",
       "is_backing     1\n",
       "permissions    1\n",
       "dtype: int64"
      ]
     },
     "execution_count": 8,
     "metadata": {},
     "output_type": "execute_result"
    }
   ],
   "source": [
    "kickstarter_df.nunique()[kickstarter_df.nunique() == 1]\n"
   ]
  },
  {
   "cell_type": "code",
   "execution_count": 9,
   "metadata": {},
   "outputs": [],
   "source": [
    "kickstarter_df.drop(\n",
    "    columns=(kickstarter_df.nunique()[kickstarter_df.nunique() == 1]).index.to_list(),\n",
    "    inplace=True,\n",
    ")\n"
   ]
  },
  {
   "cell_type": "code",
   "execution_count": 10,
   "metadata": {},
   "outputs": [
    {
     "data": {
      "text/plain": [
       "Series([], dtype: int64)"
      ]
     },
     "execution_count": 10,
     "metadata": {},
     "output_type": "execute_result"
    }
   ],
   "source": [
    "kickstarter_df.nunique()[kickstarter_df.nunique() == 1]\n"
   ]
  },
  {
   "attachments": {},
   "cell_type": "markdown",
   "metadata": {},
   "source": [
    "# Remove features with more that 50% missing values"
   ]
  },
  {
   "cell_type": "code",
   "execution_count": 11,
   "metadata": {},
   "outputs": [
    {
     "data": {
      "text/plain": [
       "Series([], dtype: int64)"
      ]
     },
     "execution_count": 11,
     "metadata": {},
     "output_type": "execute_result"
    }
   ],
   "source": [
    "# check for features with more than 50% missing values\n",
    "kickstarter_df.isnull().sum()[kickstarter_df.isnull().sum() > 0.5 * len(kickstarter_df)]\n"
   ]
  },
  {
   "attachments": {},
   "cell_type": "markdown",
   "metadata": {},
   "source": [
    "# Check rows with missing values"
   ]
  },
  {
   "cell_type": "code",
   "execution_count": 12,
   "metadata": {},
   "outputs": [
    {
     "data": {
      "text/plain": [
       "1895"
      ]
     },
     "execution_count": 12,
     "metadata": {},
     "output_type": "execute_result"
    }
   ],
   "source": [
    "kickstarter_df.isnull().any(axis=1).sum()\n"
   ]
  },
  {
   "cell_type": "code",
   "execution_count": 13,
   "metadata": {},
   "outputs": [
    {
     "data": {
      "text/plain": [
       "blurb                 6\n",
       "category           1889\n",
       "name_len              5\n",
       "name_len_clean        5\n",
       "blurb_len             5\n",
       "blurb_len_clean       5\n",
       "dtype: int64"
      ]
     },
     "execution_count": 13,
     "metadata": {},
     "output_type": "execute_result"
    }
   ],
   "source": [
    "# check for features that have missing values\n",
    "kickstarter_df.isnull().sum()[kickstarter_df.isnull().sum() > 0]"
   ]
  },
  {
   "cell_type": "code",
   "execution_count": 14,
   "metadata": {},
   "outputs": [],
   "source": [
    "# handle missing values for blurb\n",
    "kickstarter_df[\"blurb\"].fillna(\"\", inplace=True)\n"
   ]
  },
  {
   "cell_type": "code",
   "execution_count": 15,
   "metadata": {},
   "outputs": [
    {
     "data": {
      "application/vnd.plotly.v1+json": {
       "config": {
        "plotlyServerURL": "https://plot.ly"
       },
       "data": [
        {
         "labels": [
          "United States",
          "United Kingdom",
          "Canada",
          "Australia",
          "other"
         ],
         "name": "country",
         "text": [
          "United States",
          "United Kingdom",
          "Canada",
          "Australia",
          "other"
         ],
         "type": "pie",
         "values": [
          14141,
          2498,
          1098,
          674,
          2221
         ]
        }
       ],
       "layout": {
        "annotations": [
         {
          "font": {
           "family": "Arial",
           "size": 20
          },
          "showarrow": false,
          "text": "",
          "x": 0.5,
          "y": 0.5
         }
        ],
        "height": 800,
        "template": {
         "data": {
          "bar": [
           {
            "error_x": {
             "color": "#2a3f5f"
            },
            "error_y": {
             "color": "#2a3f5f"
            },
            "marker": {
             "line": {
              "color": "#E5ECF6",
              "width": 0.5
             },
             "pattern": {
              "fillmode": "overlay",
              "size": 10,
              "solidity": 0.2
             }
            },
            "type": "bar"
           }
          ],
          "barpolar": [
           {
            "marker": {
             "line": {
              "color": "#E5ECF6",
              "width": 0.5
             },
             "pattern": {
              "fillmode": "overlay",
              "size": 10,
              "solidity": 0.2
             }
            },
            "type": "barpolar"
           }
          ],
          "carpet": [
           {
            "aaxis": {
             "endlinecolor": "#2a3f5f",
             "gridcolor": "white",
             "linecolor": "white",
             "minorgridcolor": "white",
             "startlinecolor": "#2a3f5f"
            },
            "baxis": {
             "endlinecolor": "#2a3f5f",
             "gridcolor": "white",
             "linecolor": "white",
             "minorgridcolor": "white",
             "startlinecolor": "#2a3f5f"
            },
            "type": "carpet"
           }
          ],
          "choropleth": [
           {
            "colorbar": {
             "outlinewidth": 0,
             "ticks": ""
            },
            "type": "choropleth"
           }
          ],
          "contour": [
           {
            "colorbar": {
             "outlinewidth": 0,
             "ticks": ""
            },
            "colorscale": [
             [
              0,
              "#0d0887"
             ],
             [
              0.1111111111111111,
              "#46039f"
             ],
             [
              0.2222222222222222,
              "#7201a8"
             ],
             [
              0.3333333333333333,
              "#9c179e"
             ],
             [
              0.4444444444444444,
              "#bd3786"
             ],
             [
              0.5555555555555556,
              "#d8576b"
             ],
             [
              0.6666666666666666,
              "#ed7953"
             ],
             [
              0.7777777777777778,
              "#fb9f3a"
             ],
             [
              0.8888888888888888,
              "#fdca26"
             ],
             [
              1,
              "#f0f921"
             ]
            ],
            "type": "contour"
           }
          ],
          "contourcarpet": [
           {
            "colorbar": {
             "outlinewidth": 0,
             "ticks": ""
            },
            "type": "contourcarpet"
           }
          ],
          "heatmap": [
           {
            "colorbar": {
             "outlinewidth": 0,
             "ticks": ""
            },
            "colorscale": [
             [
              0,
              "#0d0887"
             ],
             [
              0.1111111111111111,
              "#46039f"
             ],
             [
              0.2222222222222222,
              "#7201a8"
             ],
             [
              0.3333333333333333,
              "#9c179e"
             ],
             [
              0.4444444444444444,
              "#bd3786"
             ],
             [
              0.5555555555555556,
              "#d8576b"
             ],
             [
              0.6666666666666666,
              "#ed7953"
             ],
             [
              0.7777777777777778,
              "#fb9f3a"
             ],
             [
              0.8888888888888888,
              "#fdca26"
             ],
             [
              1,
              "#f0f921"
             ]
            ],
            "type": "heatmap"
           }
          ],
          "heatmapgl": [
           {
            "colorbar": {
             "outlinewidth": 0,
             "ticks": ""
            },
            "colorscale": [
             [
              0,
              "#0d0887"
             ],
             [
              0.1111111111111111,
              "#46039f"
             ],
             [
              0.2222222222222222,
              "#7201a8"
             ],
             [
              0.3333333333333333,
              "#9c179e"
             ],
             [
              0.4444444444444444,
              "#bd3786"
             ],
             [
              0.5555555555555556,
              "#d8576b"
             ],
             [
              0.6666666666666666,
              "#ed7953"
             ],
             [
              0.7777777777777778,
              "#fb9f3a"
             ],
             [
              0.8888888888888888,
              "#fdca26"
             ],
             [
              1,
              "#f0f921"
             ]
            ],
            "type": "heatmapgl"
           }
          ],
          "histogram": [
           {
            "marker": {
             "pattern": {
              "fillmode": "overlay",
              "size": 10,
              "solidity": 0.2
             }
            },
            "type": "histogram"
           }
          ],
          "histogram2d": [
           {
            "colorbar": {
             "outlinewidth": 0,
             "ticks": ""
            },
            "colorscale": [
             [
              0,
              "#0d0887"
             ],
             [
              0.1111111111111111,
              "#46039f"
             ],
             [
              0.2222222222222222,
              "#7201a8"
             ],
             [
              0.3333333333333333,
              "#9c179e"
             ],
             [
              0.4444444444444444,
              "#bd3786"
             ],
             [
              0.5555555555555556,
              "#d8576b"
             ],
             [
              0.6666666666666666,
              "#ed7953"
             ],
             [
              0.7777777777777778,
              "#fb9f3a"
             ],
             [
              0.8888888888888888,
              "#fdca26"
             ],
             [
              1,
              "#f0f921"
             ]
            ],
            "type": "histogram2d"
           }
          ],
          "histogram2dcontour": [
           {
            "colorbar": {
             "outlinewidth": 0,
             "ticks": ""
            },
            "colorscale": [
             [
              0,
              "#0d0887"
             ],
             [
              0.1111111111111111,
              "#46039f"
             ],
             [
              0.2222222222222222,
              "#7201a8"
             ],
             [
              0.3333333333333333,
              "#9c179e"
             ],
             [
              0.4444444444444444,
              "#bd3786"
             ],
             [
              0.5555555555555556,
              "#d8576b"
             ],
             [
              0.6666666666666666,
              "#ed7953"
             ],
             [
              0.7777777777777778,
              "#fb9f3a"
             ],
             [
              0.8888888888888888,
              "#fdca26"
             ],
             [
              1,
              "#f0f921"
             ]
            ],
            "type": "histogram2dcontour"
           }
          ],
          "mesh3d": [
           {
            "colorbar": {
             "outlinewidth": 0,
             "ticks": ""
            },
            "type": "mesh3d"
           }
          ],
          "parcoords": [
           {
            "line": {
             "colorbar": {
              "outlinewidth": 0,
              "ticks": ""
             }
            },
            "type": "parcoords"
           }
          ],
          "pie": [
           {
            "automargin": true,
            "type": "pie"
           }
          ],
          "scatter": [
           {
            "fillpattern": {
             "fillmode": "overlay",
             "size": 10,
             "solidity": 0.2
            },
            "type": "scatter"
           }
          ],
          "scatter3d": [
           {
            "line": {
             "colorbar": {
              "outlinewidth": 0,
              "ticks": ""
             }
            },
            "marker": {
             "colorbar": {
              "outlinewidth": 0,
              "ticks": ""
             }
            },
            "type": "scatter3d"
           }
          ],
          "scattercarpet": [
           {
            "marker": {
             "colorbar": {
              "outlinewidth": 0,
              "ticks": ""
             }
            },
            "type": "scattercarpet"
           }
          ],
          "scattergeo": [
           {
            "marker": {
             "colorbar": {
              "outlinewidth": 0,
              "ticks": ""
             }
            },
            "type": "scattergeo"
           }
          ],
          "scattergl": [
           {
            "marker": {
             "colorbar": {
              "outlinewidth": 0,
              "ticks": ""
             }
            },
            "type": "scattergl"
           }
          ],
          "scattermapbox": [
           {
            "marker": {
             "colorbar": {
              "outlinewidth": 0,
              "ticks": ""
             }
            },
            "type": "scattermapbox"
           }
          ],
          "scatterpolar": [
           {
            "marker": {
             "colorbar": {
              "outlinewidth": 0,
              "ticks": ""
             }
            },
            "type": "scatterpolar"
           }
          ],
          "scatterpolargl": [
           {
            "marker": {
             "colorbar": {
              "outlinewidth": 0,
              "ticks": ""
             }
            },
            "type": "scatterpolargl"
           }
          ],
          "scatterternary": [
           {
            "marker": {
             "colorbar": {
              "outlinewidth": 0,
              "ticks": ""
             }
            },
            "type": "scatterternary"
           }
          ],
          "surface": [
           {
            "colorbar": {
             "outlinewidth": 0,
             "ticks": ""
            },
            "colorscale": [
             [
              0,
              "#0d0887"
             ],
             [
              0.1111111111111111,
              "#46039f"
             ],
             [
              0.2222222222222222,
              "#7201a8"
             ],
             [
              0.3333333333333333,
              "#9c179e"
             ],
             [
              0.4444444444444444,
              "#bd3786"
             ],
             [
              0.5555555555555556,
              "#d8576b"
             ],
             [
              0.6666666666666666,
              "#ed7953"
             ],
             [
              0.7777777777777778,
              "#fb9f3a"
             ],
             [
              0.8888888888888888,
              "#fdca26"
             ],
             [
              1,
              "#f0f921"
             ]
            ],
            "type": "surface"
           }
          ],
          "table": [
           {
            "cells": {
             "fill": {
              "color": "#EBF0F8"
             },
             "line": {
              "color": "white"
             }
            },
            "header": {
             "fill": {
              "color": "#C8D4E3"
             },
             "line": {
              "color": "white"
             }
            },
            "type": "table"
           }
          ]
         },
         "layout": {
          "annotationdefaults": {
           "arrowcolor": "#2a3f5f",
           "arrowhead": 0,
           "arrowwidth": 1
          },
          "autotypenumbers": "strict",
          "coloraxis": {
           "colorbar": {
            "outlinewidth": 0,
            "ticks": ""
           }
          },
          "colorscale": {
           "diverging": [
            [
             0,
             "#8e0152"
            ],
            [
             0.1,
             "#c51b7d"
            ],
            [
             0.2,
             "#de77ae"
            ],
            [
             0.3,
             "#f1b6da"
            ],
            [
             0.4,
             "#fde0ef"
            ],
            [
             0.5,
             "#f7f7f7"
            ],
            [
             0.6,
             "#e6f5d0"
            ],
            [
             0.7,
             "#b8e186"
            ],
            [
             0.8,
             "#7fbc41"
            ],
            [
             0.9,
             "#4d9221"
            ],
            [
             1,
             "#276419"
            ]
           ],
           "sequential": [
            [
             0,
             "#0d0887"
            ],
            [
             0.1111111111111111,
             "#46039f"
            ],
            [
             0.2222222222222222,
             "#7201a8"
            ],
            [
             0.3333333333333333,
             "#9c179e"
            ],
            [
             0.4444444444444444,
             "#bd3786"
            ],
            [
             0.5555555555555556,
             "#d8576b"
            ],
            [
             0.6666666666666666,
             "#ed7953"
            ],
            [
             0.7777777777777778,
             "#fb9f3a"
            ],
            [
             0.8888888888888888,
             "#fdca26"
            ],
            [
             1,
             "#f0f921"
            ]
           ],
           "sequentialminus": [
            [
             0,
             "#0d0887"
            ],
            [
             0.1111111111111111,
             "#46039f"
            ],
            [
             0.2222222222222222,
             "#7201a8"
            ],
            [
             0.3333333333333333,
             "#9c179e"
            ],
            [
             0.4444444444444444,
             "#bd3786"
            ],
            [
             0.5555555555555556,
             "#d8576b"
            ],
            [
             0.6666666666666666,
             "#ed7953"
            ],
            [
             0.7777777777777778,
             "#fb9f3a"
            ],
            [
             0.8888888888888888,
             "#fdca26"
            ],
            [
             1,
             "#f0f921"
            ]
           ]
          },
          "colorway": [
           "#636efa",
           "#EF553B",
           "#00cc96",
           "#ab63fa",
           "#FFA15A",
           "#19d3f3",
           "#FF6692",
           "#B6E880",
           "#FF97FF",
           "#FECB52"
          ],
          "font": {
           "color": "#2a3f5f"
          },
          "geo": {
           "bgcolor": "white",
           "lakecolor": "white",
           "landcolor": "#E5ECF6",
           "showlakes": true,
           "showland": true,
           "subunitcolor": "white"
          },
          "hoverlabel": {
           "align": "left"
          },
          "hovermode": "closest",
          "mapbox": {
           "style": "light"
          },
          "paper_bgcolor": "white",
          "plot_bgcolor": "#E5ECF6",
          "polar": {
           "angularaxis": {
            "gridcolor": "white",
            "linecolor": "white",
            "ticks": ""
           },
           "bgcolor": "#E5ECF6",
           "radialaxis": {
            "gridcolor": "white",
            "linecolor": "white",
            "ticks": ""
           }
          },
          "scene": {
           "xaxis": {
            "backgroundcolor": "#E5ECF6",
            "gridcolor": "white",
            "gridwidth": 2,
            "linecolor": "white",
            "showbackground": true,
            "ticks": "",
            "zerolinecolor": "white"
           },
           "yaxis": {
            "backgroundcolor": "#E5ECF6",
            "gridcolor": "white",
            "gridwidth": 2,
            "linecolor": "white",
            "showbackground": true,
            "ticks": "",
            "zerolinecolor": "white"
           },
           "zaxis": {
            "backgroundcolor": "#E5ECF6",
            "gridcolor": "white",
            "gridwidth": 2,
            "linecolor": "white",
            "showbackground": true,
            "ticks": "",
            "zerolinecolor": "white"
           }
          },
          "shapedefaults": {
           "line": {
            "color": "#2a3f5f"
           }
          },
          "ternary": {
           "aaxis": {
            "gridcolor": "white",
            "linecolor": "white",
            "ticks": ""
           },
           "baxis": {
            "gridcolor": "white",
            "linecolor": "white",
            "ticks": ""
           },
           "bgcolor": "#E5ECF6",
           "caxis": {
            "gridcolor": "white",
            "linecolor": "white",
            "ticks": ""
           }
          },
          "title": {
           "x": 0.05
          },
          "xaxis": {
           "automargin": true,
           "gridcolor": "white",
           "linecolor": "white",
           "ticks": "",
           "title": {
            "standoff": 15
           },
           "zerolinecolor": "white",
           "zerolinewidth": 2
          },
          "yaxis": {
           "automargin": true,
           "gridcolor": "white",
           "linecolor": "white",
           "ticks": "",
           "title": {
            "standoff": 15
           },
           "zerolinecolor": "white",
           "zerolinewidth": 2
          }
         }
        },
        "title": {
         "text": "Distribution of the country"
        },
        "width": 800
       }
      }
     },
     "metadata": {},
     "output_type": "display_data"
    }
   ],
   "source": [
    "country_df = kickstarter_df[\"country\"].value_counts().to_frame().reset_index()\n",
    "# map the country codes to country names\n",
    "country_df[\"country\"] = country_df[\"country\"].map(\n",
    "    {\n",
    "        \"US\": \"United States\",\n",
    "        \"GB\": \"United Kingdom\",\n",
    "        \"CA\": \"Canada\",\n",
    "        \"AU\": \"Australia\",\n",
    "        \"DE\": \"Germany\",\n",
    "        \"FR\": \"France\",\n",
    "        \"NL\": \"Netherlands\",\n",
    "        \"IT\": \"Italy\",\n",
    "        \"ES\": \"Spain\",\n",
    "        \"SE\": \"Sweden\",\n",
    "        \"MX\": \"Mexico\",\n",
    "        \"NZ\": \"New Zealand\",\n",
    "        \"DK\": \"Denmark\",\n",
    "        \"IE\": \"Ireland\",\n",
    "        \"CH\": \"Switzerland\",\n",
    "        \"NO\": \"Norway\",\n",
    "        \"BE\": \"Belgium\",\n",
    "        \"AT\": \"Austria\",\n",
    "        \"HK\": \"Hong Kong\",\n",
    "        \"SG\": \"Singapore\",\n",
    "        \"LU\": \"Luxembourg\",\n",
    "        \"JP\": \"Japan\",\n",
    "    }\n",
    ")\n",
    "country_norm = kickstarter_df.value_counts([\"country\"], normalize=True)\n",
    "country_df[\"norm\"] = country_norm.values\n",
    "country_df[\"label\"] = country_df.apply(\n",
    "    lambda x: x[\"country\"] if x[\"norm\"] >= 0.03 else \"other\", axis=1\n",
    ")\n",
    "other_country_df = country_df[country_df[\"label\"] == \"other\"]\n",
    "country_df.drop(other_country_df.index, inplace=True)\n",
    "group_other_country_df = other_country_df.groupby(\"label\").sum().reset_index()\n",
    "country_df = pd.concat([country_df, group_other_country_df], axis=0)\n",
    "country_df.drop(columns=[\"country\"], inplace=True)\n",
    "import plotly.graph_objects as go\n",
    "\n",
    "# Pie chart for the distribution of the country, category, currency, created_at_weekday\n",
    "# under 3\n",
    "fig = go.Figure()\n",
    "fig.add_trace(\n",
    "    go.Pie(\n",
    "        labels=country_df[\"label\"],\n",
    "        values=country_df[\"count\"],\n",
    "        name=\"country\",\n",
    "        text=country_df[\"label\"],\n",
    "    )\n",
    ")\n",
    "fig.update_layout(\n",
    "    width=800,\n",
    "    height=800,\n",
    "    title_text=\"Distribution of the country\",\n",
    "    annotations=[\n",
    "        dict(\n",
    "            showarrow=False,\n",
    "            x=0.5,\n",
    "            y=0.5,\n",
    "            text=\"\",\n",
    "            font_size=20,\n",
    "            font_family=\"Arial\",\n",
    "        )\n",
    "    ],\n",
    ")\n",
    "\n",
    "fig.show()\n"
   ]
  },
  {
   "cell_type": "code",
   "execution_count": 16,
   "metadata": {},
   "outputs": [
    {
     "data": {
      "application/vnd.plotly.v1+json": {
       "config": {
        "plotlyServerURL": "https://plot.ly"
       },
       "data": [
        {
         "labels": [
          "US Dollar",
          "British Pound Sterling",
          "Euro",
          "Canadian Dollar",
          "Australian Dollar",
          "other"
         ],
         "name": "currency",
         "text": [
          "US Dollar",
          "British Pound Sterling",
          "Euro",
          "Canadian Dollar",
          "Australian Dollar",
          "other"
         ],
         "type": "pie",
         "values": [
          14141,
          2498,
          1618,
          1098,
          674,
          603
         ]
        }
       ],
       "layout": {
        "annotations": [
         {
          "font": {
           "family": "Arial",
           "size": 20
          },
          "showarrow": false,
          "text": "",
          "x": 0.5,
          "y": 0.5
         }
        ],
        "height": 800,
        "template": {
         "data": {
          "bar": [
           {
            "error_x": {
             "color": "#2a3f5f"
            },
            "error_y": {
             "color": "#2a3f5f"
            },
            "marker": {
             "line": {
              "color": "#E5ECF6",
              "width": 0.5
             },
             "pattern": {
              "fillmode": "overlay",
              "size": 10,
              "solidity": 0.2
             }
            },
            "type": "bar"
           }
          ],
          "barpolar": [
           {
            "marker": {
             "line": {
              "color": "#E5ECF6",
              "width": 0.5
             },
             "pattern": {
              "fillmode": "overlay",
              "size": 10,
              "solidity": 0.2
             }
            },
            "type": "barpolar"
           }
          ],
          "carpet": [
           {
            "aaxis": {
             "endlinecolor": "#2a3f5f",
             "gridcolor": "white",
             "linecolor": "white",
             "minorgridcolor": "white",
             "startlinecolor": "#2a3f5f"
            },
            "baxis": {
             "endlinecolor": "#2a3f5f",
             "gridcolor": "white",
             "linecolor": "white",
             "minorgridcolor": "white",
             "startlinecolor": "#2a3f5f"
            },
            "type": "carpet"
           }
          ],
          "choropleth": [
           {
            "colorbar": {
             "outlinewidth": 0,
             "ticks": ""
            },
            "type": "choropleth"
           }
          ],
          "contour": [
           {
            "colorbar": {
             "outlinewidth": 0,
             "ticks": ""
            },
            "colorscale": [
             [
              0,
              "#0d0887"
             ],
             [
              0.1111111111111111,
              "#46039f"
             ],
             [
              0.2222222222222222,
              "#7201a8"
             ],
             [
              0.3333333333333333,
              "#9c179e"
             ],
             [
              0.4444444444444444,
              "#bd3786"
             ],
             [
              0.5555555555555556,
              "#d8576b"
             ],
             [
              0.6666666666666666,
              "#ed7953"
             ],
             [
              0.7777777777777778,
              "#fb9f3a"
             ],
             [
              0.8888888888888888,
              "#fdca26"
             ],
             [
              1,
              "#f0f921"
             ]
            ],
            "type": "contour"
           }
          ],
          "contourcarpet": [
           {
            "colorbar": {
             "outlinewidth": 0,
             "ticks": ""
            },
            "type": "contourcarpet"
           }
          ],
          "heatmap": [
           {
            "colorbar": {
             "outlinewidth": 0,
             "ticks": ""
            },
            "colorscale": [
             [
              0,
              "#0d0887"
             ],
             [
              0.1111111111111111,
              "#46039f"
             ],
             [
              0.2222222222222222,
              "#7201a8"
             ],
             [
              0.3333333333333333,
              "#9c179e"
             ],
             [
              0.4444444444444444,
              "#bd3786"
             ],
             [
              0.5555555555555556,
              "#d8576b"
             ],
             [
              0.6666666666666666,
              "#ed7953"
             ],
             [
              0.7777777777777778,
              "#fb9f3a"
             ],
             [
              0.8888888888888888,
              "#fdca26"
             ],
             [
              1,
              "#f0f921"
             ]
            ],
            "type": "heatmap"
           }
          ],
          "heatmapgl": [
           {
            "colorbar": {
             "outlinewidth": 0,
             "ticks": ""
            },
            "colorscale": [
             [
              0,
              "#0d0887"
             ],
             [
              0.1111111111111111,
              "#46039f"
             ],
             [
              0.2222222222222222,
              "#7201a8"
             ],
             [
              0.3333333333333333,
              "#9c179e"
             ],
             [
              0.4444444444444444,
              "#bd3786"
             ],
             [
              0.5555555555555556,
              "#d8576b"
             ],
             [
              0.6666666666666666,
              "#ed7953"
             ],
             [
              0.7777777777777778,
              "#fb9f3a"
             ],
             [
              0.8888888888888888,
              "#fdca26"
             ],
             [
              1,
              "#f0f921"
             ]
            ],
            "type": "heatmapgl"
           }
          ],
          "histogram": [
           {
            "marker": {
             "pattern": {
              "fillmode": "overlay",
              "size": 10,
              "solidity": 0.2
             }
            },
            "type": "histogram"
           }
          ],
          "histogram2d": [
           {
            "colorbar": {
             "outlinewidth": 0,
             "ticks": ""
            },
            "colorscale": [
             [
              0,
              "#0d0887"
             ],
             [
              0.1111111111111111,
              "#46039f"
             ],
             [
              0.2222222222222222,
              "#7201a8"
             ],
             [
              0.3333333333333333,
              "#9c179e"
             ],
             [
              0.4444444444444444,
              "#bd3786"
             ],
             [
              0.5555555555555556,
              "#d8576b"
             ],
             [
              0.6666666666666666,
              "#ed7953"
             ],
             [
              0.7777777777777778,
              "#fb9f3a"
             ],
             [
              0.8888888888888888,
              "#fdca26"
             ],
             [
              1,
              "#f0f921"
             ]
            ],
            "type": "histogram2d"
           }
          ],
          "histogram2dcontour": [
           {
            "colorbar": {
             "outlinewidth": 0,
             "ticks": ""
            },
            "colorscale": [
             [
              0,
              "#0d0887"
             ],
             [
              0.1111111111111111,
              "#46039f"
             ],
             [
              0.2222222222222222,
              "#7201a8"
             ],
             [
              0.3333333333333333,
              "#9c179e"
             ],
             [
              0.4444444444444444,
              "#bd3786"
             ],
             [
              0.5555555555555556,
              "#d8576b"
             ],
             [
              0.6666666666666666,
              "#ed7953"
             ],
             [
              0.7777777777777778,
              "#fb9f3a"
             ],
             [
              0.8888888888888888,
              "#fdca26"
             ],
             [
              1,
              "#f0f921"
             ]
            ],
            "type": "histogram2dcontour"
           }
          ],
          "mesh3d": [
           {
            "colorbar": {
             "outlinewidth": 0,
             "ticks": ""
            },
            "type": "mesh3d"
           }
          ],
          "parcoords": [
           {
            "line": {
             "colorbar": {
              "outlinewidth": 0,
              "ticks": ""
             }
            },
            "type": "parcoords"
           }
          ],
          "pie": [
           {
            "automargin": true,
            "type": "pie"
           }
          ],
          "scatter": [
           {
            "fillpattern": {
             "fillmode": "overlay",
             "size": 10,
             "solidity": 0.2
            },
            "type": "scatter"
           }
          ],
          "scatter3d": [
           {
            "line": {
             "colorbar": {
              "outlinewidth": 0,
              "ticks": ""
             }
            },
            "marker": {
             "colorbar": {
              "outlinewidth": 0,
              "ticks": ""
             }
            },
            "type": "scatter3d"
           }
          ],
          "scattercarpet": [
           {
            "marker": {
             "colorbar": {
              "outlinewidth": 0,
              "ticks": ""
             }
            },
            "type": "scattercarpet"
           }
          ],
          "scattergeo": [
           {
            "marker": {
             "colorbar": {
              "outlinewidth": 0,
              "ticks": ""
             }
            },
            "type": "scattergeo"
           }
          ],
          "scattergl": [
           {
            "marker": {
             "colorbar": {
              "outlinewidth": 0,
              "ticks": ""
             }
            },
            "type": "scattergl"
           }
          ],
          "scattermapbox": [
           {
            "marker": {
             "colorbar": {
              "outlinewidth": 0,
              "ticks": ""
             }
            },
            "type": "scattermapbox"
           }
          ],
          "scatterpolar": [
           {
            "marker": {
             "colorbar": {
              "outlinewidth": 0,
              "ticks": ""
             }
            },
            "type": "scatterpolar"
           }
          ],
          "scatterpolargl": [
           {
            "marker": {
             "colorbar": {
              "outlinewidth": 0,
              "ticks": ""
             }
            },
            "type": "scatterpolargl"
           }
          ],
          "scatterternary": [
           {
            "marker": {
             "colorbar": {
              "outlinewidth": 0,
              "ticks": ""
             }
            },
            "type": "scatterternary"
           }
          ],
          "surface": [
           {
            "colorbar": {
             "outlinewidth": 0,
             "ticks": ""
            },
            "colorscale": [
             [
              0,
              "#0d0887"
             ],
             [
              0.1111111111111111,
              "#46039f"
             ],
             [
              0.2222222222222222,
              "#7201a8"
             ],
             [
              0.3333333333333333,
              "#9c179e"
             ],
             [
              0.4444444444444444,
              "#bd3786"
             ],
             [
              0.5555555555555556,
              "#d8576b"
             ],
             [
              0.6666666666666666,
              "#ed7953"
             ],
             [
              0.7777777777777778,
              "#fb9f3a"
             ],
             [
              0.8888888888888888,
              "#fdca26"
             ],
             [
              1,
              "#f0f921"
             ]
            ],
            "type": "surface"
           }
          ],
          "table": [
           {
            "cells": {
             "fill": {
              "color": "#EBF0F8"
             },
             "line": {
              "color": "white"
             }
            },
            "header": {
             "fill": {
              "color": "#C8D4E3"
             },
             "line": {
              "color": "white"
             }
            },
            "type": "table"
           }
          ]
         },
         "layout": {
          "annotationdefaults": {
           "arrowcolor": "#2a3f5f",
           "arrowhead": 0,
           "arrowwidth": 1
          },
          "autotypenumbers": "strict",
          "coloraxis": {
           "colorbar": {
            "outlinewidth": 0,
            "ticks": ""
           }
          },
          "colorscale": {
           "diverging": [
            [
             0,
             "#8e0152"
            ],
            [
             0.1,
             "#c51b7d"
            ],
            [
             0.2,
             "#de77ae"
            ],
            [
             0.3,
             "#f1b6da"
            ],
            [
             0.4,
             "#fde0ef"
            ],
            [
             0.5,
             "#f7f7f7"
            ],
            [
             0.6,
             "#e6f5d0"
            ],
            [
             0.7,
             "#b8e186"
            ],
            [
             0.8,
             "#7fbc41"
            ],
            [
             0.9,
             "#4d9221"
            ],
            [
             1,
             "#276419"
            ]
           ],
           "sequential": [
            [
             0,
             "#0d0887"
            ],
            [
             0.1111111111111111,
             "#46039f"
            ],
            [
             0.2222222222222222,
             "#7201a8"
            ],
            [
             0.3333333333333333,
             "#9c179e"
            ],
            [
             0.4444444444444444,
             "#bd3786"
            ],
            [
             0.5555555555555556,
             "#d8576b"
            ],
            [
             0.6666666666666666,
             "#ed7953"
            ],
            [
             0.7777777777777778,
             "#fb9f3a"
            ],
            [
             0.8888888888888888,
             "#fdca26"
            ],
            [
             1,
             "#f0f921"
            ]
           ],
           "sequentialminus": [
            [
             0,
             "#0d0887"
            ],
            [
             0.1111111111111111,
             "#46039f"
            ],
            [
             0.2222222222222222,
             "#7201a8"
            ],
            [
             0.3333333333333333,
             "#9c179e"
            ],
            [
             0.4444444444444444,
             "#bd3786"
            ],
            [
             0.5555555555555556,
             "#d8576b"
            ],
            [
             0.6666666666666666,
             "#ed7953"
            ],
            [
             0.7777777777777778,
             "#fb9f3a"
            ],
            [
             0.8888888888888888,
             "#fdca26"
            ],
            [
             1,
             "#f0f921"
            ]
           ]
          },
          "colorway": [
           "#636efa",
           "#EF553B",
           "#00cc96",
           "#ab63fa",
           "#FFA15A",
           "#19d3f3",
           "#FF6692",
           "#B6E880",
           "#FF97FF",
           "#FECB52"
          ],
          "font": {
           "color": "#2a3f5f"
          },
          "geo": {
           "bgcolor": "white",
           "lakecolor": "white",
           "landcolor": "#E5ECF6",
           "showlakes": true,
           "showland": true,
           "subunitcolor": "white"
          },
          "hoverlabel": {
           "align": "left"
          },
          "hovermode": "closest",
          "mapbox": {
           "style": "light"
          },
          "paper_bgcolor": "white",
          "plot_bgcolor": "#E5ECF6",
          "polar": {
           "angularaxis": {
            "gridcolor": "white",
            "linecolor": "white",
            "ticks": ""
           },
           "bgcolor": "#E5ECF6",
           "radialaxis": {
            "gridcolor": "white",
            "linecolor": "white",
            "ticks": ""
           }
          },
          "scene": {
           "xaxis": {
            "backgroundcolor": "#E5ECF6",
            "gridcolor": "white",
            "gridwidth": 2,
            "linecolor": "white",
            "showbackground": true,
            "ticks": "",
            "zerolinecolor": "white"
           },
           "yaxis": {
            "backgroundcolor": "#E5ECF6",
            "gridcolor": "white",
            "gridwidth": 2,
            "linecolor": "white",
            "showbackground": true,
            "ticks": "",
            "zerolinecolor": "white"
           },
           "zaxis": {
            "backgroundcolor": "#E5ECF6",
            "gridcolor": "white",
            "gridwidth": 2,
            "linecolor": "white",
            "showbackground": true,
            "ticks": "",
            "zerolinecolor": "white"
           }
          },
          "shapedefaults": {
           "line": {
            "color": "#2a3f5f"
           }
          },
          "ternary": {
           "aaxis": {
            "gridcolor": "white",
            "linecolor": "white",
            "ticks": ""
           },
           "baxis": {
            "gridcolor": "white",
            "linecolor": "white",
            "ticks": ""
           },
           "bgcolor": "#E5ECF6",
           "caxis": {
            "gridcolor": "white",
            "linecolor": "white",
            "ticks": ""
           }
          },
          "title": {
           "x": 0.05
          },
          "xaxis": {
           "automargin": true,
           "gridcolor": "white",
           "linecolor": "white",
           "ticks": "",
           "title": {
            "standoff": 15
           },
           "zerolinecolor": "white",
           "zerolinewidth": 2
          },
          "yaxis": {
           "automargin": true,
           "gridcolor": "white",
           "linecolor": "white",
           "ticks": "",
           "title": {
            "standoff": 15
           },
           "zerolinecolor": "white",
           "zerolinewidth": 2
          }
         }
        },
        "title": {
         "text": "Distribution of the currency"
        },
        "width": 800
       }
      }
     },
     "metadata": {},
     "output_type": "display_data"
    }
   ],
   "source": [
    "currency_df = kickstarter_df[\"currency\"].value_counts().to_frame().reset_index()\n",
    "currency_df[\"currency\"] = currency_df[\"currency\"].map(\n",
    "    {\n",
    "        \"USD\": \"US Dollar\",\n",
    "        \"GBP\": \"British Pound Sterling\",\n",
    "        \"CAD\": \"Canadian Dollar\",\n",
    "        \"AUD\": \"Australian Dollar\",\n",
    "        \"EUR\": \"Euro\",\n",
    "        \"SEK\": \"Swedish Krona\",\n",
    "        \"NZD\": \"New Zealand Dollar\",\n",
    "        \"DKK\": \"Danish Krone\",\n",
    "        \"NOK\": \"Norwegian Krone\",\n",
    "        \"CHF\": \"Swiss Franc\",\n",
    "        \"MXN\": \"Mexican Peso\",\n",
    "        \"HKD\": \"Hong Kong Dollar\",\n",
    "        \"SGD\": \"Singapore Dollar\",\n",
    "        \"JPY\": \"Japanese Yen\",\n",
    "    }\n",
    ")\n",
    "currency_norm = kickstarter_df.value_counts([\"currency\"], normalize=True)\n",
    "currency_df[\"norm\"] = currency_norm.values\n",
    "currency_df[\"label\"] = currency_df.apply(\n",
    "    lambda x: x[\"currency\"] if x[\"norm\"] >= 0.03 else \"other\", axis=1\n",
    ")\n",
    "other_currency_df = currency_df[currency_df[\"label\"] == \"other\"]\n",
    "currency_df.drop(other_currency_df.index, inplace=True)\n",
    "group_other_currency_df = other_currency_df.groupby(\"label\").sum().reset_index()\n",
    "currency_df = pd.concat([currency_df, group_other_currency_df], axis=0)\n",
    "currency_df.drop(columns=[\"currency\"], inplace=True)\n",
    "import plotly.graph_objects as go\n",
    "\n",
    "# Pie chart for the distribution of the country, category, currency, created_at_weekday\n",
    "# under 3\n",
    "fig = go.Figure()\n",
    "fig.add_trace(\n",
    "    go.Pie(\n",
    "        labels=currency_df[\"label\"],\n",
    "        values=currency_df[\"count\"],\n",
    "        name=\"currency\",\n",
    "        text=currency_df[\"label\"],\n",
    "    )\n",
    ")\n",
    "fig.update_layout(\n",
    "    width=800,\n",
    "    height=800,\n",
    "    title_text=\"Distribution of the currency\",\n",
    "    annotations=[\n",
    "        dict(\n",
    "            showarrow=False,\n",
    "            x=0.5,\n",
    "            y=0.5,\n",
    "            text=\"\",\n",
    "            font_size=20,\n",
    "            font_family=\"Arial\",\n",
    "        )\n",
    "    ],\n",
    ")\n",
    "fig.show()"
   ]
  },
  {
   "cell_type": "code",
   "execution_count": 17,
   "metadata": {},
   "outputs": [
    {
     "data": {
      "application/vnd.plotly.v1+json": {
       "config": {
        "plotlyServerURL": "https://plot.ly"
       },
       "data": [
        {
         "labels": [
          "Web",
          "Hardware",
          "Software",
          "Gadgets",
          "Plays",
          "Apps",
          "Wearables",
          "Musical",
          "other"
         ],
         "name": "category",
         "text": [
          "Web",
          "Hardware",
          "Software",
          "Gadgets",
          "Plays",
          "Apps",
          "Wearables",
          "Musical",
          "other"
         ],
         "type": "pie",
         "values": [
          3325,
          3248,
          2631,
          2336,
          1184,
          1168,
          971,
          791,
          3089
         ]
        }
       ],
       "layout": {
        "annotations": [
         {
          "font": {
           "family": "Arial",
           "size": 20
          },
          "showarrow": false,
          "text": "",
          "x": 0.5,
          "y": 0.5
         }
        ],
        "height": 800,
        "template": {
         "data": {
          "bar": [
           {
            "error_x": {
             "color": "#2a3f5f"
            },
            "error_y": {
             "color": "#2a3f5f"
            },
            "marker": {
             "line": {
              "color": "#E5ECF6",
              "width": 0.5
             },
             "pattern": {
              "fillmode": "overlay",
              "size": 10,
              "solidity": 0.2
             }
            },
            "type": "bar"
           }
          ],
          "barpolar": [
           {
            "marker": {
             "line": {
              "color": "#E5ECF6",
              "width": 0.5
             },
             "pattern": {
              "fillmode": "overlay",
              "size": 10,
              "solidity": 0.2
             }
            },
            "type": "barpolar"
           }
          ],
          "carpet": [
           {
            "aaxis": {
             "endlinecolor": "#2a3f5f",
             "gridcolor": "white",
             "linecolor": "white",
             "minorgridcolor": "white",
             "startlinecolor": "#2a3f5f"
            },
            "baxis": {
             "endlinecolor": "#2a3f5f",
             "gridcolor": "white",
             "linecolor": "white",
             "minorgridcolor": "white",
             "startlinecolor": "#2a3f5f"
            },
            "type": "carpet"
           }
          ],
          "choropleth": [
           {
            "colorbar": {
             "outlinewidth": 0,
             "ticks": ""
            },
            "type": "choropleth"
           }
          ],
          "contour": [
           {
            "colorbar": {
             "outlinewidth": 0,
             "ticks": ""
            },
            "colorscale": [
             [
              0,
              "#0d0887"
             ],
             [
              0.1111111111111111,
              "#46039f"
             ],
             [
              0.2222222222222222,
              "#7201a8"
             ],
             [
              0.3333333333333333,
              "#9c179e"
             ],
             [
              0.4444444444444444,
              "#bd3786"
             ],
             [
              0.5555555555555556,
              "#d8576b"
             ],
             [
              0.6666666666666666,
              "#ed7953"
             ],
             [
              0.7777777777777778,
              "#fb9f3a"
             ],
             [
              0.8888888888888888,
              "#fdca26"
             ],
             [
              1,
              "#f0f921"
             ]
            ],
            "type": "contour"
           }
          ],
          "contourcarpet": [
           {
            "colorbar": {
             "outlinewidth": 0,
             "ticks": ""
            },
            "type": "contourcarpet"
           }
          ],
          "heatmap": [
           {
            "colorbar": {
             "outlinewidth": 0,
             "ticks": ""
            },
            "colorscale": [
             [
              0,
              "#0d0887"
             ],
             [
              0.1111111111111111,
              "#46039f"
             ],
             [
              0.2222222222222222,
              "#7201a8"
             ],
             [
              0.3333333333333333,
              "#9c179e"
             ],
             [
              0.4444444444444444,
              "#bd3786"
             ],
             [
              0.5555555555555556,
              "#d8576b"
             ],
             [
              0.6666666666666666,
              "#ed7953"
             ],
             [
              0.7777777777777778,
              "#fb9f3a"
             ],
             [
              0.8888888888888888,
              "#fdca26"
             ],
             [
              1,
              "#f0f921"
             ]
            ],
            "type": "heatmap"
           }
          ],
          "heatmapgl": [
           {
            "colorbar": {
             "outlinewidth": 0,
             "ticks": ""
            },
            "colorscale": [
             [
              0,
              "#0d0887"
             ],
             [
              0.1111111111111111,
              "#46039f"
             ],
             [
              0.2222222222222222,
              "#7201a8"
             ],
             [
              0.3333333333333333,
              "#9c179e"
             ],
             [
              0.4444444444444444,
              "#bd3786"
             ],
             [
              0.5555555555555556,
              "#d8576b"
             ],
             [
              0.6666666666666666,
              "#ed7953"
             ],
             [
              0.7777777777777778,
              "#fb9f3a"
             ],
             [
              0.8888888888888888,
              "#fdca26"
             ],
             [
              1,
              "#f0f921"
             ]
            ],
            "type": "heatmapgl"
           }
          ],
          "histogram": [
           {
            "marker": {
             "pattern": {
              "fillmode": "overlay",
              "size": 10,
              "solidity": 0.2
             }
            },
            "type": "histogram"
           }
          ],
          "histogram2d": [
           {
            "colorbar": {
             "outlinewidth": 0,
             "ticks": ""
            },
            "colorscale": [
             [
              0,
              "#0d0887"
             ],
             [
              0.1111111111111111,
              "#46039f"
             ],
             [
              0.2222222222222222,
              "#7201a8"
             ],
             [
              0.3333333333333333,
              "#9c179e"
             ],
             [
              0.4444444444444444,
              "#bd3786"
             ],
             [
              0.5555555555555556,
              "#d8576b"
             ],
             [
              0.6666666666666666,
              "#ed7953"
             ],
             [
              0.7777777777777778,
              "#fb9f3a"
             ],
             [
              0.8888888888888888,
              "#fdca26"
             ],
             [
              1,
              "#f0f921"
             ]
            ],
            "type": "histogram2d"
           }
          ],
          "histogram2dcontour": [
           {
            "colorbar": {
             "outlinewidth": 0,
             "ticks": ""
            },
            "colorscale": [
             [
              0,
              "#0d0887"
             ],
             [
              0.1111111111111111,
              "#46039f"
             ],
             [
              0.2222222222222222,
              "#7201a8"
             ],
             [
              0.3333333333333333,
              "#9c179e"
             ],
             [
              0.4444444444444444,
              "#bd3786"
             ],
             [
              0.5555555555555556,
              "#d8576b"
             ],
             [
              0.6666666666666666,
              "#ed7953"
             ],
             [
              0.7777777777777778,
              "#fb9f3a"
             ],
             [
              0.8888888888888888,
              "#fdca26"
             ],
             [
              1,
              "#f0f921"
             ]
            ],
            "type": "histogram2dcontour"
           }
          ],
          "mesh3d": [
           {
            "colorbar": {
             "outlinewidth": 0,
             "ticks": ""
            },
            "type": "mesh3d"
           }
          ],
          "parcoords": [
           {
            "line": {
             "colorbar": {
              "outlinewidth": 0,
              "ticks": ""
             }
            },
            "type": "parcoords"
           }
          ],
          "pie": [
           {
            "automargin": true,
            "type": "pie"
           }
          ],
          "scatter": [
           {
            "fillpattern": {
             "fillmode": "overlay",
             "size": 10,
             "solidity": 0.2
            },
            "type": "scatter"
           }
          ],
          "scatter3d": [
           {
            "line": {
             "colorbar": {
              "outlinewidth": 0,
              "ticks": ""
             }
            },
            "marker": {
             "colorbar": {
              "outlinewidth": 0,
              "ticks": ""
             }
            },
            "type": "scatter3d"
           }
          ],
          "scattercarpet": [
           {
            "marker": {
             "colorbar": {
              "outlinewidth": 0,
              "ticks": ""
             }
            },
            "type": "scattercarpet"
           }
          ],
          "scattergeo": [
           {
            "marker": {
             "colorbar": {
              "outlinewidth": 0,
              "ticks": ""
             }
            },
            "type": "scattergeo"
           }
          ],
          "scattergl": [
           {
            "marker": {
             "colorbar": {
              "outlinewidth": 0,
              "ticks": ""
             }
            },
            "type": "scattergl"
           }
          ],
          "scattermapbox": [
           {
            "marker": {
             "colorbar": {
              "outlinewidth": 0,
              "ticks": ""
             }
            },
            "type": "scattermapbox"
           }
          ],
          "scatterpolar": [
           {
            "marker": {
             "colorbar": {
              "outlinewidth": 0,
              "ticks": ""
             }
            },
            "type": "scatterpolar"
           }
          ],
          "scatterpolargl": [
           {
            "marker": {
             "colorbar": {
              "outlinewidth": 0,
              "ticks": ""
             }
            },
            "type": "scatterpolargl"
           }
          ],
          "scatterternary": [
           {
            "marker": {
             "colorbar": {
              "outlinewidth": 0,
              "ticks": ""
             }
            },
            "type": "scatterternary"
           }
          ],
          "surface": [
           {
            "colorbar": {
             "outlinewidth": 0,
             "ticks": ""
            },
            "colorscale": [
             [
              0,
              "#0d0887"
             ],
             [
              0.1111111111111111,
              "#46039f"
             ],
             [
              0.2222222222222222,
              "#7201a8"
             ],
             [
              0.3333333333333333,
              "#9c179e"
             ],
             [
              0.4444444444444444,
              "#bd3786"
             ],
             [
              0.5555555555555556,
              "#d8576b"
             ],
             [
              0.6666666666666666,
              "#ed7953"
             ],
             [
              0.7777777777777778,
              "#fb9f3a"
             ],
             [
              0.8888888888888888,
              "#fdca26"
             ],
             [
              1,
              "#f0f921"
             ]
            ],
            "type": "surface"
           }
          ],
          "table": [
           {
            "cells": {
             "fill": {
              "color": "#EBF0F8"
             },
             "line": {
              "color": "white"
             }
            },
            "header": {
             "fill": {
              "color": "#C8D4E3"
             },
             "line": {
              "color": "white"
             }
            },
            "type": "table"
           }
          ]
         },
         "layout": {
          "annotationdefaults": {
           "arrowcolor": "#2a3f5f",
           "arrowhead": 0,
           "arrowwidth": 1
          },
          "autotypenumbers": "strict",
          "coloraxis": {
           "colorbar": {
            "outlinewidth": 0,
            "ticks": ""
           }
          },
          "colorscale": {
           "diverging": [
            [
             0,
             "#8e0152"
            ],
            [
             0.1,
             "#c51b7d"
            ],
            [
             0.2,
             "#de77ae"
            ],
            [
             0.3,
             "#f1b6da"
            ],
            [
             0.4,
             "#fde0ef"
            ],
            [
             0.5,
             "#f7f7f7"
            ],
            [
             0.6,
             "#e6f5d0"
            ],
            [
             0.7,
             "#b8e186"
            ],
            [
             0.8,
             "#7fbc41"
            ],
            [
             0.9,
             "#4d9221"
            ],
            [
             1,
             "#276419"
            ]
           ],
           "sequential": [
            [
             0,
             "#0d0887"
            ],
            [
             0.1111111111111111,
             "#46039f"
            ],
            [
             0.2222222222222222,
             "#7201a8"
            ],
            [
             0.3333333333333333,
             "#9c179e"
            ],
            [
             0.4444444444444444,
             "#bd3786"
            ],
            [
             0.5555555555555556,
             "#d8576b"
            ],
            [
             0.6666666666666666,
             "#ed7953"
            ],
            [
             0.7777777777777778,
             "#fb9f3a"
            ],
            [
             0.8888888888888888,
             "#fdca26"
            ],
            [
             1,
             "#f0f921"
            ]
           ],
           "sequentialminus": [
            [
             0,
             "#0d0887"
            ],
            [
             0.1111111111111111,
             "#46039f"
            ],
            [
             0.2222222222222222,
             "#7201a8"
            ],
            [
             0.3333333333333333,
             "#9c179e"
            ],
            [
             0.4444444444444444,
             "#bd3786"
            ],
            [
             0.5555555555555556,
             "#d8576b"
            ],
            [
             0.6666666666666666,
             "#ed7953"
            ],
            [
             0.7777777777777778,
             "#fb9f3a"
            ],
            [
             0.8888888888888888,
             "#fdca26"
            ],
            [
             1,
             "#f0f921"
            ]
           ]
          },
          "colorway": [
           "#636efa",
           "#EF553B",
           "#00cc96",
           "#ab63fa",
           "#FFA15A",
           "#19d3f3",
           "#FF6692",
           "#B6E880",
           "#FF97FF",
           "#FECB52"
          ],
          "font": {
           "color": "#2a3f5f"
          },
          "geo": {
           "bgcolor": "white",
           "lakecolor": "white",
           "landcolor": "#E5ECF6",
           "showlakes": true,
           "showland": true,
           "subunitcolor": "white"
          },
          "hoverlabel": {
           "align": "left"
          },
          "hovermode": "closest",
          "mapbox": {
           "style": "light"
          },
          "paper_bgcolor": "white",
          "plot_bgcolor": "#E5ECF6",
          "polar": {
           "angularaxis": {
            "gridcolor": "white",
            "linecolor": "white",
            "ticks": ""
           },
           "bgcolor": "#E5ECF6",
           "radialaxis": {
            "gridcolor": "white",
            "linecolor": "white",
            "ticks": ""
           }
          },
          "scene": {
           "xaxis": {
            "backgroundcolor": "#E5ECF6",
            "gridcolor": "white",
            "gridwidth": 2,
            "linecolor": "white",
            "showbackground": true,
            "ticks": "",
            "zerolinecolor": "white"
           },
           "yaxis": {
            "backgroundcolor": "#E5ECF6",
            "gridcolor": "white",
            "gridwidth": 2,
            "linecolor": "white",
            "showbackground": true,
            "ticks": "",
            "zerolinecolor": "white"
           },
           "zaxis": {
            "backgroundcolor": "#E5ECF6",
            "gridcolor": "white",
            "gridwidth": 2,
            "linecolor": "white",
            "showbackground": true,
            "ticks": "",
            "zerolinecolor": "white"
           }
          },
          "shapedefaults": {
           "line": {
            "color": "#2a3f5f"
           }
          },
          "ternary": {
           "aaxis": {
            "gridcolor": "white",
            "linecolor": "white",
            "ticks": ""
           },
           "baxis": {
            "gridcolor": "white",
            "linecolor": "white",
            "ticks": ""
           },
           "bgcolor": "#E5ECF6",
           "caxis": {
            "gridcolor": "white",
            "linecolor": "white",
            "ticks": ""
           }
          },
          "title": {
           "x": 0.05
          },
          "xaxis": {
           "automargin": true,
           "gridcolor": "white",
           "linecolor": "white",
           "ticks": "",
           "title": {
            "standoff": 15
           },
           "zerolinecolor": "white",
           "zerolinewidth": 2
          },
          "yaxis": {
           "automargin": true,
           "gridcolor": "white",
           "linecolor": "white",
           "ticks": "",
           "title": {
            "standoff": 15
           },
           "zerolinecolor": "white",
           "zerolinewidth": 2
          }
         }
        },
        "title": {
         "text": "Distribution of the category"
        },
        "width": 800
       }
      }
     },
     "metadata": {},
     "output_type": "display_data"
    }
   ],
   "source": [
    "category_df = kickstarter_df[\"category\"].value_counts().to_frame().reset_index()\n",
    "category_norm = kickstarter_df.value_counts([\"category\"], normalize=True)\n",
    "category_df[\"norm\"] = category_norm.values\n",
    "category_df[\"label\"] = category_df.apply(\n",
    "    lambda x: x[\"category\"] if x[\"norm\"] >= 0.03 else \"other\", axis=1\n",
    ")\n",
    "other_category_df = category_df[category_df[\"label\"] == \"other\"]\n",
    "category_df.drop(other_category_df.index, inplace=True)\n",
    "group_other_category_df = other_category_df.groupby(\"label\").sum().reset_index()\n",
    "category_df = pd.concat([category_df, group_other_category_df], axis=0)\n",
    "category_df.drop(columns=[\"category\"], inplace=True)\n",
    "import plotly.graph_objects as go\n",
    "\n",
    "# Pie chart for the distribution of the country, category, currency, created_at_weekday\n",
    "# under 3\n",
    "fig = go.Figure()\n",
    "fig.add_trace(\n",
    "    go.Pie(\n",
    "        labels=category_df[\"label\"],\n",
    "        values=category_df[\"count\"],\n",
    "        name=\"category\",\n",
    "        text=category_df[\"label\"],\n",
    "    )\n",
    ")\n",
    "fig.update_layout(\n",
    "    width=800,\n",
    "    height=800,\n",
    "    title_text=\"Distribution of the category\",\n",
    "    annotations=[\n",
    "        dict(\n",
    "            showarrow=False,\n",
    "            x=0.5,\n",
    "            y=0.5,\n",
    "            text=\"\",\n",
    "            font_size=20,\n",
    "            font_family=\"Arial\",\n",
    "        )\n",
    "    ],\n",
    ")\n",
    "fig.show()"
   ]
  },
  {
   "cell_type": "code",
   "execution_count": 18,
   "metadata": {},
   "outputs": [
    {
     "data": {
      "application/vnd.plotly.v1+json": {
       "config": {
        "plotlyServerURL": "https://plot.ly"
       },
       "data": [
        {
         "labels": [
          "Tuesday",
          "Monday",
          "Wednesday",
          "Thursday",
          "Friday",
          "Sunday",
          "Saturday"
         ],
         "name": "weekday",
         "text": [
          "Tuesday",
          "Monday",
          "Wednesday",
          "Thursday",
          "Friday",
          "Sunday",
          "Saturday"
         ],
         "type": "pie",
         "values": [
          3612,
          3474,
          3325,
          3155,
          2699,
          2277,
          2090
         ]
        }
       ],
       "layout": {
        "annotations": [
         {
          "font": {
           "family": "Arial",
           "size": 20
          },
          "showarrow": false,
          "text": "",
          "x": 0.5,
          "y": 0.5
         }
        ],
        "height": 800,
        "template": {
         "data": {
          "bar": [
           {
            "error_x": {
             "color": "#2a3f5f"
            },
            "error_y": {
             "color": "#2a3f5f"
            },
            "marker": {
             "line": {
              "color": "#E5ECF6",
              "width": 0.5
             },
             "pattern": {
              "fillmode": "overlay",
              "size": 10,
              "solidity": 0.2
             }
            },
            "type": "bar"
           }
          ],
          "barpolar": [
           {
            "marker": {
             "line": {
              "color": "#E5ECF6",
              "width": 0.5
             },
             "pattern": {
              "fillmode": "overlay",
              "size": 10,
              "solidity": 0.2
             }
            },
            "type": "barpolar"
           }
          ],
          "carpet": [
           {
            "aaxis": {
             "endlinecolor": "#2a3f5f",
             "gridcolor": "white",
             "linecolor": "white",
             "minorgridcolor": "white",
             "startlinecolor": "#2a3f5f"
            },
            "baxis": {
             "endlinecolor": "#2a3f5f",
             "gridcolor": "white",
             "linecolor": "white",
             "minorgridcolor": "white",
             "startlinecolor": "#2a3f5f"
            },
            "type": "carpet"
           }
          ],
          "choropleth": [
           {
            "colorbar": {
             "outlinewidth": 0,
             "ticks": ""
            },
            "type": "choropleth"
           }
          ],
          "contour": [
           {
            "colorbar": {
             "outlinewidth": 0,
             "ticks": ""
            },
            "colorscale": [
             [
              0,
              "#0d0887"
             ],
             [
              0.1111111111111111,
              "#46039f"
             ],
             [
              0.2222222222222222,
              "#7201a8"
             ],
             [
              0.3333333333333333,
              "#9c179e"
             ],
             [
              0.4444444444444444,
              "#bd3786"
             ],
             [
              0.5555555555555556,
              "#d8576b"
             ],
             [
              0.6666666666666666,
              "#ed7953"
             ],
             [
              0.7777777777777778,
              "#fb9f3a"
             ],
             [
              0.8888888888888888,
              "#fdca26"
             ],
             [
              1,
              "#f0f921"
             ]
            ],
            "type": "contour"
           }
          ],
          "contourcarpet": [
           {
            "colorbar": {
             "outlinewidth": 0,
             "ticks": ""
            },
            "type": "contourcarpet"
           }
          ],
          "heatmap": [
           {
            "colorbar": {
             "outlinewidth": 0,
             "ticks": ""
            },
            "colorscale": [
             [
              0,
              "#0d0887"
             ],
             [
              0.1111111111111111,
              "#46039f"
             ],
             [
              0.2222222222222222,
              "#7201a8"
             ],
             [
              0.3333333333333333,
              "#9c179e"
             ],
             [
              0.4444444444444444,
              "#bd3786"
             ],
             [
              0.5555555555555556,
              "#d8576b"
             ],
             [
              0.6666666666666666,
              "#ed7953"
             ],
             [
              0.7777777777777778,
              "#fb9f3a"
             ],
             [
              0.8888888888888888,
              "#fdca26"
             ],
             [
              1,
              "#f0f921"
             ]
            ],
            "type": "heatmap"
           }
          ],
          "heatmapgl": [
           {
            "colorbar": {
             "outlinewidth": 0,
             "ticks": ""
            },
            "colorscale": [
             [
              0,
              "#0d0887"
             ],
             [
              0.1111111111111111,
              "#46039f"
             ],
             [
              0.2222222222222222,
              "#7201a8"
             ],
             [
              0.3333333333333333,
              "#9c179e"
             ],
             [
              0.4444444444444444,
              "#bd3786"
             ],
             [
              0.5555555555555556,
              "#d8576b"
             ],
             [
              0.6666666666666666,
              "#ed7953"
             ],
             [
              0.7777777777777778,
              "#fb9f3a"
             ],
             [
              0.8888888888888888,
              "#fdca26"
             ],
             [
              1,
              "#f0f921"
             ]
            ],
            "type": "heatmapgl"
           }
          ],
          "histogram": [
           {
            "marker": {
             "pattern": {
              "fillmode": "overlay",
              "size": 10,
              "solidity": 0.2
             }
            },
            "type": "histogram"
           }
          ],
          "histogram2d": [
           {
            "colorbar": {
             "outlinewidth": 0,
             "ticks": ""
            },
            "colorscale": [
             [
              0,
              "#0d0887"
             ],
             [
              0.1111111111111111,
              "#46039f"
             ],
             [
              0.2222222222222222,
              "#7201a8"
             ],
             [
              0.3333333333333333,
              "#9c179e"
             ],
             [
              0.4444444444444444,
              "#bd3786"
             ],
             [
              0.5555555555555556,
              "#d8576b"
             ],
             [
              0.6666666666666666,
              "#ed7953"
             ],
             [
              0.7777777777777778,
              "#fb9f3a"
             ],
             [
              0.8888888888888888,
              "#fdca26"
             ],
             [
              1,
              "#f0f921"
             ]
            ],
            "type": "histogram2d"
           }
          ],
          "histogram2dcontour": [
           {
            "colorbar": {
             "outlinewidth": 0,
             "ticks": ""
            },
            "colorscale": [
             [
              0,
              "#0d0887"
             ],
             [
              0.1111111111111111,
              "#46039f"
             ],
             [
              0.2222222222222222,
              "#7201a8"
             ],
             [
              0.3333333333333333,
              "#9c179e"
             ],
             [
              0.4444444444444444,
              "#bd3786"
             ],
             [
              0.5555555555555556,
              "#d8576b"
             ],
             [
              0.6666666666666666,
              "#ed7953"
             ],
             [
              0.7777777777777778,
              "#fb9f3a"
             ],
             [
              0.8888888888888888,
              "#fdca26"
             ],
             [
              1,
              "#f0f921"
             ]
            ],
            "type": "histogram2dcontour"
           }
          ],
          "mesh3d": [
           {
            "colorbar": {
             "outlinewidth": 0,
             "ticks": ""
            },
            "type": "mesh3d"
           }
          ],
          "parcoords": [
           {
            "line": {
             "colorbar": {
              "outlinewidth": 0,
              "ticks": ""
             }
            },
            "type": "parcoords"
           }
          ],
          "pie": [
           {
            "automargin": true,
            "type": "pie"
           }
          ],
          "scatter": [
           {
            "fillpattern": {
             "fillmode": "overlay",
             "size": 10,
             "solidity": 0.2
            },
            "type": "scatter"
           }
          ],
          "scatter3d": [
           {
            "line": {
             "colorbar": {
              "outlinewidth": 0,
              "ticks": ""
             }
            },
            "marker": {
             "colorbar": {
              "outlinewidth": 0,
              "ticks": ""
             }
            },
            "type": "scatter3d"
           }
          ],
          "scattercarpet": [
           {
            "marker": {
             "colorbar": {
              "outlinewidth": 0,
              "ticks": ""
             }
            },
            "type": "scattercarpet"
           }
          ],
          "scattergeo": [
           {
            "marker": {
             "colorbar": {
              "outlinewidth": 0,
              "ticks": ""
             }
            },
            "type": "scattergeo"
           }
          ],
          "scattergl": [
           {
            "marker": {
             "colorbar": {
              "outlinewidth": 0,
              "ticks": ""
             }
            },
            "type": "scattergl"
           }
          ],
          "scattermapbox": [
           {
            "marker": {
             "colorbar": {
              "outlinewidth": 0,
              "ticks": ""
             }
            },
            "type": "scattermapbox"
           }
          ],
          "scatterpolar": [
           {
            "marker": {
             "colorbar": {
              "outlinewidth": 0,
              "ticks": ""
             }
            },
            "type": "scatterpolar"
           }
          ],
          "scatterpolargl": [
           {
            "marker": {
             "colorbar": {
              "outlinewidth": 0,
              "ticks": ""
             }
            },
            "type": "scatterpolargl"
           }
          ],
          "scatterternary": [
           {
            "marker": {
             "colorbar": {
              "outlinewidth": 0,
              "ticks": ""
             }
            },
            "type": "scatterternary"
           }
          ],
          "surface": [
           {
            "colorbar": {
             "outlinewidth": 0,
             "ticks": ""
            },
            "colorscale": [
             [
              0,
              "#0d0887"
             ],
             [
              0.1111111111111111,
              "#46039f"
             ],
             [
              0.2222222222222222,
              "#7201a8"
             ],
             [
              0.3333333333333333,
              "#9c179e"
             ],
             [
              0.4444444444444444,
              "#bd3786"
             ],
             [
              0.5555555555555556,
              "#d8576b"
             ],
             [
              0.6666666666666666,
              "#ed7953"
             ],
             [
              0.7777777777777778,
              "#fb9f3a"
             ],
             [
              0.8888888888888888,
              "#fdca26"
             ],
             [
              1,
              "#f0f921"
             ]
            ],
            "type": "surface"
           }
          ],
          "table": [
           {
            "cells": {
             "fill": {
              "color": "#EBF0F8"
             },
             "line": {
              "color": "white"
             }
            },
            "header": {
             "fill": {
              "color": "#C8D4E3"
             },
             "line": {
              "color": "white"
             }
            },
            "type": "table"
           }
          ]
         },
         "layout": {
          "annotationdefaults": {
           "arrowcolor": "#2a3f5f",
           "arrowhead": 0,
           "arrowwidth": 1
          },
          "autotypenumbers": "strict",
          "coloraxis": {
           "colorbar": {
            "outlinewidth": 0,
            "ticks": ""
           }
          },
          "colorscale": {
           "diverging": [
            [
             0,
             "#8e0152"
            ],
            [
             0.1,
             "#c51b7d"
            ],
            [
             0.2,
             "#de77ae"
            ],
            [
             0.3,
             "#f1b6da"
            ],
            [
             0.4,
             "#fde0ef"
            ],
            [
             0.5,
             "#f7f7f7"
            ],
            [
             0.6,
             "#e6f5d0"
            ],
            [
             0.7,
             "#b8e186"
            ],
            [
             0.8,
             "#7fbc41"
            ],
            [
             0.9,
             "#4d9221"
            ],
            [
             1,
             "#276419"
            ]
           ],
           "sequential": [
            [
             0,
             "#0d0887"
            ],
            [
             0.1111111111111111,
             "#46039f"
            ],
            [
             0.2222222222222222,
             "#7201a8"
            ],
            [
             0.3333333333333333,
             "#9c179e"
            ],
            [
             0.4444444444444444,
             "#bd3786"
            ],
            [
             0.5555555555555556,
             "#d8576b"
            ],
            [
             0.6666666666666666,
             "#ed7953"
            ],
            [
             0.7777777777777778,
             "#fb9f3a"
            ],
            [
             0.8888888888888888,
             "#fdca26"
            ],
            [
             1,
             "#f0f921"
            ]
           ],
           "sequentialminus": [
            [
             0,
             "#0d0887"
            ],
            [
             0.1111111111111111,
             "#46039f"
            ],
            [
             0.2222222222222222,
             "#7201a8"
            ],
            [
             0.3333333333333333,
             "#9c179e"
            ],
            [
             0.4444444444444444,
             "#bd3786"
            ],
            [
             0.5555555555555556,
             "#d8576b"
            ],
            [
             0.6666666666666666,
             "#ed7953"
            ],
            [
             0.7777777777777778,
             "#fb9f3a"
            ],
            [
             0.8888888888888888,
             "#fdca26"
            ],
            [
             1,
             "#f0f921"
            ]
           ]
          },
          "colorway": [
           "#636efa",
           "#EF553B",
           "#00cc96",
           "#ab63fa",
           "#FFA15A",
           "#19d3f3",
           "#FF6692",
           "#B6E880",
           "#FF97FF",
           "#FECB52"
          ],
          "font": {
           "color": "#2a3f5f"
          },
          "geo": {
           "bgcolor": "white",
           "lakecolor": "white",
           "landcolor": "#E5ECF6",
           "showlakes": true,
           "showland": true,
           "subunitcolor": "white"
          },
          "hoverlabel": {
           "align": "left"
          },
          "hovermode": "closest",
          "mapbox": {
           "style": "light"
          },
          "paper_bgcolor": "white",
          "plot_bgcolor": "#E5ECF6",
          "polar": {
           "angularaxis": {
            "gridcolor": "white",
            "linecolor": "white",
            "ticks": ""
           },
           "bgcolor": "#E5ECF6",
           "radialaxis": {
            "gridcolor": "white",
            "linecolor": "white",
            "ticks": ""
           }
          },
          "scene": {
           "xaxis": {
            "backgroundcolor": "#E5ECF6",
            "gridcolor": "white",
            "gridwidth": 2,
            "linecolor": "white",
            "showbackground": true,
            "ticks": "",
            "zerolinecolor": "white"
           },
           "yaxis": {
            "backgroundcolor": "#E5ECF6",
            "gridcolor": "white",
            "gridwidth": 2,
            "linecolor": "white",
            "showbackground": true,
            "ticks": "",
            "zerolinecolor": "white"
           },
           "zaxis": {
            "backgroundcolor": "#E5ECF6",
            "gridcolor": "white",
            "gridwidth": 2,
            "linecolor": "white",
            "showbackground": true,
            "ticks": "",
            "zerolinecolor": "white"
           }
          },
          "shapedefaults": {
           "line": {
            "color": "#2a3f5f"
           }
          },
          "ternary": {
           "aaxis": {
            "gridcolor": "white",
            "linecolor": "white",
            "ticks": ""
           },
           "baxis": {
            "gridcolor": "white",
            "linecolor": "white",
            "ticks": ""
           },
           "bgcolor": "#E5ECF6",
           "caxis": {
            "gridcolor": "white",
            "linecolor": "white",
            "ticks": ""
           }
          },
          "title": {
           "x": 0.05
          },
          "xaxis": {
           "automargin": true,
           "gridcolor": "white",
           "linecolor": "white",
           "ticks": "",
           "title": {
            "standoff": 15
           },
           "zerolinecolor": "white",
           "zerolinewidth": 2
          },
          "yaxis": {
           "automargin": true,
           "gridcolor": "white",
           "linecolor": "white",
           "ticks": "",
           "title": {
            "standoff": 15
           },
           "zerolinecolor": "white",
           "zerolinewidth": 2
          }
         }
        },
        "title": {
         "text": "Distribution of the weekday"
        },
        "width": 800
       }
      }
     },
     "metadata": {},
     "output_type": "display_data"
    }
   ],
   "source": [
    "weekday_df = kickstarter_df[\"created_at_weekday\"].value_counts().to_frame().reset_index()\n",
    "weekday_norm = kickstarter_df.value_counts([\"created_at_weekday\"], normalize=True)\n",
    "weekday_df[\"norm\"] = weekday_norm.values\n",
    "weekday_df[\"label\"] = weekday_df.apply(\n",
    "    lambda x: x[\"created_at_weekday\"] if x[\"norm\"] >= 0.03 else \"other\", axis=1\n",
    ")\n",
    "other_weekday_df = weekday_df[weekday_df[\"label\"] == \"other\"]\n",
    "weekday_df.drop(other_weekday_df.index, inplace=True)\n",
    "group_other_weekday_df = other_weekday_df.groupby(\"label\").sum().reset_index()\n",
    "weekday_df = pd.concat([weekday_df, group_other_weekday_df], axis=0)\n",
    "weekday_df.drop(columns=[\"created_at_weekday\"], inplace=True)\n",
    "import plotly.graph_objects as go\n",
    "\n",
    "# Pie chart for the distribution of the country, category, currency, created_at_weekday\n",
    "# under 3\n",
    "fig = go.Figure()\n",
    "fig.add_trace(\n",
    "    go.Pie(\n",
    "        labels=weekday_df[\"label\"],\n",
    "        values=weekday_df[\"count\"],\n",
    "        name=\"weekday\",\n",
    "        text=weekday_df[\"label\"],\n",
    "    )\n",
    ")\n",
    "fig.update_layout(\n",
    "    width=800,\n",
    "    height=800,\n",
    "    title_text=\"Distribution of the weekday\",\n",
    "    annotations=[\n",
    "        dict(\n",
    "            showarrow=False,\n",
    "            x=0.5,\n",
    "            y=0.5,\n",
    "            text=\"\",\n",
    "            font_size=20,\n",
    "            font_family=\"Arial\",\n",
    "        )\n",
    "    ],\n",
    ")\n",
    "fig.show()"
   ]
  },
  {
   "cell_type": "code",
   "execution_count": 19,
   "metadata": {},
   "outputs": [],
   "source": [
    "from sklearn.impute import KNNImputer\n",
    "\n",
    "knn_imputer = KNNImputer(n_neighbors=5)\n"
   ]
  },
  {
   "cell_type": "code",
   "execution_count": 20,
   "metadata": {},
   "outputs": [],
   "source": [
    "# handle missing values for category\n",
    "catgory_dict = {\n",
    "    name: i for i, name in enumerate(kickstarter_df[\"category\"].unique().tolist())\n",
    "}\n",
    "\n",
    "\n",
    "def get_category_id(x):\n",
    "    return np.nan if pd.isnull(x) else catgory_dict[x]\n",
    "\n",
    "\n",
    "# transform all \n",
    "kickstarter_df[\"category\"] = kickstarter_df[\"category\"].apply(get_category_id)\n",
    "kickstarter_df[\"category\"] = knn_imputer.fit_transform(\n",
    "    kickstarter_df[\"category\"].values.reshape(-1, 1)\n",
    ")\n",
    "\n",
    "# inverse transform category\n",
    "kickstarter_df[\"category\"] = kickstarter_df[\"category\"].apply(\n",
    "    lambda x: list(catgory_dict.keys())[int(x)]\n",
    ")\n"
   ]
  },
  {
   "cell_type": "code",
   "execution_count": 21,
   "metadata": {},
   "outputs": [
    {
     "data": {
      "text/plain": [
       "0"
      ]
     },
     "execution_count": 21,
     "metadata": {},
     "output_type": "execute_result"
    }
   ],
   "source": [
    "kickstarter_df[\"category\"].isnull().sum()"
   ]
  },
  {
   "cell_type": "code",
   "execution_count": 22,
   "metadata": {},
   "outputs": [],
   "source": [
    "# handle missing values for name_len\n",
    "kickstarter_df[\"name_len\"] = knn_imputer.fit_transform(kickstarter_df[[\"name_len\"]])\n"
   ]
  },
  {
   "cell_type": "code",
   "execution_count": 23,
   "metadata": {},
   "outputs": [],
   "source": [
    "# handle missing values for name_len_clean\n",
    "kickstarter_df[\"name_len_clean\"] = knn_imputer.fit_transform(\n",
    "    kickstarter_df[[\"name_len_clean\"]]\n",
    ")\n"
   ]
  },
  {
   "cell_type": "code",
   "execution_count": 24,
   "metadata": {},
   "outputs": [],
   "source": [
    "# handle missing values for blurb_len\n",
    "kickstarter_df[\"blurb_len\"] = knn_imputer.fit_transform(kickstarter_df[[\"blurb_len\"]])"
   ]
  },
  {
   "cell_type": "code",
   "execution_count": 25,
   "metadata": {},
   "outputs": [],
   "source": [
    "# handle missing values for name_len_clean\n",
    "kickstarter_df[\"blurb_len_clean\"] = knn_imputer.fit_transform(\n",
    "    kickstarter_df[[\"blurb_len_clean\"]]\n",
    ")\n"
   ]
  },
  {
   "cell_type": "code",
   "execution_count": 26,
   "metadata": {},
   "outputs": [
    {
     "data": {
      "text/plain": [
       "blurb_len_clean    0\n",
       "blurb_len          0\n",
       "name_len           0\n",
       "name_len_clean     0\n",
       "category           0\n",
       "dtype: int64"
      ]
     },
     "execution_count": 26,
     "metadata": {},
     "output_type": "execute_result"
    }
   ],
   "source": [
    "kickstarter_df[\n",
    "    [\"blurb_len_clean\", \"blurb_len\", \"name_len\", \"name_len_clean\", \"category\"]\n",
    "].isnull().sum()\n"
   ]
  },
  {
   "cell_type": "code",
   "execution_count": 27,
   "metadata": {},
   "outputs": [
    {
     "data": {
      "text/plain": [
       "Series([], dtype: int64)"
      ]
     },
     "execution_count": 27,
     "metadata": {},
     "output_type": "execute_result"
    }
   ],
   "source": [
    "kickstarter_df.isnull().sum()[kickstarter_df.isnull().sum() > 0]"
   ]
  },
  {
   "cell_type": "code",
   "execution_count": 28,
   "metadata": {},
   "outputs": [
    {
     "data": {
      "text/plain": [
       "0"
      ]
     },
     "execution_count": 28,
     "metadata": {},
     "output_type": "execute_result"
    }
   ],
   "source": [
    "kickstarter_df.isnull().any(axis=1).sum()\n"
   ]
  },
  {
   "attachments": {},
   "cell_type": "markdown",
   "metadata": {},
   "source": [
    "# Statistical info"
   ]
  },
  {
   "cell_type": "code",
   "execution_count": 29,
   "metadata": {},
   "outputs": [
    {
     "data": {
      "text/html": [
       "<div>\n",
       "<style scoped>\n",
       "    .dataframe tbody tr th:only-of-type {\n",
       "        vertical-align: middle;\n",
       "    }\n",
       "\n",
       "    .dataframe tbody tr th {\n",
       "        vertical-align: top;\n",
       "    }\n",
       "\n",
       "    .dataframe thead th {\n",
       "        text-align: right;\n",
       "    }\n",
       "</style>\n",
       "<table border=\"1\" class=\"dataframe\">\n",
       "  <thead>\n",
       "    <tr style=\"text-align: right;\">\n",
       "      <th></th>\n",
       "      <th>goal</th>\n",
       "      <th>pledged</th>\n",
       "      <th>backers_count</th>\n",
       "      <th>static_usd_rate</th>\n",
       "      <th>usd_pledged</th>\n",
       "      <th>name_len</th>\n",
       "      <th>name_len_clean</th>\n",
       "      <th>blurb_len</th>\n",
       "      <th>blurb_len_clean</th>\n",
       "      <th>deadline_month</th>\n",
       "      <th>...</th>\n",
       "      <th>launched_at_yr</th>\n",
       "      <th>launched_at_hr</th>\n",
       "      <th>create_to_launch_days</th>\n",
       "      <th>launch_to_deadline_days</th>\n",
       "      <th>launch_to_state_change_days</th>\n",
       "      <th>SuccessfulBool</th>\n",
       "      <th>USorGB</th>\n",
       "      <th>TOPCOUNTRY</th>\n",
       "      <th>LaunchedTuesday</th>\n",
       "      <th>DeadlineWeekend</th>\n",
       "    </tr>\n",
       "  </thead>\n",
       "  <tbody>\n",
       "    <tr>\n",
       "      <th>count</th>\n",
       "      <td>20632.0</td>\n",
       "      <td>20632.0</td>\n",
       "      <td>20632.0</td>\n",
       "      <td>20632.0</td>\n",
       "      <td>20632.0</td>\n",
       "      <td>20632.0</td>\n",
       "      <td>20632.0</td>\n",
       "      <td>20632.0</td>\n",
       "      <td>20632.0</td>\n",
       "      <td>20632.0</td>\n",
       "      <td>...</td>\n",
       "      <td>20632.0</td>\n",
       "      <td>20632.0</td>\n",
       "      <td>20632.0</td>\n",
       "      <td>20632.0</td>\n",
       "      <td>20632.0</td>\n",
       "      <td>20632.0</td>\n",
       "      <td>20632.0</td>\n",
       "      <td>20632.0</td>\n",
       "      <td>20632.0</td>\n",
       "      <td>20632.0</td>\n",
       "    </tr>\n",
       "    <tr>\n",
       "      <th>mean</th>\n",
       "      <td>94104.965285</td>\n",
       "      <td>21392.675739</td>\n",
       "      <td>183.675843</td>\n",
       "      <td>1.039363</td>\n",
       "      <td>20915.907911</td>\n",
       "      <td>5.940806</td>\n",
       "      <td>5.292578</td>\n",
       "      <td>18.991177</td>\n",
       "      <td>13.081204</td>\n",
       "      <td>6.707784</td>\n",
       "      <td>...</td>\n",
       "      <td>2014.752084</td>\n",
       "      <td>12.417168</td>\n",
       "      <td>49.577598</td>\n",
       "      <td>34.716896</td>\n",
       "      <td>31.169397</td>\n",
       "      <td>0.291683</td>\n",
       "      <td>0.806466</td>\n",
       "      <td>0.816208</td>\n",
       "      <td>0.225136</td>\n",
       "      <td>0.292022</td>\n",
       "    </tr>\n",
       "    <tr>\n",
       "      <th>std</th>\n",
       "      <td>1335511.390003</td>\n",
       "      <td>120497.251802</td>\n",
       "      <td>1222.012658</td>\n",
       "      <td>0.230419</td>\n",
       "      <td>115471.73309</td>\n",
       "      <td>2.825776</td>\n",
       "      <td>2.417875</td>\n",
       "      <td>4.631809</td>\n",
       "      <td>3.283149</td>\n",
       "      <td>3.41142</td>\n",
       "      <td>...</td>\n",
       "      <td>1.261752</td>\n",
       "      <td>5.574409</td>\n",
       "      <td>111.094601</td>\n",
       "      <td>11.873143</td>\n",
       "      <td>14.279705</td>\n",
       "      <td>0.454548</td>\n",
       "      <td>0.395078</td>\n",
       "      <td>0.387324</td>\n",
       "      <td>0.417682</td>\n",
       "      <td>0.454703</td>\n",
       "    </tr>\n",
       "    <tr>\n",
       "      <th>min</th>\n",
       "      <td>1.0</td>\n",
       "      <td>0.0</td>\n",
       "      <td>0.0</td>\n",
       "      <td>0.045641</td>\n",
       "      <td>0.0</td>\n",
       "      <td>1.0</td>\n",
       "      <td>1.0</td>\n",
       "      <td>1.0</td>\n",
       "      <td>1.0</td>\n",
       "      <td>1.0</td>\n",
       "      <td>...</td>\n",
       "      <td>2009.0</td>\n",
       "      <td>0.0</td>\n",
       "      <td>0.0</td>\n",
       "      <td>1.0</td>\n",
       "      <td>0.0</td>\n",
       "      <td>0.0</td>\n",
       "      <td>0.0</td>\n",
       "      <td>0.0</td>\n",
       "      <td>0.0</td>\n",
       "      <td>0.0</td>\n",
       "    </tr>\n",
       "    <tr>\n",
       "      <th>25%</th>\n",
       "      <td>4000.0</td>\n",
       "      <td>25.0</td>\n",
       "      <td>2.0</td>\n",
       "      <td>1.0</td>\n",
       "      <td>25.0</td>\n",
       "      <td>4.0</td>\n",
       "      <td>3.0</td>\n",
       "      <td>17.0</td>\n",
       "      <td>11.0</td>\n",
       "      <td>4.0</td>\n",
       "      <td>...</td>\n",
       "      <td>2014.0</td>\n",
       "      <td>9.0</td>\n",
       "      <td>3.0</td>\n",
       "      <td>30.0</td>\n",
       "      <td>28.0</td>\n",
       "      <td>0.0</td>\n",
       "      <td>1.0</td>\n",
       "      <td>1.0</td>\n",
       "      <td>0.0</td>\n",
       "      <td>0.0</td>\n",
       "    </tr>\n",
       "    <tr>\n",
       "      <th>50%</th>\n",
       "      <td>14000.0</td>\n",
       "      <td>695.0</td>\n",
       "      <td>12.0</td>\n",
       "      <td>1.0</td>\n",
       "      <td>716.301193</td>\n",
       "      <td>6.0</td>\n",
       "      <td>5.0</td>\n",
       "      <td>20.0</td>\n",
       "      <td>13.0</td>\n",
       "      <td>7.0</td>\n",
       "      <td>...</td>\n",
       "      <td>2015.0</td>\n",
       "      <td>12.0</td>\n",
       "      <td>14.0</td>\n",
       "      <td>30.0</td>\n",
       "      <td>30.0</td>\n",
       "      <td>0.0</td>\n",
       "      <td>1.0</td>\n",
       "      <td>1.0</td>\n",
       "      <td>0.0</td>\n",
       "      <td>0.0</td>\n",
       "    </tr>\n",
       "    <tr>\n",
       "      <th>75%</th>\n",
       "      <td>50000.0</td>\n",
       "      <td>5954.25</td>\n",
       "      <td>63.0</td>\n",
       "      <td>1.0</td>\n",
       "      <td>6004.628177</td>\n",
       "      <td>8.0</td>\n",
       "      <td>7.0</td>\n",
       "      <td>22.0</td>\n",
       "      <td>15.0</td>\n",
       "      <td>10.0</td>\n",
       "      <td>...</td>\n",
       "      <td>2016.0</td>\n",
       "      <td>16.0</td>\n",
       "      <td>45.0</td>\n",
       "      <td>40.0</td>\n",
       "      <td>35.0</td>\n",
       "      <td>1.0</td>\n",
       "      <td>1.0</td>\n",
       "      <td>1.0</td>\n",
       "      <td>0.0</td>\n",
       "      <td>1.0</td>\n",
       "    </tr>\n",
       "    <tr>\n",
       "      <th>max</th>\n",
       "      <td>100000000.0</td>\n",
       "      <td>6225354.98</td>\n",
       "      <td>105857.0</td>\n",
       "      <td>1.715913</td>\n",
       "      <td>6225354.98</td>\n",
       "      <td>16.0</td>\n",
       "      <td>14.0</td>\n",
       "      <td>35.0</td>\n",
       "      <td>30.0</td>\n",
       "      <td>12.0</td>\n",
       "      <td>...</td>\n",
       "      <td>2017.0</td>\n",
       "      <td>23.0</td>\n",
       "      <td>1754.0</td>\n",
       "      <td>91.0</td>\n",
       "      <td>91.0</td>\n",
       "      <td>1.0</td>\n",
       "      <td>1.0</td>\n",
       "      <td>1.0</td>\n",
       "      <td>1.0</td>\n",
       "      <td>1.0</td>\n",
       "    </tr>\n",
       "  </tbody>\n",
       "</table>\n",
       "<p>8 rows × 33 columns</p>\n",
       "</div>"
      ],
      "text/plain": [
       "                 goal        pledged  backers_count  static_usd_rate   \n",
       "count         20632.0        20632.0        20632.0          20632.0  \\\n",
       "mean     94104.965285   21392.675739     183.675843         1.039363   \n",
       "std    1335511.390003  120497.251802    1222.012658         0.230419   \n",
       "min               1.0            0.0            0.0         0.045641   \n",
       "25%            4000.0           25.0            2.0              1.0   \n",
       "50%           14000.0          695.0           12.0              1.0   \n",
       "75%           50000.0        5954.25           63.0              1.0   \n",
       "max       100000000.0     6225354.98       105857.0         1.715913   \n",
       "\n",
       "        usd_pledged  name_len  name_len_clean  blurb_len  blurb_len_clean   \n",
       "count       20632.0   20632.0         20632.0    20632.0          20632.0  \\\n",
       "mean   20915.907911  5.940806        5.292578  18.991177        13.081204   \n",
       "std    115471.73309  2.825776        2.417875   4.631809         3.283149   \n",
       "min             0.0       1.0             1.0        1.0              1.0   \n",
       "25%            25.0       4.0             3.0       17.0             11.0   \n",
       "50%      716.301193       6.0             5.0       20.0             13.0   \n",
       "75%     6004.628177       8.0             7.0       22.0             15.0   \n",
       "max      6225354.98      16.0            14.0       35.0             30.0   \n",
       "\n",
       "       deadline_month  ...  launched_at_yr  launched_at_hr   \n",
       "count         20632.0  ...         20632.0         20632.0  \\\n",
       "mean         6.707784  ...     2014.752084       12.417168   \n",
       "std           3.41142  ...        1.261752        5.574409   \n",
       "min               1.0  ...          2009.0             0.0   \n",
       "25%               4.0  ...          2014.0             9.0   \n",
       "50%               7.0  ...          2015.0            12.0   \n",
       "75%              10.0  ...          2016.0            16.0   \n",
       "max              12.0  ...          2017.0            23.0   \n",
       "\n",
       "       create_to_launch_days  launch_to_deadline_days   \n",
       "count                20632.0                  20632.0  \\\n",
       "mean               49.577598                34.716896   \n",
       "std               111.094601                11.873143   \n",
       "min                      0.0                      1.0   \n",
       "25%                      3.0                     30.0   \n",
       "50%                     14.0                     30.0   \n",
       "75%                     45.0                     40.0   \n",
       "max                   1754.0                     91.0   \n",
       "\n",
       "       launch_to_state_change_days  SuccessfulBool    USorGB  TOPCOUNTRY   \n",
       "count                      20632.0         20632.0   20632.0     20632.0  \\\n",
       "mean                     31.169397        0.291683  0.806466    0.816208   \n",
       "std                      14.279705        0.454548  0.395078    0.387324   \n",
       "min                            0.0             0.0       0.0         0.0   \n",
       "25%                           28.0             0.0       1.0         1.0   \n",
       "50%                           30.0             0.0       1.0         1.0   \n",
       "75%                           35.0             1.0       1.0         1.0   \n",
       "max                           91.0             1.0       1.0         1.0   \n",
       "\n",
       "       LaunchedTuesday  DeadlineWeekend  \n",
       "count          20632.0          20632.0  \n",
       "mean          0.225136         0.292022  \n",
       "std           0.417682         0.454703  \n",
       "min                0.0              0.0  \n",
       "25%                0.0              0.0  \n",
       "50%                0.0              0.0  \n",
       "75%                0.0              1.0  \n",
       "max                1.0              1.0  \n",
       "\n",
       "[8 rows x 33 columns]"
      ]
     },
     "execution_count": 29,
     "metadata": {},
     "output_type": "execute_result"
    }
   ],
   "source": [
    "kickstarter_df.describe().astype('Float64')"
   ]
  },
  {
   "cell_type": "code",
   "execution_count": 30,
   "metadata": {},
   "outputs": [
    {
     "ename": "ValueError",
     "evalue": "After pruning, no terms remain. Try a lower min_df or a higher max_df.",
     "output_type": "error",
     "traceback": [
      "\u001b[1;31m---------------------------------------------------------------------------\u001b[0m",
      "\u001b[1;31mValueError\u001b[0m                                Traceback (most recent call last)",
      "Cell \u001b[1;32mIn[30], line 8\u001b[0m\n\u001b[0;32m      2\u001b[0m \u001b[39mfrom\u001b[39;00m \u001b[39msklearn\u001b[39;00m\u001b[39m.\u001b[39;00m\u001b[39mfeature_extraction\u001b[39;00m\u001b[39m.\u001b[39;00m\u001b[39mtext\u001b[39;00m \u001b[39mimport\u001b[39;00m CountVectorizer\n\u001b[0;32m      4\u001b[0m count_vectorizer \u001b[39m=\u001b[39m CountVectorizer(\n\u001b[0;32m      5\u001b[0m     stop_words\u001b[39m=\u001b[39m\u001b[39m\"\u001b[39m\u001b[39menglish\u001b[39m\u001b[39m\"\u001b[39m, max_features\u001b[39m=\u001b[39m\u001b[39m1000\u001b[39m, max_df\u001b[39m=\u001b[39m\u001b[39m0.8\u001b[39m, min_df\u001b[39m=\u001b[39m\u001b[39m0.2\u001b[39m\n\u001b[0;32m      6\u001b[0m )\n\u001b[1;32m----> 8\u001b[0m blurb_count \u001b[39m=\u001b[39m count_vectorizer\u001b[39m.\u001b[39;49mfit_transform(kickstarter_df[\u001b[39m\"\u001b[39;49m\u001b[39mblurb\u001b[39;49m\u001b[39m\"\u001b[39;49m])\n\u001b[0;32m      9\u001b[0m blurb_count_df \u001b[39m=\u001b[39m pd\u001b[39m.\u001b[39mDataFrame(\n\u001b[0;32m     10\u001b[0m     blurb_count\u001b[39m.\u001b[39mtodense(), columns\u001b[39m=\u001b[39mcount_vectorizer\u001b[39m.\u001b[39mget_feature_names()\n\u001b[0;32m     11\u001b[0m )\n\u001b[0;32m     12\u001b[0m blurb_count_df\u001b[39m.\u001b[39mhead()\n",
      "File \u001b[1;32mc:\\Users\\Avidan.DESKTOP-RGG0UVA\\Desktop\\Personal\\final-project\\venv\\Lib\\site-packages\\sklearn\\feature_extraction\\text.py:1401\u001b[0m, in \u001b[0;36mCountVectorizer.fit_transform\u001b[1;34m(self, raw_documents, y)\u001b[0m\n\u001b[0;32m   1399\u001b[0m \u001b[39mif\u001b[39;00m max_features \u001b[39mis\u001b[39;00m \u001b[39mnot\u001b[39;00m \u001b[39mNone\u001b[39;00m:\n\u001b[0;32m   1400\u001b[0m     X \u001b[39m=\u001b[39m \u001b[39mself\u001b[39m\u001b[39m.\u001b[39m_sort_features(X, vocabulary)\n\u001b[1;32m-> 1401\u001b[0m X, \u001b[39mself\u001b[39m\u001b[39m.\u001b[39mstop_words_ \u001b[39m=\u001b[39m \u001b[39mself\u001b[39;49m\u001b[39m.\u001b[39;49m_limit_features(\n\u001b[0;32m   1402\u001b[0m     X, vocabulary, max_doc_count, min_doc_count, max_features\n\u001b[0;32m   1403\u001b[0m )\n\u001b[0;32m   1404\u001b[0m \u001b[39mif\u001b[39;00m max_features \u001b[39mis\u001b[39;00m \u001b[39mNone\u001b[39;00m:\n\u001b[0;32m   1405\u001b[0m     X \u001b[39m=\u001b[39m \u001b[39mself\u001b[39m\u001b[39m.\u001b[39m_sort_features(X, vocabulary)\n",
      "File \u001b[1;32mc:\\Users\\Avidan.DESKTOP-RGG0UVA\\Desktop\\Personal\\final-project\\venv\\Lib\\site-packages\\sklearn\\feature_extraction\\text.py:1253\u001b[0m, in \u001b[0;36mCountVectorizer._limit_features\u001b[1;34m(self, X, vocabulary, high, low, limit)\u001b[0m\n\u001b[0;32m   1251\u001b[0m kept_indices \u001b[39m=\u001b[39m np\u001b[39m.\u001b[39mwhere(mask)[\u001b[39m0\u001b[39m]\n\u001b[0;32m   1252\u001b[0m \u001b[39mif\u001b[39;00m \u001b[39mlen\u001b[39m(kept_indices) \u001b[39m==\u001b[39m \u001b[39m0\u001b[39m:\n\u001b[1;32m-> 1253\u001b[0m     \u001b[39mraise\u001b[39;00m \u001b[39mValueError\u001b[39;00m(\n\u001b[0;32m   1254\u001b[0m         \u001b[39m\"\u001b[39m\u001b[39mAfter pruning, no terms remain. Try a lower min_df or a higher max_df.\u001b[39m\u001b[39m\"\u001b[39m\n\u001b[0;32m   1255\u001b[0m     )\n\u001b[0;32m   1256\u001b[0m \u001b[39mreturn\u001b[39;00m X[:, kept_indices], removed_terms\n",
      "\u001b[1;31mValueError\u001b[0m: After pruning, no terms remain. Try a lower min_df or a higher max_df."
     ]
    }
   ],
   "source": [
    "# count vectorizer for blurb\n",
    "from sklearn.feature_extraction.text import CountVectorizer\n",
    "\n",
    "count_vectorizer = CountVectorizer(\n",
    "    stop_words=\"english\", max_features=1000, max_df=0.8, min_df=0.2\n",
    ")\n",
    "\n",
    "blurb_count = count_vectorizer.fit_transform(kickstarter_df[\"blurb\"])\n",
    "blurb_count_df = pd.DataFrame(\n",
    "    blurb_count.todense(), columns=count_vectorizer.get_feature_names()\n",
    ")\n",
    "blurb_count_df.head()"
   ]
  },
  {
   "attachments": {},
   "cell_type": "markdown",
   "metadata": {},
   "source": [
    "# Check the cases of the \"SuccessfulBool\" (dependent) variable"
   ]
  },
  {
   "cell_type": "code",
   "execution_count": 36,
   "metadata": {},
   "outputs": [
    {
     "data": {
      "text/plain": [
       "SuccessfulBool\n",
       "0    14614\n",
       "1     6018\n",
       "Name: count, dtype: int64"
      ]
     },
     "execution_count": 36,
     "metadata": {},
     "output_type": "execute_result"
    }
   ],
   "source": [
    "kickstarter_df[\"SuccessfulBool\"].value_counts()"
   ]
  },
  {
   "attachments": {},
   "cell_type": "markdown",
   "metadata": {},
   "source": [
    "# Hyphotesis 8: Is feature like \"category\" has an impact on the success of the project?"
   ]
  },
  {
   "cell_type": "code",
   "execution_count": 37,
   "metadata": {},
   "outputs": [
    {
     "data": {
      "text/plain": [
       "Index(['photo', 'name', 'blurb', 'goal', 'pledged', 'state', 'slug',\n",
       "       'disable_communication', 'country', 'currency', 'currency_symbol',\n",
       "       'currency_trailing_code', 'deadline', 'state_changed_at', 'created_at',\n",
       "       'launched_at', 'staff_pick', 'backers_count', 'static_usd_rate',\n",
       "       'usd_pledged', 'creator', 'category', 'profile', 'spotlight', 'urls',\n",
       "       'source_url', 'name_len', 'name_len_clean', 'blurb_len',\n",
       "       'blurb_len_clean', 'deadline_weekday', 'state_changed_at_weekday',\n",
       "       'created_at_weekday', 'launched_at_weekday', 'deadline_month',\n",
       "       'deadline_day', 'deadline_yr', 'deadline_hr', 'state_changed_at_month',\n",
       "       'state_changed_at_day', 'state_changed_at_yr', 'state_changed_at_hr',\n",
       "       'created_at_month', 'created_at_day', 'created_at_yr', 'created_at_hr',\n",
       "       'launched_at_month', 'launched_at_day', 'launched_at_yr',\n",
       "       'launched_at_hr', 'create_to_launch', 'launch_to_deadline',\n",
       "       'launch_to_state_change', 'create_to_launch_days',\n",
       "       'launch_to_deadline_days', 'launch_to_state_change_days',\n",
       "       'SuccessfulBool', 'USorGB', 'TOPCOUNTRY', 'LaunchedTuesday',\n",
       "       'DeadlineWeekend'],\n",
       "      dtype='object')"
      ]
     },
     "execution_count": 37,
     "metadata": {},
     "output_type": "execute_result"
    }
   ],
   "source": [
    "kickstarter_df.columns"
   ]
  },
  {
   "cell_type": "code",
   "execution_count": 38,
   "metadata": {},
   "outputs": [],
   "source": [
    "h8_df = kickstarter_df[[\"category\", \"blurb\", \"SuccessfulBool\"]]\n"
   ]
  },
  {
   "attachments": {},
   "cell_type": "markdown",
   "metadata": {},
   "source": [
    "# Convert category into dummy variables"
   ]
  },
  {
   "cell_type": "code",
   "execution_count": 39,
   "metadata": {},
   "outputs": [],
   "source": [
    "dummy_df = pd.get_dummies(h8_df[\"category\"], prefix=\"category\", drop_first=True).astype(\n",
    "    int\n",
    ")\n"
   ]
  },
  {
   "cell_type": "code",
   "execution_count": 40,
   "metadata": {},
   "outputs": [],
   "source": [
    "# concatenate the dummy variable columns onto the original DataFrame\n",
    "h8_df = pd.concat([h8_df, dummy_df], axis=1)\n",
    "h8_df.drop(columns=[\"category\"], inplace=True)"
   ]
  },
  {
   "cell_type": "code",
   "execution_count": 41,
   "metadata": {},
   "outputs": [],
   "source": [
    "def get_high_correlations_to_target(df, target, threshold):\n",
    "    correlations = df.corr()[target].sort_values()\n",
    "    return correlations[abs(correlations) > threshold]"
   ]
  },
  {
   "attachments": {},
   "cell_type": "markdown",
   "metadata": {},
   "source": [
    "# feature importance with xgboost"
   ]
  },
  {
   "cell_type": "code",
   "execution_count": 42,
   "metadata": {},
   "outputs": [
    {
     "ename": "ValueError",
     "evalue": "DataFrame.dtypes for data must be int, float, bool or category. When categorical type is supplied, The experimental DMatrix parameter`enable_categorical` must be set to `True`.  Invalid columns:blurb: object",
     "output_type": "error",
     "traceback": [
      "\u001b[1;31m---------------------------------------------------------------------------\u001b[0m",
      "\u001b[1;31mValueError\u001b[0m                                Traceback (most recent call last)",
      "Cell \u001b[1;32mIn[42], line 6\u001b[0m\n\u001b[0;32m      3\u001b[0m \u001b[39mfrom\u001b[39;00m \u001b[39mxgboost\u001b[39;00m \u001b[39mimport\u001b[39;00m XGBClassifier\n\u001b[0;32m      5\u001b[0m xgb_model \u001b[39m=\u001b[39m XGBClassifier()\n\u001b[1;32m----> 6\u001b[0m xgb_model\u001b[39m.\u001b[39;49mfit(\n\u001b[0;32m      7\u001b[0m     h8_df\u001b[39m.\u001b[39;49mdrop(columns\u001b[39m=\u001b[39;49m[\u001b[39m\"\u001b[39;49m\u001b[39mSuccessfulBool\u001b[39;49m\u001b[39m\"\u001b[39;49m]),\n\u001b[0;32m      8\u001b[0m     h8_df[\u001b[39m\"\u001b[39;49m\u001b[39mSuccessfulBool\u001b[39;49m\u001b[39m\"\u001b[39;49m],\n\u001b[0;32m      9\u001b[0m )\n\u001b[0;32m     10\u001b[0m feature_importance_df \u001b[39m=\u001b[39m pd\u001b[39m.\u001b[39mDataFrame(\n\u001b[0;32m     11\u001b[0m     {\n\u001b[0;32m     12\u001b[0m         \u001b[39m\"\u001b[39m\u001b[39mfeature\u001b[39m\u001b[39m\"\u001b[39m: h8_df\u001b[39m.\u001b[39mdrop(columns\u001b[39m=\u001b[39m[\u001b[39m\"\u001b[39m\u001b[39mSuccessfulBool\u001b[39m\u001b[39m\"\u001b[39m])\u001b[39m.\u001b[39mcolumns,\n\u001b[0;32m     13\u001b[0m         \u001b[39m\"\u001b[39m\u001b[39mimportance\u001b[39m\u001b[39m\"\u001b[39m: xgb_model\u001b[39m.\u001b[39mfeature_importances_,\n\u001b[0;32m     14\u001b[0m     }\n\u001b[0;32m     15\u001b[0m )\n\u001b[0;32m     16\u001b[0m feature_importance_df\u001b[39m.\u001b[39msort_values(by\u001b[39m=\u001b[39m\u001b[39m\"\u001b[39m\u001b[39mimportance\u001b[39m\u001b[39m\"\u001b[39m, ascending\u001b[39m=\u001b[39m\u001b[39mFalse\u001b[39;00m, inplace\u001b[39m=\u001b[39m\u001b[39mTrue\u001b[39;00m)\n",
      "File \u001b[1;32mc:\\Users\\Avidan.DESKTOP-RGG0UVA\\Desktop\\Personal\\final-project\\venv\\Lib\\site-packages\\xgboost\\core.py:620\u001b[0m, in \u001b[0;36mrequire_keyword_args.<locals>.throw_if.<locals>.inner_f\u001b[1;34m(*args, **kwargs)\u001b[0m\n\u001b[0;32m    618\u001b[0m \u001b[39mfor\u001b[39;00m k, arg \u001b[39min\u001b[39;00m \u001b[39mzip\u001b[39m(sig\u001b[39m.\u001b[39mparameters, args):\n\u001b[0;32m    619\u001b[0m     kwargs[k] \u001b[39m=\u001b[39m arg\n\u001b[1;32m--> 620\u001b[0m \u001b[39mreturn\u001b[39;00m func(\u001b[39m*\u001b[39;49m\u001b[39m*\u001b[39;49mkwargs)\n",
      "File \u001b[1;32mc:\\Users\\Avidan.DESKTOP-RGG0UVA\\Desktop\\Personal\\final-project\\venv\\Lib\\site-packages\\xgboost\\sklearn.py:1471\u001b[0m, in \u001b[0;36mXGBClassifier.fit\u001b[1;34m(self, X, y, sample_weight, base_margin, eval_set, eval_metric, early_stopping_rounds, verbose, xgb_model, sample_weight_eval_set, base_margin_eval_set, feature_weights, callbacks)\u001b[0m\n\u001b[0;32m   1460\u001b[0m     params[\u001b[39m\"\u001b[39m\u001b[39mnum_class\u001b[39m\u001b[39m\"\u001b[39m] \u001b[39m=\u001b[39m \u001b[39mself\u001b[39m\u001b[39m.\u001b[39mn_classes_\n\u001b[0;32m   1462\u001b[0m (\n\u001b[0;32m   1463\u001b[0m     model,\n\u001b[0;32m   1464\u001b[0m     metric,\n\u001b[1;32m   (...)\u001b[0m\n\u001b[0;32m   1469\u001b[0m     xgb_model, eval_metric, params, early_stopping_rounds, callbacks\n\u001b[0;32m   1470\u001b[0m )\n\u001b[1;32m-> 1471\u001b[0m train_dmatrix, evals \u001b[39m=\u001b[39m _wrap_evaluation_matrices(\n\u001b[0;32m   1472\u001b[0m     missing\u001b[39m=\u001b[39;49m\u001b[39mself\u001b[39;49m\u001b[39m.\u001b[39;49mmissing,\n\u001b[0;32m   1473\u001b[0m     X\u001b[39m=\u001b[39;49mX,\n\u001b[0;32m   1474\u001b[0m     y\u001b[39m=\u001b[39;49my,\n\u001b[0;32m   1475\u001b[0m     group\u001b[39m=\u001b[39;49m\u001b[39mNone\u001b[39;49;00m,\n\u001b[0;32m   1476\u001b[0m     qid\u001b[39m=\u001b[39;49m\u001b[39mNone\u001b[39;49;00m,\n\u001b[0;32m   1477\u001b[0m     sample_weight\u001b[39m=\u001b[39;49msample_weight,\n\u001b[0;32m   1478\u001b[0m     base_margin\u001b[39m=\u001b[39;49mbase_margin,\n\u001b[0;32m   1479\u001b[0m     feature_weights\u001b[39m=\u001b[39;49mfeature_weights,\n\u001b[0;32m   1480\u001b[0m     eval_set\u001b[39m=\u001b[39;49meval_set,\n\u001b[0;32m   1481\u001b[0m     sample_weight_eval_set\u001b[39m=\u001b[39;49msample_weight_eval_set,\n\u001b[0;32m   1482\u001b[0m     base_margin_eval_set\u001b[39m=\u001b[39;49mbase_margin_eval_set,\n\u001b[0;32m   1483\u001b[0m     eval_group\u001b[39m=\u001b[39;49m\u001b[39mNone\u001b[39;49;00m,\n\u001b[0;32m   1484\u001b[0m     eval_qid\u001b[39m=\u001b[39;49m\u001b[39mNone\u001b[39;49;00m,\n\u001b[0;32m   1485\u001b[0m     create_dmatrix\u001b[39m=\u001b[39;49m\u001b[39mself\u001b[39;49m\u001b[39m.\u001b[39;49m_create_dmatrix,\n\u001b[0;32m   1486\u001b[0m     enable_categorical\u001b[39m=\u001b[39;49m\u001b[39mself\u001b[39;49m\u001b[39m.\u001b[39;49menable_categorical,\n\u001b[0;32m   1487\u001b[0m     feature_types\u001b[39m=\u001b[39;49m\u001b[39mself\u001b[39;49m\u001b[39m.\u001b[39;49mfeature_types,\n\u001b[0;32m   1488\u001b[0m )\n\u001b[0;32m   1490\u001b[0m \u001b[39mself\u001b[39m\u001b[39m.\u001b[39m_Booster \u001b[39m=\u001b[39m train(\n\u001b[0;32m   1491\u001b[0m     params,\n\u001b[0;32m   1492\u001b[0m     train_dmatrix,\n\u001b[1;32m   (...)\u001b[0m\n\u001b[0;32m   1501\u001b[0m     callbacks\u001b[39m=\u001b[39mcallbacks,\n\u001b[0;32m   1502\u001b[0m )\n\u001b[0;32m   1504\u001b[0m \u001b[39mif\u001b[39;00m \u001b[39mnot\u001b[39;00m \u001b[39mcallable\u001b[39m(\u001b[39mself\u001b[39m\u001b[39m.\u001b[39mobjective):\n",
      "File \u001b[1;32mc:\\Users\\Avidan.DESKTOP-RGG0UVA\\Desktop\\Personal\\final-project\\venv\\Lib\\site-packages\\xgboost\\sklearn.py:448\u001b[0m, in \u001b[0;36m_wrap_evaluation_matrices\u001b[1;34m(missing, X, y, group, qid, sample_weight, base_margin, feature_weights, eval_set, sample_weight_eval_set, base_margin_eval_set, eval_group, eval_qid, create_dmatrix, enable_categorical, feature_types)\u001b[0m\n\u001b[0;32m    428\u001b[0m \u001b[39mdef\u001b[39;00m \u001b[39m_wrap_evaluation_matrices\u001b[39m(\n\u001b[0;32m    429\u001b[0m     missing: \u001b[39mfloat\u001b[39m,\n\u001b[0;32m    430\u001b[0m     X: Any,\n\u001b[1;32m   (...)\u001b[0m\n\u001b[0;32m    444\u001b[0m     feature_types: Optional[FeatureTypes],\n\u001b[0;32m    445\u001b[0m ) \u001b[39m-\u001b[39m\u001b[39m>\u001b[39m Tuple[Any, List[Tuple[Any, \u001b[39mstr\u001b[39m]]]:\n\u001b[0;32m    446\u001b[0m \u001b[39m    \u001b[39m\u001b[39m\"\"\"Convert array_like evaluation matrices into DMatrix.  Perform validation on the\u001b[39;00m\n\u001b[0;32m    447\u001b[0m \u001b[39m    way.\"\"\"\u001b[39;00m\n\u001b[1;32m--> 448\u001b[0m     train_dmatrix \u001b[39m=\u001b[39m create_dmatrix(\n\u001b[0;32m    449\u001b[0m         data\u001b[39m=\u001b[39;49mX,\n\u001b[0;32m    450\u001b[0m         label\u001b[39m=\u001b[39;49my,\n\u001b[0;32m    451\u001b[0m         group\u001b[39m=\u001b[39;49mgroup,\n\u001b[0;32m    452\u001b[0m         qid\u001b[39m=\u001b[39;49mqid,\n\u001b[0;32m    453\u001b[0m         weight\u001b[39m=\u001b[39;49msample_weight,\n\u001b[0;32m    454\u001b[0m         base_margin\u001b[39m=\u001b[39;49mbase_margin,\n\u001b[0;32m    455\u001b[0m         feature_weights\u001b[39m=\u001b[39;49mfeature_weights,\n\u001b[0;32m    456\u001b[0m         missing\u001b[39m=\u001b[39;49mmissing,\n\u001b[0;32m    457\u001b[0m         enable_categorical\u001b[39m=\u001b[39;49menable_categorical,\n\u001b[0;32m    458\u001b[0m         feature_types\u001b[39m=\u001b[39;49mfeature_types,\n\u001b[0;32m    459\u001b[0m         ref\u001b[39m=\u001b[39;49m\u001b[39mNone\u001b[39;49;00m,\n\u001b[0;32m    460\u001b[0m     )\n\u001b[0;32m    462\u001b[0m     n_validation \u001b[39m=\u001b[39m \u001b[39m0\u001b[39m \u001b[39mif\u001b[39;00m eval_set \u001b[39mis\u001b[39;00m \u001b[39mNone\u001b[39;00m \u001b[39melse\u001b[39;00m \u001b[39mlen\u001b[39m(eval_set)\n\u001b[0;32m    464\u001b[0m     \u001b[39mdef\u001b[39;00m \u001b[39mvalidate_or_none\u001b[39m(meta: Optional[Sequence], name: \u001b[39mstr\u001b[39m) \u001b[39m-\u001b[39m\u001b[39m>\u001b[39m Sequence:\n",
      "File \u001b[1;32mc:\\Users\\Avidan.DESKTOP-RGG0UVA\\Desktop\\Personal\\final-project\\venv\\Lib\\site-packages\\xgboost\\sklearn.py:908\u001b[0m, in \u001b[0;36mXGBModel._create_dmatrix\u001b[1;34m(self, ref, **kwargs)\u001b[0m\n\u001b[0;32m    906\u001b[0m     \u001b[39mexcept\u001b[39;00m \u001b[39mTypeError\u001b[39;00m:  \u001b[39m# `QuantileDMatrix` supports lesser types than DMatrix\u001b[39;00m\n\u001b[0;32m    907\u001b[0m         \u001b[39mpass\u001b[39;00m\n\u001b[1;32m--> 908\u001b[0m \u001b[39mreturn\u001b[39;00m DMatrix(\u001b[39m*\u001b[39;49m\u001b[39m*\u001b[39;49mkwargs, nthread\u001b[39m=\u001b[39;49m\u001b[39mself\u001b[39;49m\u001b[39m.\u001b[39;49mn_jobs)\n",
      "File \u001b[1;32mc:\\Users\\Avidan.DESKTOP-RGG0UVA\\Desktop\\Personal\\final-project\\venv\\Lib\\site-packages\\xgboost\\core.py:620\u001b[0m, in \u001b[0;36mrequire_keyword_args.<locals>.throw_if.<locals>.inner_f\u001b[1;34m(*args, **kwargs)\u001b[0m\n\u001b[0;32m    618\u001b[0m \u001b[39mfor\u001b[39;00m k, arg \u001b[39min\u001b[39;00m \u001b[39mzip\u001b[39m(sig\u001b[39m.\u001b[39mparameters, args):\n\u001b[0;32m    619\u001b[0m     kwargs[k] \u001b[39m=\u001b[39m arg\n\u001b[1;32m--> 620\u001b[0m \u001b[39mreturn\u001b[39;00m func(\u001b[39m*\u001b[39;49m\u001b[39m*\u001b[39;49mkwargs)\n",
      "File \u001b[1;32mc:\\Users\\Avidan.DESKTOP-RGG0UVA\\Desktop\\Personal\\final-project\\venv\\Lib\\site-packages\\xgboost\\core.py:743\u001b[0m, in \u001b[0;36mDMatrix.__init__\u001b[1;34m(self, data, label, weight, base_margin, missing, silent, feature_names, feature_types, nthread, group, qid, label_lower_bound, label_upper_bound, feature_weights, enable_categorical)\u001b[0m\n\u001b[0;32m    740\u001b[0m     \u001b[39massert\u001b[39;00m \u001b[39mself\u001b[39m\u001b[39m.\u001b[39mhandle \u001b[39mis\u001b[39;00m \u001b[39mnot\u001b[39;00m \u001b[39mNone\u001b[39;00m\n\u001b[0;32m    741\u001b[0m     \u001b[39mreturn\u001b[39;00m\n\u001b[1;32m--> 743\u001b[0m handle, feature_names, feature_types \u001b[39m=\u001b[39m dispatch_data_backend(\n\u001b[0;32m    744\u001b[0m     data,\n\u001b[0;32m    745\u001b[0m     missing\u001b[39m=\u001b[39;49m\u001b[39mself\u001b[39;49m\u001b[39m.\u001b[39;49mmissing,\n\u001b[0;32m    746\u001b[0m     threads\u001b[39m=\u001b[39;49m\u001b[39mself\u001b[39;49m\u001b[39m.\u001b[39;49mnthread,\n\u001b[0;32m    747\u001b[0m     feature_names\u001b[39m=\u001b[39;49mfeature_names,\n\u001b[0;32m    748\u001b[0m     feature_types\u001b[39m=\u001b[39;49mfeature_types,\n\u001b[0;32m    749\u001b[0m     enable_categorical\u001b[39m=\u001b[39;49menable_categorical,\n\u001b[0;32m    750\u001b[0m )\n\u001b[0;32m    751\u001b[0m \u001b[39massert\u001b[39;00m handle \u001b[39mis\u001b[39;00m \u001b[39mnot\u001b[39;00m \u001b[39mNone\u001b[39;00m\n\u001b[0;32m    752\u001b[0m \u001b[39mself\u001b[39m\u001b[39m.\u001b[39mhandle \u001b[39m=\u001b[39m handle\n",
      "File \u001b[1;32mc:\\Users\\Avidan.DESKTOP-RGG0UVA\\Desktop\\Personal\\final-project\\venv\\Lib\\site-packages\\xgboost\\data.py:970\u001b[0m, in \u001b[0;36mdispatch_data_backend\u001b[1;34m(data, missing, threads, feature_names, feature_types, enable_categorical)\u001b[0m\n\u001b[0;32m    968\u001b[0m     \u001b[39mreturn\u001b[39;00m _from_tuple(data, missing, threads, feature_names, feature_types)\n\u001b[0;32m    969\u001b[0m \u001b[39mif\u001b[39;00m _is_pandas_df(data):\n\u001b[1;32m--> 970\u001b[0m     \u001b[39mreturn\u001b[39;00m _from_pandas_df(data, enable_categorical, missing, threads,\n\u001b[0;32m    971\u001b[0m                            feature_names, feature_types)\n\u001b[0;32m    972\u001b[0m \u001b[39mif\u001b[39;00m _is_pandas_series(data):\n\u001b[0;32m    973\u001b[0m     \u001b[39mreturn\u001b[39;00m _from_pandas_series(\n\u001b[0;32m    974\u001b[0m         data, missing, threads, enable_categorical, feature_names, feature_types\n\u001b[0;32m    975\u001b[0m     )\n",
      "File \u001b[1;32mc:\\Users\\Avidan.DESKTOP-RGG0UVA\\Desktop\\Personal\\final-project\\venv\\Lib\\site-packages\\xgboost\\data.py:417\u001b[0m, in \u001b[0;36m_from_pandas_df\u001b[1;34m(data, enable_categorical, missing, nthread, feature_names, feature_types)\u001b[0m\n\u001b[0;32m    409\u001b[0m \u001b[39mdef\u001b[39;00m \u001b[39m_from_pandas_df\u001b[39m(\n\u001b[0;32m    410\u001b[0m     data: DataFrame,\n\u001b[0;32m    411\u001b[0m     enable_categorical: \u001b[39mbool\u001b[39m,\n\u001b[1;32m   (...)\u001b[0m\n\u001b[0;32m    415\u001b[0m     feature_types: Optional[FeatureTypes],\n\u001b[0;32m    416\u001b[0m ) \u001b[39m-\u001b[39m\u001b[39m>\u001b[39m DispatchedDataBackendReturnType:\n\u001b[1;32m--> 417\u001b[0m     data, feature_names, feature_types \u001b[39m=\u001b[39m _transform_pandas_df(\n\u001b[0;32m    418\u001b[0m         data, enable_categorical, feature_names, feature_types\n\u001b[0;32m    419\u001b[0m     )\n\u001b[0;32m    420\u001b[0m     \u001b[39mreturn\u001b[39;00m _from_numpy_array(data, missing, nthread, feature_names, feature_types)\n",
      "File \u001b[1;32mc:\\Users\\Avidan.DESKTOP-RGG0UVA\\Desktop\\Personal\\final-project\\venv\\Lib\\site-packages\\xgboost\\data.py:391\u001b[0m, in \u001b[0;36m_transform_pandas_df\u001b[1;34m(data, enable_categorical, feature_names, feature_types, meta, meta_type)\u001b[0m\n\u001b[0;32m    379\u001b[0m \u001b[39mfrom\u001b[39;00m \u001b[39mpandas\u001b[39;00m\u001b[39m.\u001b[39;00m\u001b[39mapi\u001b[39;00m\u001b[39m.\u001b[39;00m\u001b[39mtypes\u001b[39;00m \u001b[39mimport\u001b[39;00m (\n\u001b[0;32m    380\u001b[0m     is_sparse,\n\u001b[0;32m    381\u001b[0m     is_categorical_dtype,\n\u001b[0;32m    382\u001b[0m )\n\u001b[0;32m    384\u001b[0m \u001b[39mif\u001b[39;00m \u001b[39mnot\u001b[39;00m \u001b[39mall\u001b[39m(\n\u001b[0;32m    385\u001b[0m     dtype\u001b[39m.\u001b[39mname \u001b[39min\u001b[39;00m _pandas_dtype_mapper\n\u001b[0;32m    386\u001b[0m     \u001b[39mor\u001b[39;00m is_sparse(dtype)\n\u001b[1;32m   (...)\u001b[0m\n\u001b[0;32m    389\u001b[0m     \u001b[39mfor\u001b[39;00m dtype \u001b[39min\u001b[39;00m data\u001b[39m.\u001b[39mdtypes\n\u001b[0;32m    390\u001b[0m ):\n\u001b[1;32m--> 391\u001b[0m     _invalid_dataframe_dtype(data)\n\u001b[0;32m    393\u001b[0m feature_names, feature_types \u001b[39m=\u001b[39m _pandas_feature_info(\n\u001b[0;32m    394\u001b[0m     data, meta, feature_names, feature_types, enable_categorical\n\u001b[0;32m    395\u001b[0m )\n\u001b[0;32m    397\u001b[0m transformed \u001b[39m=\u001b[39m _pandas_cat_null(data)\n",
      "File \u001b[1;32mc:\\Users\\Avidan.DESKTOP-RGG0UVA\\Desktop\\Personal\\final-project\\venv\\Lib\\site-packages\\xgboost\\data.py:283\u001b[0m, in \u001b[0;36m_invalid_dataframe_dtype\u001b[1;34m(data)\u001b[0m\n\u001b[0;32m    281\u001b[0m type_err \u001b[39m=\u001b[39m \u001b[39m\"\u001b[39m\u001b[39mDataFrame.dtypes for data must be int, float, bool or category.\u001b[39m\u001b[39m\"\u001b[39m\n\u001b[0;32m    282\u001b[0m msg \u001b[39m=\u001b[39m \u001b[39mf\u001b[39m\u001b[39m\"\"\"\u001b[39m\u001b[39m{\u001b[39;00mtype_err\u001b[39m}\u001b[39;00m\u001b[39m \u001b[39m\u001b[39m{\u001b[39;00m_ENABLE_CAT_ERR\u001b[39m}\u001b[39;00m\u001b[39m \u001b[39m\u001b[39m{\u001b[39;00merr\u001b[39m}\u001b[39;00m\u001b[39m\"\"\"\u001b[39m\n\u001b[1;32m--> 283\u001b[0m \u001b[39mraise\u001b[39;00m \u001b[39mValueError\u001b[39;00m(msg)\n",
      "\u001b[1;31mValueError\u001b[0m: DataFrame.dtypes for data must be int, float, bool or category. When categorical type is supplied, The experimental DMatrix parameter`enable_categorical` must be set to `True`.  Invalid columns:blurb: object"
     ]
    }
   ],
   "source": [
    "# xgboost for feature importance on a classification problem\n",
    "import plotly.graph_objects as go\n",
    "from xgboost import XGBClassifier\n",
    "\n",
    "xgb_model = XGBClassifier()\n",
    "xgb_model.fit(\n",
    "    h8_df.drop(columns=[\"SuccessfulBool\"]),\n",
    "    h8_df[\"SuccessfulBool\"],\n",
    ")\n",
    "feature_importance_df = pd.DataFrame(\n",
    "    {\n",
    "        \"feature\": h8_df.drop(columns=[\"SuccessfulBool\"]).columns,\n",
    "        \"importance\": xgb_model.feature_importances_,\n",
    "    }\n",
    ")\n",
    "feature_importance_df.sort_values(by=\"importance\", ascending=False, inplace=True)\n",
    "fig = go.Figure()\n",
    "fig.add_trace(\n",
    "    go.Bar(\n",
    "        x=feature_importance_df[\"feature\"],\n",
    "        y=feature_importance_df[\"importance\"],\n",
    "        marker_color=\"rgb(171, 226, 251)\",\n",
    "    )\n",
    ")\n",
    "fig.update_layout(\n",
    "    title=\"Feature Importance\",\n",
    "    title_x=0.5,\n",
    "    width=800,\n",
    "    height=800,\n",
    "    xaxis_showgrid=False,\n",
    "    yaxis_showgrid=False,\n",
    ")\n",
    "fig.show()"
   ]
  },
  {
   "attachments": {},
   "cell_type": "markdown",
   "metadata": {},
   "source": [
    "# keep the top features (Web and Software)"
   ]
  },
  {
   "cell_type": "code",
   "execution_count": 43,
   "metadata": {},
   "outputs": [],
   "source": [
    "h8_df.drop(\n",
    "    columns=[\n",
    "        col\n",
    "        for col in h8_df.columns\n",
    "        if col\n",
    "        not in [\n",
    "            \"SuccessfulBool\",\n",
    "            \"category_Web\",\n",
    "            \"category_Software\",\n",
    "            \"blurb\",\n",
    "        ]\n",
    "    ],\n",
    "    inplace=True,\n",
    ")\n"
   ]
  },
  {
   "attachments": {},
   "cell_type": "markdown",
   "metadata": {},
   "source": [
    "# Split into X and y"
   ]
  },
  {
   "cell_type": "code",
   "execution_count": 67,
   "metadata": {},
   "outputs": [],
   "source": [
    "X = h8_df.drop(columns=\"SuccessfulBool\")\n",
    "y = h8_df[\"SuccessfulBool\"]"
   ]
  },
  {
   "cell_type": "code",
   "execution_count": 68,
   "metadata": {},
   "outputs": [],
   "source": [
    "X[\"category\"] = kickstarter_df[\"category\"]"
   ]
  },
  {
   "cell_type": "code",
   "execution_count": 69,
   "metadata": {},
   "outputs": [],
   "source": [
    "X[\"name\"] = kickstarter_df[\"name\"]\n",
    "X[\"slug\"] = kickstarter_df[\"slug\"]"
   ]
  },
  {
   "cell_type": "code",
   "execution_count": 70,
   "metadata": {},
   "outputs": [],
   "source": [
    "X[\"new\"] = X[\"blurb\"] + \"#\" + X[\"name\"] + \"#\" + X[\"category\"]"
   ]
  },
  {
   "cell_type": "code",
   "execution_count": 48,
   "metadata": {},
   "outputs": [
    {
     "data": {
      "text/html": [
       "<style>#sk-container-id-1 {color: black;background-color: white;}#sk-container-id-1 pre{padding: 0;}#sk-container-id-1 div.sk-toggleable {background-color: white;}#sk-container-id-1 label.sk-toggleable__label {cursor: pointer;display: block;width: 100%;margin-bottom: 0;padding: 0.3em;box-sizing: border-box;text-align: center;}#sk-container-id-1 label.sk-toggleable__label-arrow:before {content: \"▸\";float: left;margin-right: 0.25em;color: #696969;}#sk-container-id-1 label.sk-toggleable__label-arrow:hover:before {color: black;}#sk-container-id-1 div.sk-estimator:hover label.sk-toggleable__label-arrow:before {color: black;}#sk-container-id-1 div.sk-toggleable__content {max-height: 0;max-width: 0;overflow: hidden;text-align: left;background-color: #f0f8ff;}#sk-container-id-1 div.sk-toggleable__content pre {margin: 0.2em;color: black;border-radius: 0.25em;background-color: #f0f8ff;}#sk-container-id-1 input.sk-toggleable__control:checked~div.sk-toggleable__content {max-height: 200px;max-width: 100%;overflow: auto;}#sk-container-id-1 input.sk-toggleable__control:checked~label.sk-toggleable__label-arrow:before {content: \"▾\";}#sk-container-id-1 div.sk-estimator input.sk-toggleable__control:checked~label.sk-toggleable__label {background-color: #d4ebff;}#sk-container-id-1 div.sk-label input.sk-toggleable__control:checked~label.sk-toggleable__label {background-color: #d4ebff;}#sk-container-id-1 input.sk-hidden--visually {border: 0;clip: rect(1px 1px 1px 1px);clip: rect(1px, 1px, 1px, 1px);height: 1px;margin: -1px;overflow: hidden;padding: 0;position: absolute;width: 1px;}#sk-container-id-1 div.sk-estimator {font-family: monospace;background-color: #f0f8ff;border: 1px dotted black;border-radius: 0.25em;box-sizing: border-box;margin-bottom: 0.5em;}#sk-container-id-1 div.sk-estimator:hover {background-color: #d4ebff;}#sk-container-id-1 div.sk-parallel-item::after {content: \"\";width: 100%;border-bottom: 1px solid gray;flex-grow: 1;}#sk-container-id-1 div.sk-label:hover label.sk-toggleable__label {background-color: #d4ebff;}#sk-container-id-1 div.sk-serial::before {content: \"\";position: absolute;border-left: 1px solid gray;box-sizing: border-box;top: 0;bottom: 0;left: 50%;z-index: 0;}#sk-container-id-1 div.sk-serial {display: flex;flex-direction: column;align-items: center;background-color: white;padding-right: 0.2em;padding-left: 0.2em;position: relative;}#sk-container-id-1 div.sk-item {position: relative;z-index: 1;}#sk-container-id-1 div.sk-parallel {display: flex;align-items: stretch;justify-content: center;background-color: white;position: relative;}#sk-container-id-1 div.sk-item::before, #sk-container-id-1 div.sk-parallel-item::before {content: \"\";position: absolute;border-left: 1px solid gray;box-sizing: border-box;top: 0;bottom: 0;left: 50%;z-index: -1;}#sk-container-id-1 div.sk-parallel-item {display: flex;flex-direction: column;z-index: 1;position: relative;background-color: white;}#sk-container-id-1 div.sk-parallel-item:first-child::after {align-self: flex-end;width: 50%;}#sk-container-id-1 div.sk-parallel-item:last-child::after {align-self: flex-start;width: 50%;}#sk-container-id-1 div.sk-parallel-item:only-child::after {width: 0;}#sk-container-id-1 div.sk-dashed-wrapped {border: 1px dashed gray;margin: 0 0.4em 0.5em 0.4em;box-sizing: border-box;padding-bottom: 0.4em;background-color: white;}#sk-container-id-1 div.sk-label label {font-family: monospace;font-weight: bold;display: inline-block;line-height: 1.2em;}#sk-container-id-1 div.sk-label-container {text-align: center;}#sk-container-id-1 div.sk-container {/* jupyter's `normalize.less` sets `[hidden] { display: none; }` but bootstrap.min.css set `[hidden] { display: none !important; }` so we also need the `!important` here to be able to override the default hidden behavior on the sphinx rendered scikit-learn.org. See: https://github.com/scikit-learn/scikit-learn/issues/21755 */display: inline-block !important;position: relative;}#sk-container-id-1 div.sk-text-repr-fallback {display: none;}</style><div id=\"sk-container-id-1\" class=\"sk-top-container\"><div class=\"sk-text-repr-fallback\"><pre>LogisticRegression()</pre><b>In a Jupyter environment, please rerun this cell to show the HTML representation or trust the notebook. <br />On GitHub, the HTML representation is unable to render, please try loading this page with nbviewer.org.</b></div><div class=\"sk-container\" hidden><div class=\"sk-item\"><div class=\"sk-estimator sk-toggleable\"><input class=\"sk-toggleable__control sk-hidden--visually\" id=\"sk-estimator-id-1\" type=\"checkbox\" checked><label for=\"sk-estimator-id-1\" class=\"sk-toggleable__label sk-toggleable__label-arrow\">LogisticRegression</label><div class=\"sk-toggleable__content\"><pre>LogisticRegression()</pre></div></div></div></div></div>"
      ],
      "text/plain": [
       "LogisticRegression()"
      ]
     },
     "execution_count": 48,
     "metadata": {},
     "output_type": "execute_result"
    }
   ],
   "source": [
    "from sklearn.feature_extraction.text import CountVectorizer\n",
    "from sklearn.model_selection import train_test_split\n",
    "from sklearn.linear_model import LogisticRegression\n",
    "\n",
    "blurb_train, blurb_test, y_train, y_test = train_test_split(\n",
    "    X[\"new\"], y, test_size=0.2, random_state=42\n",
    ")\n",
    "\n",
    "vectorizer = CountVectorizer()\n",
    "\n",
    "vectorizer.fit(blurb_train)\n",
    "\n",
    "X_train = vectorizer.transform(blurb_train)\n",
    "\n",
    "X_test = vectorizer.transform(blurb_test)\n",
    "\n",
    "classifier = LogisticRegression()\n",
    "\n",
    "classifier.fit(X_train, y_train)\n",
    "\n"
   ]
  },
  {
   "cell_type": "code",
   "execution_count": 49,
   "metadata": {},
   "outputs": [
    {
     "data": {
      "text/plain": [
       "<16505x32805 sparse matrix of type '<class 'numpy.int64'>'\n",
       "\twith 350801 stored elements in Compressed Sparse Row format>"
      ]
     },
     "execution_count": 49,
     "metadata": {},
     "output_type": "execute_result"
    }
   ],
   "source": [
    "X_train"
   ]
  },
  {
   "cell_type": "code",
   "execution_count": 50,
   "metadata": {},
   "outputs": [
    {
     "data": {
      "text/plain": [
       "<sklearn.metrics._plot.confusion_matrix.ConfusionMatrixDisplay at 0x20a014b7c90>"
      ]
     },
     "execution_count": 50,
     "metadata": {},
     "output_type": "execute_result"
    },
    {
     "data": {
      "image/png": "[encoded data removed]",
      "text/plain": [
       "<Figure size 640x480 with 2 Axes>"
      ]
     },
     "metadata": {},
     "output_type": "display_data"
    }
   ],
   "source": [
    "from sklearn.metrics import confusion_matrix\n",
    "from sklearn.metrics import ConfusionMatrixDisplay\n",
    "cm = confusion_matrix(y_test, classifier.predict(X_test))\n",
    "disp = ConfusionMatrixDisplay(confusion_matrix=cm, display_labels=classifier.classes_)\n",
    "disp.plot()\n"
   ]
  },
  {
   "cell_type": "code",
   "execution_count": 51,
   "metadata": {},
   "outputs": [
    {
     "name": "stdout",
     "output_type": "stream",
     "text": [
      "              precision    recall  f1-score   support\n",
      "\n",
      "           0       0.79      0.84      0.81      2907\n",
      "           1       0.55      0.45      0.49      1220\n",
      "\n",
      "    accuracy                           0.73      4127\n",
      "   macro avg       0.67      0.65      0.65      4127\n",
      "weighted avg       0.71      0.73      0.72      4127\n",
      "\n"
     ]
    }
   ],
   "source": [
    "from sklearn.metrics import classification_report\n",
    "\n",
    "print(classification_report(y_test, classifier.predict(X_test)))"
   ]
  },
  {
   "cell_type": "code",
   "execution_count": 52,
   "metadata": {},
   "outputs": [
    {
     "data": {
      "text/html": [
       "<style>#sk-container-id-2 {color: black;background-color: white;}#sk-container-id-2 pre{padding: 0;}#sk-container-id-2 div.sk-toggleable {background-color: white;}#sk-container-id-2 label.sk-toggleable__label {cursor: pointer;display: block;width: 100%;margin-bottom: 0;padding: 0.3em;box-sizing: border-box;text-align: center;}#sk-container-id-2 label.sk-toggleable__label-arrow:before {content: \"▸\";float: left;margin-right: 0.25em;color: #696969;}#sk-container-id-2 label.sk-toggleable__label-arrow:hover:before {color: black;}#sk-container-id-2 div.sk-estimator:hover label.sk-toggleable__label-arrow:before {color: black;}#sk-container-id-2 div.sk-toggleable__content {max-height: 0;max-width: 0;overflow: hidden;text-align: left;background-color: #f0f8ff;}#sk-container-id-2 div.sk-toggleable__content pre {margin: 0.2em;color: black;border-radius: 0.25em;background-color: #f0f8ff;}#sk-container-id-2 input.sk-toggleable__control:checked~div.sk-toggleable__content {max-height: 200px;max-width: 100%;overflow: auto;}#sk-container-id-2 input.sk-toggleable__control:checked~label.sk-toggleable__label-arrow:before {content: \"▾\";}#sk-container-id-2 div.sk-estimator input.sk-toggleable__control:checked~label.sk-toggleable__label {background-color: #d4ebff;}#sk-container-id-2 div.sk-label input.sk-toggleable__control:checked~label.sk-toggleable__label {background-color: #d4ebff;}#sk-container-id-2 input.sk-hidden--visually {border: 0;clip: rect(1px 1px 1px 1px);clip: rect(1px, 1px, 1px, 1px);height: 1px;margin: -1px;overflow: hidden;padding: 0;position: absolute;width: 1px;}#sk-container-id-2 div.sk-estimator {font-family: monospace;background-color: #f0f8ff;border: 1px dotted black;border-radius: 0.25em;box-sizing: border-box;margin-bottom: 0.5em;}#sk-container-id-2 div.sk-estimator:hover {background-color: #d4ebff;}#sk-container-id-2 div.sk-parallel-item::after {content: \"\";width: 100%;border-bottom: 1px solid gray;flex-grow: 1;}#sk-container-id-2 div.sk-label:hover label.sk-toggleable__label {background-color: #d4ebff;}#sk-container-id-2 div.sk-serial::before {content: \"\";position: absolute;border-left: 1px solid gray;box-sizing: border-box;top: 0;bottom: 0;left: 50%;z-index: 0;}#sk-container-id-2 div.sk-serial {display: flex;flex-direction: column;align-items: center;background-color: white;padding-right: 0.2em;padding-left: 0.2em;position: relative;}#sk-container-id-2 div.sk-item {position: relative;z-index: 1;}#sk-container-id-2 div.sk-parallel {display: flex;align-items: stretch;justify-content: center;background-color: white;position: relative;}#sk-container-id-2 div.sk-item::before, #sk-container-id-2 div.sk-parallel-item::before {content: \"\";position: absolute;border-left: 1px solid gray;box-sizing: border-box;top: 0;bottom: 0;left: 50%;z-index: -1;}#sk-container-id-2 div.sk-parallel-item {display: flex;flex-direction: column;z-index: 1;position: relative;background-color: white;}#sk-container-id-2 div.sk-parallel-item:first-child::after {align-self: flex-end;width: 50%;}#sk-container-id-2 div.sk-parallel-item:last-child::after {align-self: flex-start;width: 50%;}#sk-container-id-2 div.sk-parallel-item:only-child::after {width: 0;}#sk-container-id-2 div.sk-dashed-wrapped {border: 1px dashed gray;margin: 0 0.4em 0.5em 0.4em;box-sizing: border-box;padding-bottom: 0.4em;background-color: white;}#sk-container-id-2 div.sk-label label {font-family: monospace;font-weight: bold;display: inline-block;line-height: 1.2em;}#sk-container-id-2 div.sk-label-container {text-align: center;}#sk-container-id-2 div.sk-container {/* jupyter's `normalize.less` sets `[hidden] { display: none; }` but bootstrap.min.css set `[hidden] { display: none !important; }` so we also need the `!important` here to be able to override the default hidden behavior on the sphinx rendered scikit-learn.org. See: https://github.com/scikit-learn/scikit-learn/issues/21755 */display: inline-block !important;position: relative;}#sk-container-id-2 div.sk-text-repr-fallback {display: none;}</style><div id=\"sk-container-id-2\" class=\"sk-top-container\"><div class=\"sk-text-repr-fallback\"><pre>MultinomialNB()</pre><b>In a Jupyter environment, please rerun this cell to show the HTML representation or trust the notebook. <br />On GitHub, the HTML representation is unable to render, please try loading this page with nbviewer.org.</b></div><div class=\"sk-container\" hidden><div class=\"sk-item\"><div class=\"sk-estimator sk-toggleable\"><input class=\"sk-toggleable__control sk-hidden--visually\" id=\"sk-estimator-id-2\" type=\"checkbox\" checked><label for=\"sk-estimator-id-2\" class=\"sk-toggleable__label sk-toggleable__label-arrow\">MultinomialNB</label><div class=\"sk-toggleable__content\"><pre>MultinomialNB()</pre></div></div></div></div></div>"
      ],
      "text/plain": [
       "MultinomialNB()"
      ]
     },
     "execution_count": 52,
     "metadata": {},
     "output_type": "execute_result"
    }
   ],
   "source": [
    "from sklearn.feature_extraction.text import CountVectorizer\n",
    "from sklearn.model_selection import train_test_split\n",
    "from sklearn.naive_bayes import MultinomialNB\n",
    "\n",
    "blurb_train, blurb_test, y_train, y_test = train_test_split(\n",
    "    X[\"new\"], y, test_size=0.2, random_state=42\n",
    ")\n",
    "\n",
    "vectorizer = CountVectorizer()\n",
    "\n",
    "vectorizer.fit(blurb_train)\n",
    "\n",
    "X_train = vectorizer.transform(blurb_train)\n",
    "\n",
    "X_test = vectorizer.transform(blurb_test)\n",
    "\n",
    "classifier = MultinomialNB()\n",
    "\n",
    "classifier.fit(X_train, y_train)"
   ]
  },
  {
   "cell_type": "code",
   "execution_count": 53,
   "metadata": {},
   "outputs": [
    {
     "data": {
      "text/plain": [
       "<sklearn.metrics._plot.confusion_matrix.ConfusionMatrixDisplay at 0x20a02cf5f10>"
      ]
     },
     "execution_count": 53,
     "metadata": {},
     "output_type": "execute_result"
    },
    {
     "data": {
      "image/png": "[encoded data removed]",
      "text/plain": [
       "<Figure size 640x480 with 2 Axes>"
      ]
     },
     "metadata": {},
     "output_type": "display_data"
    }
   ],
   "source": [
    "from sklearn.metrics import confusion_matrix\n",
    "from sklearn.metrics import ConfusionMatrixDisplay\n",
    "cm = confusion_matrix(y_test, classifier.predict(X_test))\n",
    "disp = ConfusionMatrixDisplay(confusion_matrix=cm, display_labels=classifier.classes_)\n",
    "disp.plot()"
   ]
  },
  {
   "cell_type": "code",
   "execution_count": 54,
   "metadata": {},
   "outputs": [
    {
     "name": "stdout",
     "output_type": "stream",
     "text": [
      "              precision    recall  f1-score   support\n",
      "\n",
      "           0       0.80      0.86      0.83      2907\n",
      "           1       0.60      0.50      0.54      1220\n",
      "\n",
      "    accuracy                           0.75      4127\n",
      "   macro avg       0.70      0.68      0.69      4127\n",
      "weighted avg       0.74      0.75      0.75      4127\n",
      "\n"
     ]
    }
   ],
   "source": [
    "print(classification_report(y_test, classifier.predict(X_test)))"
   ]
  },
  {
   "cell_type": "code",
   "execution_count": 55,
   "metadata": {},
   "outputs": [
    {
     "data": {
      "text/html": [
       "<div>\n",
       "<style scoped>\n",
       "    .dataframe tbody tr th:only-of-type {\n",
       "        vertical-align: middle;\n",
       "    }\n",
       "\n",
       "    .dataframe tbody tr th {\n",
       "        vertical-align: top;\n",
       "    }\n",
       "\n",
       "    .dataframe thead th {\n",
       "        text-align: right;\n",
       "    }\n",
       "</style>\n",
       "<table border=\"1\" class=\"dataframe\">\n",
       "  <thead>\n",
       "    <tr style=\"text-align: right;\">\n",
       "      <th></th>\n",
       "      <th>blurb</th>\n",
       "      <th>category_Software</th>\n",
       "      <th>category_Web</th>\n",
       "      <th>category</th>\n",
       "      <th>name</th>\n",
       "      <th>slug</th>\n",
       "      <th>new</th>\n",
       "    </tr>\n",
       "  </thead>\n",
       "  <tbody>\n",
       "    <tr>\n",
       "      <th>0</th>\n",
       "      <td>MTS ASL Curriculum Workbook is a reproducible ...</td>\n",
       "      <td>0</td>\n",
       "      <td>0</td>\n",
       "      <td>Academic</td>\n",
       "      <td>Auntie Di's Music Time Sign ASL for Hearing an...</td>\n",
       "      <td>auntie-dis-music-time-sign-asl-for-hearing-and...</td>\n",
       "      <td>MTS ASL Curriculum Workbook is a reproducible ...</td>\n",
       "    </tr>\n",
       "    <tr>\n",
       "      <th>1</th>\n",
       "      <td>This kit teaches how to print, correct an ugly...</td>\n",
       "      <td>0</td>\n",
       "      <td>0</td>\n",
       "      <td>Academic</td>\n",
       "      <td>Jump Start Kindergarten Toolkit</td>\n",
       "      <td>jump-start-kindergarten-toolkit</td>\n",
       "      <td>This kit teaches how to print, correct an ugly...</td>\n",
       "    </tr>\n",
       "    <tr>\n",
       "      <th>2</th>\n",
       "      <td>Establishing a free, world-class, public libra...</td>\n",
       "      <td>0</td>\n",
       "      <td>0</td>\n",
       "      <td>Academic</td>\n",
       "      <td>Ojukwu Balewa Awolowo (O.B.A.) Public Library ...</td>\n",
       "      <td>ojukwu-balewa-awolowo-oba-public-library-of-ni...</td>\n",
       "      <td>Establishing a free, world-class, public libra...</td>\n",
       "    </tr>\n",
       "    <tr>\n",
       "      <th>3</th>\n",
       "      <td>Goal: Introducing a new word into the English ...</td>\n",
       "      <td>0</td>\n",
       "      <td>0</td>\n",
       "      <td>Academic</td>\n",
       "      <td>MASTIZE - [mas-TAHYZ, MAS-tahyz]  - to spread</td>\n",
       "      <td>mastize-mas-tahyz-mas-tahyz-to-spread</td>\n",
       "      <td>Goal: Introducing a new word into the English ...</td>\n",
       "    </tr>\n",
       "    <tr>\n",
       "      <th>4</th>\n",
       "      <td>Zu den Artikeln der DSGVO sind die korrespondi...</td>\n",
       "      <td>0</td>\n",
       "      <td>0</td>\n",
       "      <td>Academic</td>\n",
       "      <td>Synopse der EU-DSGVO - Artikel, Erwägungsgründ...</td>\n",
       "      <td>synopse-der-eu-dsgvo-artikel-erwagungsgrunde-bdsg</td>\n",
       "      <td>Zu den Artikeln der DSGVO sind die korrespondi...</td>\n",
       "    </tr>\n",
       "    <tr>\n",
       "      <th>...</th>\n",
       "      <td>...</td>\n",
       "      <td>...</td>\n",
       "      <td>...</td>\n",
       "      <td>...</td>\n",
       "      <td>...</td>\n",
       "      <td>...</td>\n",
       "      <td>...</td>\n",
       "    </tr>\n",
       "    <tr>\n",
       "      <th>20627</th>\n",
       "      <td>The easy way to be present for story time anyt...</td>\n",
       "      <td>0</td>\n",
       "      <td>0</td>\n",
       "      <td>Apps</td>\n",
       "      <td>StorySnap: Your voice, their stories... in a s...</td>\n",
       "      <td>storysnap-your-voice-their-stories-in-a-snap</td>\n",
       "      <td>The easy way to be present for story time anyt...</td>\n",
       "    </tr>\n",
       "    <tr>\n",
       "      <th>20628</th>\n",
       "      <td>A revolutionary App that makes getting fit as ...</td>\n",
       "      <td>0</td>\n",
       "      <td>0</td>\n",
       "      <td>Apps</td>\n",
       "      <td>Smart Fit!</td>\n",
       "      <td>smart-fit</td>\n",
       "      <td>A revolutionary App that makes getting fit as ...</td>\n",
       "    </tr>\n",
       "    <tr>\n",
       "      <th>20629</th>\n",
       "      <td>We all love fatbooth and Ugly booth, why not s...</td>\n",
       "      <td>0</td>\n",
       "      <td>0</td>\n",
       "      <td>Apps</td>\n",
       "      <td>Sloth Face App</td>\n",
       "      <td>sloth-face-app</td>\n",
       "      <td>We all love fatbooth and Ugly booth, why not s...</td>\n",
       "    </tr>\n",
       "    <tr>\n",
       "      <th>20630</th>\n",
       "      <td>Production android app for cab drivers and tru...</td>\n",
       "      <td>0</td>\n",
       "      <td>0</td>\n",
       "      <td>Apps</td>\n",
       "      <td>DriverTools</td>\n",
       "      <td>drivertools</td>\n",
       "      <td>Production android app for cab drivers and tru...</td>\n",
       "    </tr>\n",
       "    <tr>\n",
       "      <th>20631</th>\n",
       "      <td>We recently launched version 1 of our unique t...</td>\n",
       "      <td>0</td>\n",
       "      <td>0</td>\n",
       "      <td>Apps</td>\n",
       "      <td>Let's Trail app</td>\n",
       "      <td>lets-trail-app</td>\n",
       "      <td>We recently launched version 1 of our unique t...</td>\n",
       "    </tr>\n",
       "  </tbody>\n",
       "</table>\n",
       "<p>20632 rows × 7 columns</p>\n",
       "</div>"
      ],
      "text/plain": [
       "                                                   blurb  category_Software   \n",
       "0      MTS ASL Curriculum Workbook is a reproducible ...                  0  \\\n",
       "1      This kit teaches how to print, correct an ugly...                  0   \n",
       "2      Establishing a free, world-class, public libra...                  0   \n",
       "3      Goal: Introducing a new word into the English ...                  0   \n",
       "4      Zu den Artikeln der DSGVO sind die korrespondi...                  0   \n",
       "...                                                  ...                ...   \n",
       "20627  The easy way to be present for story time anyt...                  0   \n",
       "20628  A revolutionary App that makes getting fit as ...                  0   \n",
       "20629  We all love fatbooth and Ugly booth, why not s...                  0   \n",
       "20630  Production android app for cab drivers and tru...                  0   \n",
       "20631  We recently launched version 1 of our unique t...                  0   \n",
       "\n",
       "       category_Web  category   \n",
       "0                 0  Academic  \\\n",
       "1                 0  Academic   \n",
       "2                 0  Academic   \n",
       "3                 0  Academic   \n",
       "4                 0  Academic   \n",
       "...             ...       ...   \n",
       "20627             0      Apps   \n",
       "20628             0      Apps   \n",
       "20629             0      Apps   \n",
       "20630             0      Apps   \n",
       "20631             0      Apps   \n",
       "\n",
       "                                                    name   \n",
       "0      Auntie Di's Music Time Sign ASL for Hearing an...  \\\n",
       "1                        Jump Start Kindergarten Toolkit   \n",
       "2      Ojukwu Balewa Awolowo (O.B.A.) Public Library ...   \n",
       "3          MASTIZE - [mas-TAHYZ, MAS-tahyz]  - to spread   \n",
       "4      Synopse der EU-DSGVO - Artikel, Erwägungsgründ...   \n",
       "...                                                  ...   \n",
       "20627  StorySnap: Your voice, their stories... in a s...   \n",
       "20628                                         Smart Fit!   \n",
       "20629                                     Sloth Face App   \n",
       "20630                                        DriverTools   \n",
       "20631                                    Let's Trail app   \n",
       "\n",
       "                                                    slug   \n",
       "0      auntie-dis-music-time-sign-asl-for-hearing-and...  \\\n",
       "1                        jump-start-kindergarten-toolkit   \n",
       "2      ojukwu-balewa-awolowo-oba-public-library-of-ni...   \n",
       "3                  mastize-mas-tahyz-mas-tahyz-to-spread   \n",
       "4      synopse-der-eu-dsgvo-artikel-erwagungsgrunde-bdsg   \n",
       "...                                                  ...   \n",
       "20627       storysnap-your-voice-their-stories-in-a-snap   \n",
       "20628                                          smart-fit   \n",
       "20629                                     sloth-face-app   \n",
       "20630                                        drivertools   \n",
       "20631                                     lets-trail-app   \n",
       "\n",
       "                                                     new  \n",
       "0      MTS ASL Curriculum Workbook is a reproducible ...  \n",
       "1      This kit teaches how to print, correct an ugly...  \n",
       "2      Establishing a free, world-class, public libra...  \n",
       "3      Goal: Introducing a new word into the English ...  \n",
       "4      Zu den Artikeln der DSGVO sind die korrespondi...  \n",
       "...                                                  ...  \n",
       "20627  The easy way to be present for story time anyt...  \n",
       "20628  A revolutionary App that makes getting fit as ...  \n",
       "20629  We all love fatbooth and Ugly booth, why not s...  \n",
       "20630  Production android app for cab drivers and tru...  \n",
       "20631  We recently launched version 1 of our unique t...  \n",
       "\n",
       "[20632 rows x 7 columns]"
      ]
     },
     "execution_count": 55,
     "metadata": {},
     "output_type": "execute_result"
    }
   ],
   "source": [
    "X"
   ]
  },
  {
   "cell_type": "code",
   "execution_count": 58,
   "metadata": {},
   "outputs": [
    {
     "data": {
      "text/html": [
       "<div>\n",
       "<style scoped>\n",
       "    .dataframe tbody tr th:only-of-type {\n",
       "        vertical-align: middle;\n",
       "    }\n",
       "\n",
       "    .dataframe tbody tr th {\n",
       "        vertical-align: top;\n",
       "    }\n",
       "\n",
       "    .dataframe thead th {\n",
       "        text-align: right;\n",
       "    }\n",
       "</style>\n",
       "<table border=\"1\" class=\"dataframe\">\n",
       "  <thead>\n",
       "    <tr style=\"text-align: right;\">\n",
       "      <th></th>\n",
       "      <th>category_Apps</th>\n",
       "      <th>category_Blues</th>\n",
       "      <th>category_Comedy</th>\n",
       "      <th>category_Experimental</th>\n",
       "      <th>category_Festivals</th>\n",
       "      <th>category_Flight</th>\n",
       "      <th>category_Gadgets</th>\n",
       "      <th>category_Hardware</th>\n",
       "      <th>category_Immersive</th>\n",
       "      <th>category_Makerspaces</th>\n",
       "      <th>...</th>\n",
       "      <th>category_Restaurants</th>\n",
       "      <th>category_Robots</th>\n",
       "      <th>category_Shorts</th>\n",
       "      <th>category_Software</th>\n",
       "      <th>category_Sound</th>\n",
       "      <th>category_Spaces</th>\n",
       "      <th>category_Thrillers</th>\n",
       "      <th>category_Wearables</th>\n",
       "      <th>category_Web</th>\n",
       "      <th>category_Webseries</th>\n",
       "    </tr>\n",
       "  </thead>\n",
       "  <tbody>\n",
       "    <tr>\n",
       "      <th>0</th>\n",
       "      <td>0</td>\n",
       "      <td>0</td>\n",
       "      <td>0</td>\n",
       "      <td>0</td>\n",
       "      <td>0</td>\n",
       "      <td>0</td>\n",
       "      <td>0</td>\n",
       "      <td>0</td>\n",
       "      <td>0</td>\n",
       "      <td>0</td>\n",
       "      <td>...</td>\n",
       "      <td>0</td>\n",
       "      <td>0</td>\n",
       "      <td>0</td>\n",
       "      <td>0</td>\n",
       "      <td>0</td>\n",
       "      <td>0</td>\n",
       "      <td>0</td>\n",
       "      <td>0</td>\n",
       "      <td>0</td>\n",
       "      <td>0</td>\n",
       "    </tr>\n",
       "    <tr>\n",
       "      <th>1</th>\n",
       "      <td>0</td>\n",
       "      <td>0</td>\n",
       "      <td>0</td>\n",
       "      <td>0</td>\n",
       "      <td>0</td>\n",
       "      <td>0</td>\n",
       "      <td>0</td>\n",
       "      <td>0</td>\n",
       "      <td>0</td>\n",
       "      <td>0</td>\n",
       "      <td>...</td>\n",
       "      <td>0</td>\n",
       "      <td>0</td>\n",
       "      <td>0</td>\n",
       "      <td>0</td>\n",
       "      <td>0</td>\n",
       "      <td>0</td>\n",
       "      <td>0</td>\n",
       "      <td>0</td>\n",
       "      <td>0</td>\n",
       "      <td>0</td>\n",
       "    </tr>\n",
       "    <tr>\n",
       "      <th>2</th>\n",
       "      <td>0</td>\n",
       "      <td>0</td>\n",
       "      <td>0</td>\n",
       "      <td>0</td>\n",
       "      <td>0</td>\n",
       "      <td>0</td>\n",
       "      <td>0</td>\n",
       "      <td>0</td>\n",
       "      <td>0</td>\n",
       "      <td>0</td>\n",
       "      <td>...</td>\n",
       "      <td>0</td>\n",
       "      <td>0</td>\n",
       "      <td>0</td>\n",
       "      <td>0</td>\n",
       "      <td>0</td>\n",
       "      <td>0</td>\n",
       "      <td>0</td>\n",
       "      <td>0</td>\n",
       "      <td>0</td>\n",
       "      <td>0</td>\n",
       "    </tr>\n",
       "    <tr>\n",
       "      <th>3</th>\n",
       "      <td>0</td>\n",
       "      <td>0</td>\n",
       "      <td>0</td>\n",
       "      <td>0</td>\n",
       "      <td>0</td>\n",
       "      <td>0</td>\n",
       "      <td>0</td>\n",
       "      <td>0</td>\n",
       "      <td>0</td>\n",
       "      <td>0</td>\n",
       "      <td>...</td>\n",
       "      <td>0</td>\n",
       "      <td>0</td>\n",
       "      <td>0</td>\n",
       "      <td>0</td>\n",
       "      <td>0</td>\n",
       "      <td>0</td>\n",
       "      <td>0</td>\n",
       "      <td>0</td>\n",
       "      <td>0</td>\n",
       "      <td>0</td>\n",
       "    </tr>\n",
       "    <tr>\n",
       "      <th>4</th>\n",
       "      <td>0</td>\n",
       "      <td>0</td>\n",
       "      <td>0</td>\n",
       "      <td>0</td>\n",
       "      <td>0</td>\n",
       "      <td>0</td>\n",
       "      <td>0</td>\n",
       "      <td>0</td>\n",
       "      <td>0</td>\n",
       "      <td>0</td>\n",
       "      <td>...</td>\n",
       "      <td>0</td>\n",
       "      <td>0</td>\n",
       "      <td>0</td>\n",
       "      <td>0</td>\n",
       "      <td>0</td>\n",
       "      <td>0</td>\n",
       "      <td>0</td>\n",
       "      <td>0</td>\n",
       "      <td>0</td>\n",
       "      <td>0</td>\n",
       "    </tr>\n",
       "    <tr>\n",
       "      <th>...</th>\n",
       "      <td>...</td>\n",
       "      <td>...</td>\n",
       "      <td>...</td>\n",
       "      <td>...</td>\n",
       "      <td>...</td>\n",
       "      <td>...</td>\n",
       "      <td>...</td>\n",
       "      <td>...</td>\n",
       "      <td>...</td>\n",
       "      <td>...</td>\n",
       "      <td>...</td>\n",
       "      <td>...</td>\n",
       "      <td>...</td>\n",
       "      <td>...</td>\n",
       "      <td>...</td>\n",
       "      <td>...</td>\n",
       "      <td>...</td>\n",
       "      <td>...</td>\n",
       "      <td>...</td>\n",
       "      <td>...</td>\n",
       "      <td>...</td>\n",
       "    </tr>\n",
       "    <tr>\n",
       "      <th>20627</th>\n",
       "      <td>1</td>\n",
       "      <td>0</td>\n",
       "      <td>0</td>\n",
       "      <td>0</td>\n",
       "      <td>0</td>\n",
       "      <td>0</td>\n",
       "      <td>0</td>\n",
       "      <td>0</td>\n",
       "      <td>0</td>\n",
       "      <td>0</td>\n",
       "      <td>...</td>\n",
       "      <td>0</td>\n",
       "      <td>0</td>\n",
       "      <td>0</td>\n",
       "      <td>0</td>\n",
       "      <td>0</td>\n",
       "      <td>0</td>\n",
       "      <td>0</td>\n",
       "      <td>0</td>\n",
       "      <td>0</td>\n",
       "      <td>0</td>\n",
       "    </tr>\n",
       "    <tr>\n",
       "      <th>20628</th>\n",
       "      <td>1</td>\n",
       "      <td>0</td>\n",
       "      <td>0</td>\n",
       "      <td>0</td>\n",
       "      <td>0</td>\n",
       "      <td>0</td>\n",
       "      <td>0</td>\n",
       "      <td>0</td>\n",
       "      <td>0</td>\n",
       "      <td>0</td>\n",
       "      <td>...</td>\n",
       "      <td>0</td>\n",
       "      <td>0</td>\n",
       "      <td>0</td>\n",
       "      <td>0</td>\n",
       "      <td>0</td>\n",
       "      <td>0</td>\n",
       "      <td>0</td>\n",
       "      <td>0</td>\n",
       "      <td>0</td>\n",
       "      <td>0</td>\n",
       "    </tr>\n",
       "    <tr>\n",
       "      <th>20629</th>\n",
       "      <td>1</td>\n",
       "      <td>0</td>\n",
       "      <td>0</td>\n",
       "      <td>0</td>\n",
       "      <td>0</td>\n",
       "      <td>0</td>\n",
       "      <td>0</td>\n",
       "      <td>0</td>\n",
       "      <td>0</td>\n",
       "      <td>0</td>\n",
       "      <td>...</td>\n",
       "      <td>0</td>\n",
       "      <td>0</td>\n",
       "      <td>0</td>\n",
       "      <td>0</td>\n",
       "      <td>0</td>\n",
       "      <td>0</td>\n",
       "      <td>0</td>\n",
       "      <td>0</td>\n",
       "      <td>0</td>\n",
       "      <td>0</td>\n",
       "    </tr>\n",
       "    <tr>\n",
       "      <th>20630</th>\n",
       "      <td>1</td>\n",
       "      <td>0</td>\n",
       "      <td>0</td>\n",
       "      <td>0</td>\n",
       "      <td>0</td>\n",
       "      <td>0</td>\n",
       "      <td>0</td>\n",
       "      <td>0</td>\n",
       "      <td>0</td>\n",
       "      <td>0</td>\n",
       "      <td>...</td>\n",
       "      <td>0</td>\n",
       "      <td>0</td>\n",
       "      <td>0</td>\n",
       "      <td>0</td>\n",
       "      <td>0</td>\n",
       "      <td>0</td>\n",
       "      <td>0</td>\n",
       "      <td>0</td>\n",
       "      <td>0</td>\n",
       "      <td>0</td>\n",
       "    </tr>\n",
       "    <tr>\n",
       "      <th>20631</th>\n",
       "      <td>1</td>\n",
       "      <td>0</td>\n",
       "      <td>0</td>\n",
       "      <td>0</td>\n",
       "      <td>0</td>\n",
       "      <td>0</td>\n",
       "      <td>0</td>\n",
       "      <td>0</td>\n",
       "      <td>0</td>\n",
       "      <td>0</td>\n",
       "      <td>...</td>\n",
       "      <td>0</td>\n",
       "      <td>0</td>\n",
       "      <td>0</td>\n",
       "      <td>0</td>\n",
       "      <td>0</td>\n",
       "      <td>0</td>\n",
       "      <td>0</td>\n",
       "      <td>0</td>\n",
       "      <td>0</td>\n",
       "      <td>0</td>\n",
       "    </tr>\n",
       "  </tbody>\n",
       "</table>\n",
       "<p>20632 rows × 23 columns</p>\n",
       "</div>"
      ],
      "text/plain": [
       "       category_Apps  category_Blues  category_Comedy  category_Experimental   \n",
       "0                  0               0                0                      0  \\\n",
       "1                  0               0                0                      0   \n",
       "2                  0               0                0                      0   \n",
       "3                  0               0                0                      0   \n",
       "4                  0               0                0                      0   \n",
       "...              ...             ...              ...                    ...   \n",
       "20627              1               0                0                      0   \n",
       "20628              1               0                0                      0   \n",
       "20629              1               0                0                      0   \n",
       "20630              1               0                0                      0   \n",
       "20631              1               0                0                      0   \n",
       "\n",
       "       category_Festivals  category_Flight  category_Gadgets   \n",
       "0                       0                0                 0  \\\n",
       "1                       0                0                 0   \n",
       "2                       0                0                 0   \n",
       "3                       0                0                 0   \n",
       "4                       0                0                 0   \n",
       "...                   ...              ...               ...   \n",
       "20627                   0                0                 0   \n",
       "20628                   0                0                 0   \n",
       "20629                   0                0                 0   \n",
       "20630                   0                0                 0   \n",
       "20631                   0                0                 0   \n",
       "\n",
       "       category_Hardware  category_Immersive  category_Makerspaces  ...   \n",
       "0                      0                   0                     0  ...  \\\n",
       "1                      0                   0                     0  ...   \n",
       "2                      0                   0                     0  ...   \n",
       "3                      0                   0                     0  ...   \n",
       "4                      0                   0                     0  ...   \n",
       "...                  ...                 ...                   ...  ...   \n",
       "20627                  0                   0                     0  ...   \n",
       "20628                  0                   0                     0  ...   \n",
       "20629                  0                   0                     0  ...   \n",
       "20630                  0                   0                     0  ...   \n",
       "20631                  0                   0                     0  ...   \n",
       "\n",
       "       category_Restaurants  category_Robots  category_Shorts   \n",
       "0                         0                0                0  \\\n",
       "1                         0                0                0   \n",
       "2                         0                0                0   \n",
       "3                         0                0                0   \n",
       "4                         0                0                0   \n",
       "...                     ...              ...              ...   \n",
       "20627                     0                0                0   \n",
       "20628                     0                0                0   \n",
       "20629                     0                0                0   \n",
       "20630                     0                0                0   \n",
       "20631                     0                0                0   \n",
       "\n",
       "       category_Software  category_Sound  category_Spaces  category_Thrillers   \n",
       "0                      0               0                0                   0  \\\n",
       "1                      0               0                0                   0   \n",
       "2                      0               0                0                   0   \n",
       "3                      0               0                0                   0   \n",
       "4                      0               0                0                   0   \n",
       "...                  ...             ...              ...                 ...   \n",
       "20627                  0               0                0                   0   \n",
       "20628                  0               0                0                   0   \n",
       "20629                  0               0                0                   0   \n",
       "20630                  0               0                0                   0   \n",
       "20631                  0               0                0                   0   \n",
       "\n",
       "       category_Wearables  category_Web  category_Webseries  \n",
       "0                       0             0                   0  \n",
       "1                       0             0                   0  \n",
       "2                       0             0                   0  \n",
       "3                       0             0                   0  \n",
       "4                       0             0                   0  \n",
       "...                   ...           ...                 ...  \n",
       "20627                   0             0                   0  \n",
       "20628                   0             0                   0  \n",
       "20629                   0             0                   0  \n",
       "20630                   0             0                   0  \n",
       "20631                   0             0                   0  \n",
       "\n",
       "[20632 rows x 23 columns]"
      ]
     },
     "execution_count": 58,
     "metadata": {},
     "output_type": "execute_result"
    }
   ],
   "source": [
    "dummy_df"
   ]
  },
  {
   "cell_type": "code",
   "execution_count": 64,
   "metadata": {},
   "outputs": [],
   "source": [
    "X = pd.concat([X, dummy_df], axis=1)"
   ]
  },
  {
   "cell_type": "code",
   "execution_count": 71,
   "metadata": {},
   "outputs": [],
   "source": [
    "X[\"new\"] = X[\"blurb\"] + \"#\" + X[\"name\"] + \"#\" + X[\"category\"]"
   ]
  },
  {
   "cell_type": "code",
   "execution_count": 77,
   "metadata": {},
   "outputs": [
    {
     "name": "stdout",
     "output_type": "stream",
     "text": [
      "Epoch 1/6\n",
      "516/516 [==============================] - 3s 4ms/step - loss: 0.6006 - accuracy: 0.7071 - val_loss: 0.5836 - val_accuracy: 0.7044\n",
      "Epoch 2/6\n",
      "516/516 [==============================] - 2s 3ms/step - loss: 0.5360 - accuracy: 0.7265 - val_loss: 0.5262 - val_accuracy: 0.7264\n",
      "Epoch 3/6\n",
      "516/516 [==============================] - 2s 3ms/step - loss: 0.4860 - accuracy: 0.7587 - val_loss: 0.5092 - val_accuracy: 0.7429\n",
      "Epoch 4/6\n",
      "516/516 [==============================] - 2s 3ms/step - loss: 0.4699 - accuracy: 0.7693 - val_loss: 0.5116 - val_accuracy: 0.7422\n",
      "Epoch 5/6\n",
      "516/516 [==============================] - 2s 3ms/step - loss: 0.4601 - accuracy: 0.7761 - val_loss: 0.5090 - val_accuracy: 0.7461\n",
      "Epoch 6/6\n",
      "516/516 [==============================] - 2s 3ms/step - loss: 0.4540 - accuracy: 0.7789 - val_loss: 0.5066 - val_accuracy: 0.7507\n"
     ]
    },
    {
     "data": {
      "image/png": "[encoded data removed]",
      "text/plain": [
       "<Figure size 640x480 with 1 Axes>"
      ]
     },
     "metadata": {},
     "output_type": "display_data"
    }
   ],
   "source": [
    "from sklearn.model_selection import train_test_split\n",
    "# text classification\n",
    "import tensorflow as tf\n",
    "\n",
    "blurb_train, blurb_test, y_train, y_test = train_test_split(\n",
    "    X[\"new\"], y, test_size=0.2, random_state=42\n",
    ")\n",
    "\n",
    "# Create a tokenizer to preprocess our text descriptions\n",
    "tokenizer = tf.keras.preprocessing.text.Tokenizer(num_words=1000)\n",
    "tokenizer.fit_on_texts(blurb_train)\n",
    "\n",
    "# Create training and validation sets using an 80-20 split\n",
    "training_sequences = tokenizer.texts_to_sequences(blurb_train)\n",
    "training_padded = tf.keras.preprocessing.sequence.pad_sequences(\n",
    "    training_sequences, maxlen=100, padding=\"post\", truncating=\"post\"\n",
    ")\n",
    "\n",
    "validation_sequences = tokenizer.texts_to_sequences(blurb_test)\n",
    "validation_padded = tf.keras.preprocessing.sequence.pad_sequences(\n",
    "    validation_sequences, maxlen=100, padding=\"post\", truncating=\"post\"\n",
    ")\n",
    "\n",
    "# Create the model\n",
    "model = tf.keras.Sequential(\n",
    "    [\n",
    "        tf.keras.layers.Embedding(1000, 16, input_length=100),\n",
    "        tf.keras.layers.GlobalAveragePooling1D(),\n",
    "        tf.keras.layers.Dense(24, activation=\"relu\"),\n",
    "        tf.keras.layers.Dense(1, activation=\"sigmoid\"),\n",
    "    ]   \n",
    ")\n",
    "model.compile(loss=\"binary_crossentropy\", optimizer=\"adam\", metrics=[\"accuracy\"])\n",
    "\n",
    "# Train the model\n",
    "history = model.fit(\n",
    "    training_padded, y_train, epochs=6, validation_data=(validation_padded, y_test)\n",
    ")\n",
    "\n",
    "# Plot the accuracy and loss curves\n",
    "import matplotlib.pyplot as plt\n",
    "\n",
    "plt.plot(history.history[\"accuracy\"])\n",
    "plt.plot(history.history[\"val_accuracy\"])\n",
    "plt.title(\"model accuracy\")\n",
    "plt.ylabel(\"accuracy\")\n",
    "plt.xlabel(\"epoch\")\n",
    "plt.legend([\"train\", \"validation\"], loc=\"upper left\")\n",
    "plt.show()"
   ]
  },
  {
   "cell_type": "code",
   "execution_count": null,
   "metadata": {},
   "outputs": [],
   "source": [
    "from sklearn.metrics import confusion_matrix\n",
    "from sklearn.metrics import ConfusionMatrixDisplay\n",
    "cm = confusion_matrix(y_test, classifier.predict(X_test))\n",
    "disp = ConfusionMatrixDisplay(confusion_matrix=cm, display_labels=classifier.classes_)\n",
    "disp.plot()"
   ]
  },
  {
   "cell_type": "code",
   "execution_count": 237,
   "metadata": {},
   "outputs": [],
   "source": [
    "from sklearn.metrics import roc_curve, roc_auc_score\n",
    "\n",
    "y_pred_proba = classifier.predict_proba(X_test)[:, 1]\n",
    "fpr, tpr, thresholds = roc_curve(y_test, y_pred_proba)\n",
    "auc = roc_auc_score(y_test, y_pred_proba)\n"
   ]
  },
  {
   "cell_type": "code",
   "execution_count": 213,
   "metadata": {},
   "outputs": [
    {
     "data": {
      "application/vnd.plotly.v1+json": {
       "config": {
        "plotlyServerURL": "https://plot.ly"
       },
       "data": [
        {
         "hovertemplate": "fpr: %{x:.2f}<br>tpr: %{y:.2f}<br>threshold: %{text:.2f}",
         "line": {
          "color": "darkorange",
          "width": 2
         },
         "mode": "lines",
         "name": "ROC curve (area = 0.74)",
         "text": [
          1.9998989417521917,
          0.9998989417521918,
          0.9959172071552428,
          0.9954716832660511,
          0.9923950532076772,
          0.9917788348725477,
          0.991662848341503,
          0.9912882503155415,
          0.9883552731387852,
          0.9872596630383238,
          0.9854262998187248,
          0.9848416244413716,
          0.9827767008619073,
          0.9827022482225666,
          0.9822576388614519,
          0.9814236388288713,
          0.9778127461773403,
          0.9776540696595207,
          0.9758358548113714,
          0.9755124029367532,
          0.9719013096060707,
          0.9711913261428468,
          0.9703930016666241,
          0.9702389919855041,
          0.9662224886379457,
          0.964959177880756,
          0.9643808541082365,
          0.9641381814607103,
          0.9623998859950175,
          0.9622513936137503,
          0.9599522637985022,
          0.9591398207938885,
          0.9590901876030513,
          0.9568830375086569,
          0.9568366055260312,
          0.9564119355677421,
          0.955360534906479,
          0.9542212749288215,
          0.9539166189991891,
          0.9536997586364921,
          0.9509859514134469,
          0.9498783877702173,
          0.9376000705997293,
          0.9296303725443998,
          0.928971200811464,
          0.9282754660127617,
          0.9261248588950688,
          0.9257221729866305,
          0.9244908665456104,
          0.9237771535148186,
          0.9232577979216816,
          0.922721939407038,
          0.9220139831006734,
          0.9219917901452874,
          0.921209230877849,
          0.9210160762186843,
          0.9179056756721764,
          0.9172865662592353,
          0.9170034893955253,
          0.9169998080223588,
          0.9169944311100462,
          0.9165622127410722,
          0.9157910086035312,
          0.9143943221865487,
          0.9139856180507351,
          0.9137644326587362,
          0.9137507093715074,
          0.9125843573612759,
          0.9122053877081826,
          0.9101102536561715,
          0.910031167080696,
          0.9064568997235163,
          0.9063109587315026,
          0.9058210992524585,
          0.9058190847423148,
          0.9056205726121237,
          0.9038664020289147,
          0.9029287980626874,
          0.902788218928576,
          0.902549050086071,
          0.9019733930662405,
          0.9017678733479765,
          0.9011942909063205,
          0.8999066104375869,
          0.8991965464183516,
          0.8976164091309633,
          0.8948566792787438,
          0.8943542664054384,
          0.8942594907579449,
          0.8938281519020276,
          0.8924638823783426,
          0.8915803096098557,
          0.891494424201609,
          0.8910183011391514,
          0.890876962752168,
          0.8887939163917952,
          0.8875683705362155,
          0.8867442875235165,
          0.8849705844091047,
          0.8847786143921055,
          0.883167004326251,
          0.8829532005731272,
          0.8815472638030044,
          0.8814730431963291,
          0.8779000636866116,
          0.877692620954745,
          0.8768492389359731,
          0.8767344622074698,
          0.8762575608399118,
          0.875282665169257,
          0.8748403200532074,
          0.8737985810965373,
          0.8725685319886649,
          0.8712240398136584,
          0.8712099872289037,
          0.8703968676680651,
          0.869242053065476,
          0.8685359252203667,
          0.8664491434873168,
          0.8661807913916731,
          0.8651237828535369,
          0.8634041890824201,
          0.8616726328904468,
          0.8584407343081379,
          0.8581499710393345,
          0.8581369978103076,
          0.8579770034745201,
          0.8560335667116499,
          0.855267455027133,
          0.8545434660184404,
          0.8539636401448265,
          0.85086870725349,
          0.8500936945801968,
          0.8488200176117452,
          0.8478792055501164,
          0.8471888911902112,
          0.8469770556749808,
          0.8465062866274475,
          0.8462940108225677,
          0.8449530138081252,
          0.8438803318345715,
          0.839937862883507,
          0.8366612073128047,
          0.8362433566954179,
          0.8340822888420817,
          0.8335275885627753,
          0.8329937154028637,
          0.8316138056278046,
          0.828858915778518,
          0.8283539811689375,
          0.8274474152324529,
          0.8261042711918904,
          0.8259811666794262,
          0.8254026870237287,
          0.82301225541289,
          0.8211841471992787,
          0.8202312387796515,
          0.8190009015217868,
          0.8165205506639723,
          0.8163639959216766,
          0.8158257161118725,
          0.8140823949080958,
          0.8140514738875423,
          0.8107729182490765,
          0.8096629780360433,
          0.8070603508599303,
          0.8064180813644722,
          0.8064058174828281,
          0.8033694719523691,
          0.800101461008143,
          0.7993887830374972,
          0.7973504299493406,
          0.7961592059676382,
          0.7941938388122975,
          0.7938305436961199,
          0.7926150207038668,
          0.791577407660309,
          0.7911797143741484,
          0.7908502959762613,
          0.7896313892896558,
          0.7894567690409048,
          0.7889589752814404,
          0.7862721670608118,
          0.7844858103126114,
          0.7840258754645162,
          0.7833463262618561,
          0.7833157883034852,
          0.782441935237106,
          0.7816265521746746,
          0.7812741008624355,
          0.779060926155284,
          0.7776359700338779,
          0.7753386132189296,
          0.7752931326109594,
          0.7730117496108013,
          0.7727310726964542,
          0.7724525607072844,
          0.7713506930204578,
          0.7709021507138779,
          0.7681216251406062,
          0.7641340768629461,
          0.7627899847457882,
          0.762559821768679,
          0.7614794554534099,
          0.7593474379564372,
          0.758884551773774,
          0.7580054558747077,
          0.7577976154363483,
          0.7573461862576525,
          0.7564964467215298,
          0.7555688147158681,
          0.7555641623145205,
          0.7552837255134773,
          0.755010987547888,
          0.754473019304069,
          0.7540914031271319,
          0.7507579246402001,
          0.7505148790559174,
          0.7491840235092776,
          0.7490650990290163,
          0.7490311616563676,
          0.7489650273849092,
          0.748808099388089,
          0.7481874322116425,
          0.7467214261479302,
          0.7464505950685635,
          0.7464075107592493,
          0.7437871040943921,
          0.7425269281627599,
          0.7399365478721688,
          0.7396283415345486,
          0.7393033772336647,
          0.7380469575668162,
          0.7371693316844692,
          0.7356775643755507,
          0.7353408049608323,
          0.7348809897223724,
          0.734828477408511,
          0.7327088117918775,
          0.7326615813986261,
          0.729982211053186,
          0.7279475721188576,
          0.7265316356456569,
          0.725790245948115,
          0.7248327421537962,
          0.7247795279021523,
          0.7244749116108425,
          0.7241518893829149,
          0.7238335063423335,
          0.7237937553439788,
          0.723039255052012,
          0.7224858843763088,
          0.7208256141444185,
          0.7202229805858085,
          0.7192618039789245,
          0.7156409526517159,
          0.7138479428087371,
          0.7113703781070515,
          0.7102514561929576,
          0.7071131161130496,
          0.7056038448614423,
          0.703779134776985,
          0.7025201453336339,
          0.7024790318848628,
          0.7022894932592085,
          0.6992141923723368,
          0.6974603085015976,
          0.6969942391910385,
          0.6969335345305762,
          0.6965757856327004,
          0.6963853496053607,
          0.6960691965486716,
          0.6950245948760699,
          0.6927633100771994,
          0.6925690237317496,
          0.6924161164643926,
          0.6920160180832228,
          0.6911678836878505,
          0.6910112104449521,
          0.6894625132597573,
          0.6885997115030031,
          0.6885729558605616,
          0.687993338979457,
          0.6873912752944047,
          0.6868960742109373,
          0.685330022919803,
          0.6840541745569854,
          0.6835065270544792,
          0.6791538449744327,
          0.6783877025230162,
          0.6768853214320376,
          0.6756561480185959,
          0.6743479105388263,
          0.6731216682324849,
          0.6713133010554659,
          0.6696956753859343,
          0.6695644922367681,
          0.6686318143187618,
          0.6678996357288891,
          0.6664302480092789,
          0.6650392780915384,
          0.6609889847463132,
          0.658536740133583,
          0.6585258985743165,
          0.6562683246132284,
          0.6543495052764692,
          0.6542105319874288,
          0.651955837661256,
          0.647971889688074,
          0.6479140865172895,
          0.647395041747854,
          0.647086994145147,
          0.6459465862468158,
          0.6458228623429023,
          0.6451362222182827,
          0.6447687082875628,
          0.6393219696527866,
          0.6365946565520749,
          0.6357767088597048,
          0.6352481939877997,
          0.6345690615304581,
          0.6329100679035436,
          0.6312483880550029,
          0.6302891843278899,
          0.6286396754786464,
          0.6278744884152092,
          0.6268028483708327,
          0.6264871496447685,
          0.6231046342788249,
          0.6228029747694644,
          0.6222945044856575,
          0.6216783615800496,
          0.6214751105010338,
          0.6180298500457757,
          0.6180066292387266,
          0.617121900662619,
          0.6170645317781065,
          0.6161523123022763,
          0.6143749697995566,
          0.6137447668165579,
          0.6122470503388404,
          0.6121715422198992,
          0.6120740496872009,
          0.6112350013924213,
          0.6101305092677057,
          0.608871627522392,
          0.6082037979877699,
          0.6058080134039703,
          0.6057443088675818,
          0.605358451270599,
          0.6048243218586796,
          0.6030911118172562,
          0.5986641309652839,
          0.5980469595130683,
          0.5964720322870647,
          0.5955237529648808,
          0.5927761357022538,
          0.5925584845106161,
          0.5916365408606294,
          0.5910311314600788,
          0.5906826003628807,
          0.5898364192696149,
          0.589573176042536,
          0.5887765343275719,
          0.5887145890984291,
          0.588090674574004,
          0.5873130489364584,
          0.5833426241648865,
          0.5829338527243653,
          0.5820533683006345,
          0.5814384294864717,
          0.5803391092943572,
          0.5800976785688557,
          0.5798444544864982,
          0.5792694578098699,
          0.5789413942969783,
          0.5785080618996933,
          0.5781161031210569,
          0.577708335510269,
          0.5774157140079592,
          0.5767458534729788,
          0.5766285215067677,
          0.5759929789747485,
          0.5745163000869637,
          0.5727506839168756,
          0.5695915534710702,
          0.5674248099255741,
          0.5657881262238197,
          0.5633855560711142,
          0.5623456151854509,
          0.5617314744553119,
          0.5614967599892379,
          0.560605257835673,
          0.5602314942091862,
          0.5600705287954013,
          0.5579001355835134,
          0.5577708436163937,
          0.5549600558053909,
          0.5545230227989326,
          0.5526536609545938,
          0.5516065062790727,
          0.5492916725548528,
          0.5483841135021789,
          0.54802078193905,
          0.5477073007655465,
          0.5475892660103867,
          0.5467650964409868,
          0.5452524809476241,
          0.5411956429060075,
          0.5411780114947728,
          0.5409151439701382,
          0.5405802162383986,
          0.5360515936923481,
          0.535614877952059,
          0.5353722733960581,
          0.5343272401765498,
          0.5342757219866539,
          0.5324477185367416,
          0.5317249510791009,
          0.5306551651475733,
          0.5302763934797753,
          0.5295781190079552,
          0.5295370108750079,
          0.5271515271839339,
          0.526481530302408,
          0.5263999342643431,
          0.5258964085493905,
          0.5249197769294384,
          0.5228214809946405,
          0.5213061750061643,
          0.5210728951981504,
          0.5197713347596661,
          0.5192522740557268,
          0.5191881463845948,
          0.5177459609314802,
          0.5157771699499022,
          0.5153339731341356,
          0.5151047191833251,
          0.5110262245200156,
          0.5095668587032748,
          0.5094737858004716,
          0.5088259430497665,
          0.508165714263725,
          0.5068700663737378,
          0.5059757177729176,
          0.5032915159777646,
          0.5031753231815521,
          0.5015712812496733,
          0.5014999462782195,
          0.5009187478170375,
          0.49989384757222016,
          0.4990222534089654,
          0.49874363819591144,
          0.49841550191951073,
          0.49805547582860843,
          0.49759389662984094,
          0.4969691149232626,
          0.4961118277053871,
          0.49544881172576993,
          0.49499401586021524,
          0.4944897770066621,
          0.4915381140098325,
          0.4909331015166645,
          0.4900970860393272,
          0.49000308615085225,
          0.48951396039257744,
          0.48712787955228637,
          0.486738894477103,
          0.4856904554212345,
          0.48466501857572547,
          0.4834676958106455,
          0.48332167189371106,
          0.4830317676261933,
          0.48123816754749094,
          0.481205150240771,
          0.48099607960539176,
          0.4809878036645468,
          0.4794831579059813,
          0.4788557219079028,
          0.4787680189188102,
          0.4783698460234257,
          0.47805558524011776,
          0.47791237022113403,
          0.47516847514125904,
          0.4747835930483298,
          0.4743030694035959,
          0.47411690021190883,
          0.4734690016043982,
          0.47170059506097867,
          0.47081746996765794,
          0.4682610546893508,
          0.46730486205085175,
          0.4661383986149873,
          0.4649054921395004,
          0.46466469798463006,
          0.46435047802125845,
          0.46398786740804926,
          0.46090596881463997,
          0.4604669768563014,
          0.45678141545527673,
          0.456619480957801,
          0.4561412645048626,
          0.45495535953809196,
          0.45480717660301695,
          0.4537322234517258,
          0.4529283809251893,
          0.4523200176282058,
          0.4506249574336149,
          0.4503806457729561,
          0.4485999626664077,
          0.4466949573161224,
          0.4447787862287669,
          0.4437184757288481,
          0.4434123885822488,
          0.4427922830827271,
          0.4426453374095845,
          0.4425262627424751,
          0.44208710568320986,
          0.4407118948692853,
          0.4402514537218159,
          0.4389878304494554,
          0.43817269074889265,
          0.4375994603293921,
          0.43759821071274646,
          0.43690064690519514,
          0.43609860151096497,
          0.4360380120528948,
          0.43269158805735364,
          0.43162929254094407,
          0.4308941154150931,
          0.4291285894527693,
          0.4282615770140876,
          0.42798813632893734,
          0.42561664653433284,
          0.4254190618162152,
          0.4222487586598395,
          0.42177820695008394,
          0.4214970081962621,
          0.42137735165767937,
          0.4212104944623191,
          0.42005217181320686,
          0.4192308077687783,
          0.4187044073953901,
          0.4174148175244754,
          0.4170209597936648,
          0.4169271016408345,
          0.4168915659639546,
          0.41564391144084806,
          0.41552577564015686,
          0.4114396585670467,
          0.41138102748149885,
          0.4113587422550344,
          0.4110079868191486,
          0.41084098535995983,
          0.4101454410980327,
          0.40992184314653923,
          0.4087672336342354,
          0.40843231095196963,
          0.4070055123812092,
          0.4067294419267129,
          0.40484708558938326,
          0.404017245325478,
          0.4032360859844502,
          0.40295638467116085,
          0.40282445261387395,
          0.4002764864779958,
          0.39943216558326344,
          0.3989906346903944,
          0.3980828881365143,
          0.39598582270770377,
          0.3958524363699426,
          0.39521508463570015,
          0.39514943673938036,
          0.39397274030659485,
          0.3939509834510054,
          0.3927487747922432,
          0.3924142337599329,
          0.39214058060272317,
          0.3919028069956675,
          0.3904012071910409,
          0.38931996639176464,
          0.3883048417147072,
          0.38811804333247546,
          0.3868720789711897,
          0.38554177262283096,
          0.3853720179143867,
          0.3839364787313917,
          0.38359887623788336,
          0.38254937208788803,
          0.3824899112568904,
          0.3824721963377454,
          0.38120067935027013,
          0.3806060704209495,
          0.38032185364349724,
          0.37992032884622196,
          0.3792850013959046,
          0.37851959297712384,
          0.37708740078635505,
          0.37652033640541893,
          0.37446692184406527,
          0.37417375145955173,
          0.3729265441028845,
          0.3728695047990616,
          0.37252217213778316,
          0.3723070357992781,
          0.3712589514762931,
          0.37111006983201444,
          0.3704180052525688,
          0.3703831846652963,
          0.36995492309134415,
          0.3698429073386484,
          0.3695273910817737,
          0.3694392439060204,
          0.36800063229493857,
          0.36754287804990915,
          0.36703879573464276,
          0.36663533754826894,
          0.3659452708709483,
          0.3658658750692854,
          0.36514532746865724,
          0.3651108935830432,
          0.3648495819552528,
          0.3646637831609505,
          0.3620855859648113,
          0.3607689067973944,
          0.360285145229252,
          0.3598544294375405,
          0.358818898765601,
          0.3587096079064684,
          0.3573286689558273,
          0.35698130738221645,
          0.3569780845738875,
          0.356857738581323,
          0.35651041027121916,
          0.35626201498705334,
          0.35385857099258383,
          0.35346516073451745,
          0.35001995171934247,
          0.34874833018461976,
          0.34847631449507593,
          0.3458360850617907,
          0.3455875503898853,
          0.3444566665090551,
          0.3443669725545108,
          0.3440769915884148,
          0.3437520168009037,
          0.3431534656796394,
          0.3426615169879283,
          0.34176081433790684,
          0.34074790268451766,
          0.33893329039235737,
          0.33884822819181554,
          0.3379177571861437,
          0.33780423877909277,
          0.3363316430162516,
          0.3356476425742915,
          0.33553566646070787,
          0.33494451830126337,
          0.33349266725267523,
          0.33029831124620856,
          0.3298619648364094,
          0.3293325577690589,
          0.3292035293032672,
          0.3288886244995555,
          0.3277485541457534,
          0.3276929924885847,
          0.32697229205191186,
          0.3268702400106519,
          0.325787350949556,
          0.32558106934313724,
          0.32550287572392617,
          0.32462330869812356,
          0.3243452288806101,
          0.32402396719786974,
          0.32343954154187027,
          0.32259126005064853,
          0.3219530855441512,
          0.32158262359675177,
          0.32134902008863236,
          0.3211588503301443,
          0.3194878539621559,
          0.31840665412401886,
          0.31812994199134864,
          0.3178180751546303,
          0.31601599253220986,
          0.3158433405272668,
          0.315623881463798,
          0.3154454596751864,
          0.3153265365160517,
          0.3151248525655499,
          0.3140936741134075,
          0.31368570948636487,
          0.31260992595100073,
          0.3123607974053946,
          0.3119606888182682,
          0.31067080638737743,
          0.30779093890677306,
          0.30737545414850953,
          0.30704128440800493,
          0.3067909584463077,
          0.3066535318736275,
          0.3065693309401607,
          0.3063173212912883,
          0.3060990449955665,
          0.3051290337572876,
          0.30459771911953526,
          0.3037476776102912,
          0.30236575729116216,
          0.3003049894322586,
          0.3002649864940661,
          0.3000065804542574,
          0.2989820006317703,
          0.2987919035495463,
          0.2987422261268713,
          0.298317265783469,
          0.2969714952741873,
          0.29553186652016356,
          0.2931177302387455,
          0.29145420250908743,
          0.2914378401961345,
          0.29122657657427864,
          0.2901538897863347,
          0.28994690838574927,
          0.2887856749956464,
          0.28833008400126064,
          0.288218209785473,
          0.28815503568315065,
          0.28805737520359315,
          0.28644917014527105,
          0.2862123998359499,
          0.2860778570977561,
          0.2857031880422914,
          0.28558160616713874,
          0.2837984436698099,
          0.2828519958983072,
          0.28282867023561264,
          0.28258270324997375,
          0.28244228225042384,
          0.2798104960029637,
          0.27829778368239266,
          0.27605176886062377,
          0.27598855001703926,
          0.27458130984992807,
          0.27328563853392496,
          0.27161025896650254,
          0.27064270611749963,
          0.26991744823243335,
          0.2697698771094815,
          0.2695740650824552,
          0.2694049102325182,
          0.2691804480266617,
          0.2688731491792691,
          0.2678586776278884,
          0.26751320804235224,
          0.2661630800260085,
          0.26533921146903694,
          0.2643660449110484,
          0.26344636433978197,
          0.2633044691128896,
          0.26316551460101606,
          0.2628594269399772,
          0.262045772748518,
          0.2615317665289648,
          0.2614535696209314,
          0.2607885050978869,
          0.26059867465810527,
          0.260136221469911,
          0.25950476394394195,
          0.259201520866009,
          0.2591187697730721,
          0.2589169153740819,
          0.2587045795090542,
          0.2582184990035352,
          0.25821593417048994,
          0.25719990728436143,
          0.25719961603617864,
          0.25672265942842,
          0.25633345103215466,
          0.2554015724158298,
          0.2547177425410091,
          0.25449875049886317,
          0.25406438372557627,
          0.25401988971046274,
          0.25384389769721805,
          0.2530695787284975,
          0.25288837931471486,
          0.2517721832576607,
          0.2514194511042196,
          0.2506426432871771,
          0.24983063908324296,
          0.2494582677408074,
          0.24937999458114027,
          0.24897511381213425,
          0.24860873435863937,
          0.24792228817922451,
          0.2478271853235784,
          0.24775154854112613,
          0.24600799154774897,
          0.24541689372901637,
          0.2448471342200291,
          0.24435291253120556,
          0.24376014143746033,
          0.24363682278096963,
          0.24340059874842265,
          0.24328896182717846,
          0.24305612350112682,
          0.2423929055435529,
          0.24205134018814872,
          0.24133373498144267,
          0.24121721095184154,
          0.23937840470173338,
          0.23924326985922742,
          0.238826456990318,
          0.2385759834340984,
          0.23836400426205753,
          0.23749268822497518,
          0.23705944341690685,
          0.23626609381682684,
          0.23590328008941464,
          0.2345379145185128,
          0.23440762733796297,
          0.23434171197036266,
          0.2339850117903199,
          0.23385801599054631,
          0.23302168970338324,
          0.23297271521734458,
          0.23253428274741433,
          0.232532304892065,
          0.23225538171111712,
          0.23193827715851176,
          0.23167618484257688,
          0.23099281284297773,
          0.2303689251774954,
          0.23008475027196673,
          0.22708708301520458,
          0.22696504095885836,
          0.22599569918750922,
          0.22584050021475993,
          0.225688720922992,
          0.22528942467671084,
          0.2237176229983898,
          0.223438039899105,
          0.22218991702978405,
          0.22199125268587938,
          0.22196667335931108,
          0.22172124233650936,
          0.21937852360467075,
          0.21934293022693363,
          0.21893306319244943,
          0.21888567374963727,
          0.21874545144787252,
          0.2186645402060727,
          0.218611315408376,
          0.21784399759005346,
          0.2177067708227636,
          0.21756098985726283,
          0.2171533375374542,
          0.21676412714428872,
          0.21666462740038805,
          0.21591724675224658,
          0.2158336447639742,
          0.21561118264186244,
          0.21542743957723928,
          0.21504098451685927,
          0.21469932757124216,
          0.21410306856981118,
          0.21398998878704295,
          0.2130059416876067,
          0.21271752131558558,
          0.2120371369669961,
          0.21026215020865355,
          0.20963104519153786,
          0.2096139467141974,
          0.20951016369052058,
          0.20940422744187062,
          0.20852727757892364,
          0.2080992832180468,
          0.20793588057655205,
          0.2077017281491423,
          0.20729487794739504,
          0.20677071675039635,
          0.2054166100583325,
          0.2051610218804887,
          0.20473907152399176,
          0.20449490879875498,
          0.20430322807775583,
          0.20423050097918202,
          0.20255511829146153,
          0.20232062166879636,
          0.20192974585005144,
          0.2014801452837279,
          0.20097554334183804,
          0.2008024111851521,
          0.1996152014412774,
          0.1994069675046441,
          0.19797329176756023,
          0.19796721231613,
          0.19719782784766218,
          0.19701813684053585,
          0.19612515287794927,
          0.19596030104831713,
          0.19577725680718883,
          0.19553509769122415,
          0.19504646538168438,
          0.1948329629481095,
          0.19421566575654337,
          0.1939176618689683,
          0.19326732788672193,
          0.19320546116919038,
          0.1928146936229916,
          0.19264768606851287,
          0.19248352780986377,
          0.1922374892059186,
          0.19177940125686685,
          0.19126990223220916,
          0.19117119355498335,
          0.19042994835293459,
          0.19026201636881426,
          0.19025160151744094,
          0.18985342762002694,
          0.18905646553708286,
          0.18796927562883176,
          0.18758499424517766,
          0.18660648851249198,
          0.1863439006236096,
          0.18610737349151918,
          0.18602500594368235,
          0.18579376356205785,
          0.18556045671433274,
          0.18553246193690934,
          0.1854327075426806,
          0.18513697088924924,
          0.18454414865984287,
          0.184152993599063,
          0.184115573762282,
          0.1828970680270712,
          0.18287443210586266,
          0.18282435617225598,
          0.1822014154293683,
          0.18128698010097152,
          0.1811814694279976,
          0.18092261569579138,
          0.17979119746184333,
          0.17920109292225406,
          0.1786341489852245,
          0.17768055406946762,
          0.17765176146762093,
          0.1769697353918963,
          0.17693900400905518,
          0.17556594616181878,
          0.17524893659005486,
          0.17489229760061495,
          0.17447015698749746,
          0.17352632694802542,
          0.1732249424872547,
          0.17118644436953726,
          0.1711454654182536,
          0.17028170013184893,
          0.1700547728649221,
          0.16980271707539374,
          0.16972408760800825,
          0.16850651742990685,
          0.16806107247209576,
          0.1678892283874326,
          0.1678663083022664,
          0.16769198807674848,
          0.1672878134209078,
          0.16655809465401183,
          0.16654872504406057,
          0.16530761587502238,
          0.16490166419302732,
          0.16417668291918355,
          0.16361414039479708,
          0.163289818029328,
          0.16276887664583195,
          0.16129481220436764,
          0.16110152735426736,
          0.15990157823039344,
          0.1597055599777582,
          0.15966165876214897,
          0.15960736340651113,
          0.15843548215749484,
          0.15834293877846034,
          0.15798952276988892,
          0.15768041092058552,
          0.1567635002986482,
          0.15670054038781223,
          0.15617026951171853,
          0.15591236318151366,
          0.15543571824767308,
          0.1551751997943966,
          0.15460210894101087,
          0.15439501626849997,
          0.15439163225804614,
          0.1543748266829561,
          0.1534363035341374,
          0.15311844681458728,
          0.1521828087505737,
          0.15217453554121876,
          0.15180314579220516,
          0.15159663206370663,
          0.1513293454970851,
          0.15096375378274365,
          0.15095283331359238,
          0.15050317835393714,
          0.1483036944557418,
          0.14779712129682773,
          0.1473798992378035,
          0.14713706569653706,
          0.1470976951949325,
          0.14707710379618488,
          0.1448251597940276,
          0.14471591332546196,
          0.14435798320540355,
          0.14418621317045227,
          0.14228645727968253,
          0.14222955599678624,
          0.14183501381450056,
          0.14160885479813273,
          0.1397719402956815,
          0.13967047092123094,
          0.13949984986320765,
          0.13926598157332434,
          0.1378351217542721,
          0.13710329546070452,
          0.1370443861326657,
          0.13697064895156583,
          0.13681000665948592,
          0.1361573780372283,
          0.13396590433915437,
          0.13394225510065683,
          0.13349140108874946,
          0.13334381353242516,
          0.1301051802908063,
          0.12996934639367996,
          0.12959545494048985,
          0.12928201180982576,
          0.12927358164101843,
          0.12925035694325326,
          0.12914923965157185,
          0.12900804770920493,
          0.12749112246611738,
          0.127375024800479,
          0.1264066438224041,
          0.12606920840601274,
          0.12584336003595223,
          0.12575584047453178,
          0.12568094973395974,
          0.12552470593423068,
          0.12525451209636074,
          0.1251672743310439,
          0.12456829878652573,
          0.12397204867942686,
          0.12239687453614352,
          0.12223002687697754,
          0.12219085010782024,
          0.12200290177672972,
          0.12043805862543154,
          0.12031442769386595,
          0.12007570828162704,
          0.12006560060461499,
          0.12002910565960301,
          0.11987807021605451,
          0.11958202062273138,
          0.11942304009774146,
          0.11903737478996784,
          0.11862383200606696,
          0.11795701365233031,
          0.11782901684341841,
          0.11600455133008056,
          0.11598166458036756,
          0.11556200377957555,
          0.11480243791016116,
          0.11466521202216168,
          0.11455647804889975,
          0.11380684252301977,
          0.1136576787246803,
          0.11339418218703132,
          0.11320020795730946,
          0.11292346160388327,
          0.11289483188551479,
          0.11271405195201271,
          0.11266919655684565,
          0.11249416371585014,
          0.11228233832626887,
          0.11179172589387361,
          0.11152862294412845,
          0.11045032875716156,
          0.11040778676407018,
          0.10923653947530886,
          0.10917673900094214,
          0.1086622147292993,
          0.1086306928190318,
          0.10814932945477411,
          0.10807442914570915,
          0.10744475290472676,
          0.10740311424394779,
          0.10740231479089032,
          0.1072221704677334,
          0.1069646753317917,
          0.10688700521375823,
          0.10523912440389514,
          0.10503751421667093,
          0.1048934203730473,
          0.10485067678118816,
          0.10446653488921763,
          0.10426071705984426,
          0.10393703531147243,
          0.1035535593009589,
          0.10349842259308024,
          0.10343866896439712,
          0.10258341366610244,
          0.10248972373172252,
          0.1016282224495868,
          0.10161043723579924,
          0.10123625189348853,
          0.10095069084116315,
          0.10064464121589463,
          0.10035941394237231,
          0.09958163754270284,
          0.09958147570889574,
          0.09927897229205261,
          0.0991872911453844,
          0.09870004802621309,
          0.09864929973593677,
          0.09809836992663377,
          0.09800172965456412,
          0.09793127557726249,
          0.09790859977302263,
          0.09755026228315587,
          0.09743906605095691,
          0.09713535546094744,
          0.09712174451312171,
          0.09608806873960413,
          0.09596822777894695,
          0.09586072119890209,
          0.0958014217264131,
          0.09548624072326216,
          0.09530738710698805,
          0.09441589976691939,
          0.09439038230656079,
          0.093416341870751,
          0.09338322387945351,
          0.09217054119680193,
          0.09168994286042613,
          0.09150446005153307,
          0.09147114857467464,
          0.09079792061230488,
          0.0906650615022623,
          0.08963618491472332,
          0.08957244284843908,
          0.08852864729354927,
          0.08828903628596903,
          0.08747392720487145,
          0.08744482911630348,
          0.08719667393946529,
          0.08687292076430776,
          0.08642579261884736,
          0.08635896845051334,
          0.08579926787128259,
          0.08515321051886594,
          0.08477309621625641,
          0.08474812604541287,
          0.08358738920451095,
          0.08356733508041574,
          0.08348102458214687,
          0.08347851346667635,
          0.08226835988834075,
          0.08207413922980575,
          0.08200479907739118,
          0.08185113470800588,
          0.08179336361606529,
          0.08153709541366805,
          0.08148065839783449,
          0.08055917458325698,
          0.07985703097613071,
          0.079708284086739,
          0.07953627651911009,
          0.07952922094198064,
          0.07894855935620611,
          0.07857437184608164,
          0.07734778781793182,
          0.07722376711776101,
          0.07704311122169202,
          0.07685750353003246,
          0.07359458669688045,
          0.07322782285822595,
          0.07169901443062518,
          0.07161971625674503,
          0.07160366215938314,
          0.07158596591522176,
          0.07132906073693511,
          0.0713084600638288,
          0.07103423988889923,
          0.07095172635310808,
          0.07083345310403119,
          0.07062002594521234,
          0.07030603906287472,
          0.07024832661704143,
          0.07023633339929485,
          0.07017179799578509,
          0.06999897521653936,
          0.0698560202222862,
          0.06981783868355611,
          0.06975863822999884,
          0.06946961289032798,
          0.06896722823061448,
          0.06884440018945644,
          0.06857372123116999,
          0.06772387563968071,
          0.06733885825518794,
          0.06727012722403589,
          0.06675342874740958,
          0.06674259102090985,
          0.06660936498962856,
          0.06632473048127227,
          0.06612480506152324,
          0.06611366250218088,
          0.06602151630543394,
          0.06596128742959073,
          0.06579312982790496,
          0.06562426717988407,
          0.06561991247683713,
          0.06418485517763876,
          0.06407908532019158,
          0.06343693005420797,
          0.06334976403796244,
          0.06306398818462088,
          0.06305472772670372,
          0.06288110327506567,
          0.06285886438109789,
          0.06202560287812819,
          0.06188950278901292,
          0.060922779597170816,
          0.06084730186398612,
          0.06061269683434612,
          0.060470624541018876,
          0.05993139691477344,
          0.05992865132722595,
          0.05887413315079921,
          0.05877640989425353,
          0.0581017444166647,
          0.058032804155371404,
          0.05755400603051083,
          0.0574109042129979,
          0.055959126050121086,
          0.055929970824879965,
          0.05576956362643579,
          0.05540575941033955,
          0.05523066581952069,
          0.05502377164023675,
          0.05498653023049508,
          0.05484643042322768,
          0.05484373262534837,
          0.05469544662507927,
          0.05453017248168806,
          0.05449438825821255,
          0.052701685466612316,
          0.0525377506156479,
          0.05221790291115311,
          0.05199110117957439,
          0.051926757119347085,
          0.051871343751475237,
          0.0517709698278643,
          0.05171602736153371,
          0.0516255227522503,
          0.05157678986273521,
          0.05119584787648789,
          0.05118497070933058,
          0.049661660478696,
          0.049658593755522,
          0.049625235274583984,
          0.04953156340858876,
          0.04862050522756891,
          0.04859930142689747,
          0.048468260781316545,
          0.048313778184691604,
          0.04727949974577575,
          0.047208019087874,
          0.04718390920370507,
          0.04707395832715191,
          0.04705154612821995,
          0.04691294190129142,
          0.04643583472410139,
          0.046420737196638494,
          0.0453697466330101,
          0.045179414723481644,
          0.044839019910412385,
          0.044829957597177596,
          0.04404222810513573,
          0.043915035629554684,
          0.04351694989510209,
          0.04343792052240248,
          0.04276184015605218,
          0.04270730648404334,
          0.042254164300615585,
          0.0421217646745608,
          0.04181566343419878,
          0.041780166407419744,
          0.04137693690358842,
          0.04108529745400393,
          0.04023872273557348,
          0.04016777051474405,
          0.03922974811838107,
          0.03922481594468364,
          0.0389315200314274,
          0.03892671097782965,
          0.03801517963441074,
          0.0379802375890935,
          0.037171872641287906,
          0.03713490493700094,
          0.03701527589068796,
          0.03674886453477235,
          0.0366996850008539,
          0.03660446293777545,
          0.03657703985146337,
          0.03647327310695034,
          0.036238102035230466,
          0.0360300954962617,
          0.03571483895716897,
          0.035601441277636654,
          0.035408977407899736,
          0.03501200926045158,
          0.034902120546971574,
          0.03476194619461257,
          0.03360824138339658,
          0.03357368867631034,
          0.03331946807176825,
          0.03324858810673639,
          0.03312608581742667,
          0.03268256763142219,
          0.03264923594010977,
          0.03258361430660901,
          0.03192993395787398,
          0.03185975311083154,
          0.031794889293018054,
          0.031706137335337836,
          0.0316311582856261,
          0.031625781555791425,
          0.03149832148256705,
          0.03146995514664789,
          0.030251257746876137,
          0.030239344483359094,
          0.02919178001914949,
          0.029135444887026355,
          0.02882915808057954,
          0.028790463588510565,
          0.027660920235971078,
          0.027541457579057925,
          0.026984337873291405,
          0.026826540600075995,
          0.02639408772120685,
          0.026303268900084723,
          0.02494707477549405,
          0.024937407762523497,
          0.024462931723022836,
          0.024366201425233054,
          0.023517035294746084,
          0.023432857868970633,
          0.023303366435017302,
          0.023265242481101654,
          0.022967626027630396,
          0.022867758125667086,
          0.02281169830545406,
          0.022632308508167512,
          0.022527733971898226,
          0.022527597116253986,
          0.021048872460604922,
          0.020974942242098726,
          0.020260948859926547,
          0.02021656082969264,
          0.020126121063074102,
          0.02009925990366714,
          0.019985167723693183,
          0.019900143031091534,
          0.01954134028567272,
          0.01949023804446299,
          0.018316817291494647,
          0.01826684509447571,
          0.01815422579234795,
          0.018105274890566094,
          0.017701257267157076,
          0.017690303907967418,
          0.01742376402517403,
          0.01719750316745703,
          0.017146159653584757,
          0.017136419490127397,
          0.016470488824996958,
          0.01634934976438777,
          0.015134894993637895,
          0.015093461408960333,
          0.01501371834144317,
          0.014862668313543574,
          0.013892582843572381,
          0.013869249725569861,
          0.013635896064125736,
          0.01361412914932587,
          0.013539011500485084,
          0.013519653634231276,
          0.013172849312024887,
          0.013112197195401878,
          0.01220943797069547,
          0.012191478855913514,
          0.012184455113003824,
          0.012097742660274406,
          0.010987486353667265,
          0.01097360385508322,
          0.010778643663070351,
          0.010731454292127249,
          0.010384724470017863,
          0.010307971824144248,
          0.010170017868837703,
          0.010131374204672722,
          0.009503510983412693,
          0.009464247510967335,
          0.00926974375979143,
          0.00921711904973201,
          0.009181437597222328,
          0.00916363696283736,
          0.009085076749230762,
          0.009073265718153707,
          0.008488082756655795,
          0.00846756306938529,
          0.008448364887031042,
          0.00828886956972101,
          0.008127382645533135,
          0.008058218925987957,
          0.008015972506008008,
          0.00799266344560236,
          0.006509986662617799,
          0.006508793752615635,
          0.005119333743927709,
          0.005067289593638397,
          0.004248066232188683,
          0.0042042676220869915,
          0.00348303587157063,
          0.003454971328448227,
          0.003334945542689506,
          0.003312506485421214,
          0.0031466210625254857,
          0.0030719615004060944,
          0.003009136218128491,
          0.0029915352412348915,
          0.0026849624375632933,
          0.002669653424375343,
          0.001540657291271088,
          0.0015280479977291472,
          0.0014170543381895704,
          0.0014067480876702957,
          0.0013892554927554123,
          0.0013861417354931057,
          0.0012342282639844838,
          0.00121423646183998,
          0.0008182105633600291,
          0.000818129287950346,
          0.00047577729581420785,
          0.000475747865382606,
          0.000001131593368110584
         ],
         "type": "scatter",
         "x": [
          0,
          0,
          0,
          0.0003439972480220158,
          0.0003439972480220158,
          0.0006879944960440316,
          0.0006879944960440316,
          0.0010319917440660474,
          0.0010319917440660474,
          0.0017199862401100791,
          0.0017199862401100791,
          0.0020639834881320948,
          0.0020639834881320948,
          0.002407980736154111,
          0.002407980736154111,
          0.0030959752321981426,
          0.0030959752321981426,
          0.003783969728242174,
          0.003783969728242174,
          0.0041279669762641896,
          0.0041279669762641896,
          0.004815961472308222,
          0.004815961472308222,
          0.005503955968352253,
          0.005503955968352253,
          0.005847953216374269,
          0.005847953216374269,
          0.006191950464396285,
          0.006191950464396285,
          0.006535947712418301,
          0.006535947712418301,
          0.007223942208462332,
          0.007223942208462332,
          0.007911936704506364,
          0.007911936704506364,
          0.008255933952528379,
          0.008255933952528379,
          0.008943928448572412,
          0.008943928448572412,
          0.009287925696594427,
          0.009287925696594427,
          0.009631922944616443,
          0.009631922944616443,
          0.012039903680770554,
          0.012039903680770554,
          0.01238390092879257,
          0.01238390092879257,
          0.012727898176814585,
          0.012727898176814585,
          0.013415892672858616,
          0.013415892672858616,
          0.014447884416924664,
          0.014447884416924664,
          0.01479188166494668,
          0.01479188166494668,
          0.015135878912968696,
          0.015135878912968696,
          0.015479876160990712,
          0.015479876160990712,
          0.01582387340901273,
          0.01582387340901273,
          0.016511867905056758,
          0.016511867905056758,
          0.016855865153078776,
          0.016855865153078776,
          0.01719986240110079,
          0.01719986240110079,
          0.017543859649122806,
          0.017543859649122806,
          0.01891984864121087,
          0.01891984864121087,
          0.019263845889232887,
          0.019263845889232887,
          0.0196078431372549,
          0.0196078431372549,
          0.019951840385276916,
          0.019951840385276916,
          0.020295837633298935,
          0.020295837633298935,
          0.02063983488132095,
          0.02063983488132095,
          0.020983832129342964,
          0.020983832129342964,
          0.022015823873409012,
          0.022015823873409012,
          0.022703818369453045,
          0.022703818369453045,
          0.02304781561747506,
          0.02304781561747506,
          0.023391812865497075,
          0.023391812865497075,
          0.023735810113519093,
          0.023735810113519093,
          0.024079807361541108,
          0.024079807361541108,
          0.024423804609563123,
          0.024423804609563123,
          0.02545579635362917,
          0.02545579635362917,
          0.025799793601651185,
          0.025799793601651185,
          0.026143790849673203,
          0.026143790849673203,
          0.026831785345717233,
          0.026831785345717233,
          0.02786377708978328,
          0.02786377708978328,
          0.0282077743378053,
          0.0282077743378053,
          0.028551771585827314,
          0.028551771585827314,
          0.02889576883384933,
          0.02889576883384933,
          0.029239766081871343,
          0.029239766081871343,
          0.029927760577915376,
          0.029927760577915376,
          0.03027175782593739,
          0.03027175782593739,
          0.03061575507395941,
          0.03061575507395941,
          0.03164774681802546,
          0.03164774681802546,
          0.033023735810113516,
          0.033023735810113516,
          0.033367733058135535,
          0.033367733058135535,
          0.034055727554179564,
          0.034055727554179564,
          0.03439972480220158,
          0.03439972480220158,
          0.03646370829033368,
          0.03646370829033368,
          0.036807705538355696,
          0.036807705538355696,
          0.03715170278637771,
          0.03715170278637771,
          0.037495700034399726,
          0.037495700034399726,
          0.038183694530443756,
          0.038183694530443756,
          0.0392156862745098,
          0.0392156862745098,
          0.03955968352253182,
          0.03955968352253182,
          0.04024767801857585,
          0.04024767801857585,
          0.04162366701066392,
          0.04162366701066392,
          0.04196766425868593,
          0.04196766425868593,
          0.042999656002751976,
          0.042999656002751976,
          0.04368765049879601,
          0.04368765049879601,
          0.04506363949088407,
          0.04506363949088407,
          0.04643962848297214,
          0.04643962848297214,
          0.04712762297901617,
          0.04712762297901617,
          0.0478156174750602,
          0.0478156174750602,
          0.04919160646714826,
          0.04919160646714826,
          0.04987960096319229,
          0.04987960096319229,
          0.05022359821121431,
          0.05022359821121431,
          0.05159958720330237,
          0.05159958720330237,
          0.054007567939456484,
          0.054007567939456484,
          0.0543515651874785,
          0.0543515651874785,
          0.05503955968352253,
          0.05503955968352253,
          0.0564155486756106,
          0.0564155486756106,
          0.05675954592363261,
          0.05675954592363261,
          0.05710354317165463,
          0.05710354317165463,
          0.057447540419676646,
          0.057447540419676646,
          0.05779153766769866,
          0.05779153766769866,
          0.058135534915720675,
          0.058135534915720675,
          0.05847953216374269,
          0.05847953216374269,
          0.058823529411764705,
          0.058823529411764705,
          0.059511523907808735,
          0.059511523907808735,
          0.05985552115583075,
          0.05985552115583075,
          0.06054351565187478,
          0.06054351565187478,
          0.06226350189198487,
          0.06226350189198487,
          0.06260749914000688,
          0.06260749914000688,
          0.06363949088407293,
          0.06363949088407293,
          0.06398348813209494,
          0.06398348813209494,
          0.06432748538011696,
          0.06432748538011696,
          0.06501547987616099,
          0.06501547987616099,
          0.06535947712418301,
          0.06535947712418301,
          0.06570347437220503,
          0.06570347437220503,
          0.06639146886824905,
          0.06639146886824905,
          0.06673546611627107,
          0.06673546611627107,
          0.06707946336429309,
          0.06707946336429309,
          0.0674234606123151,
          0.0674234606123151,
          0.06811145510835913,
          0.06811145510835913,
          0.06845545235638115,
          0.06845545235638115,
          0.06914344685242518,
          0.06914344685242518,
          0.0698314413484692,
          0.0698314413484692,
          0.07017543859649122,
          0.07017543859649122,
          0.07120743034055728,
          0.07120743034055728,
          0.0715514275885793,
          0.0715514275885793,
          0.0718954248366013,
          0.0718954248366013,
          0.07223942208462332,
          0.07223942208462332,
          0.07430340557275542,
          0.07430340557275542,
          0.07533539731682147,
          0.07533539731682147,
          0.07567939456484347,
          0.07567939456484347,
          0.07602339181286549,
          0.07602339181286549,
          0.07636738906088751,
          0.07636738906088751,
          0.07671138630890953,
          0.07671138630890953,
          0.07739938080495357,
          0.07739938080495357,
          0.0784313725490196,
          0.0784313725490196,
          0.07877536979704163,
          0.07877536979704163,
          0.0804953560371517,
          0.0804953560371517,
          0.08152734778121776,
          0.08152734778121776,
          0.08187134502923976,
          0.08187134502923976,
          0.08359133126934984,
          0.08359133126934984,
          0.08393532851737186,
          0.08393532851737186,
          0.08427932576539388,
          0.08427932576539388,
          0.08496732026143791,
          0.08496732026143791,
          0.08599931200550395,
          0.08599931200550395,
          0.08634330925352597,
          0.08634330925352597,
          0.08668730650154799,
          0.08668730650154799,
          0.08771929824561403,
          0.08771929824561403,
          0.08806329549363605,
          0.08806329549363605,
          0.08875128998968008,
          0.08875128998968008,
          0.0890952872377021,
          0.0890952872377021,
          0.08978328173374613,
          0.08978328173374613,
          0.09012727898176814,
          0.09012727898176814,
          0.09081527347781218,
          0.09081527347781218,
          0.09184726522187822,
          0.09184726522187822,
          0.09253525971792226,
          0.09253525971792226,
          0.09391124871001032,
          0.09391124871001032,
          0.09425524595803234,
          0.09425524595803234,
          0.0956312349501204,
          0.0956312349501204,
          0.09597523219814241,
          0.09597523219814241,
          0.09700722394220847,
          0.09700722394220847,
          0.09769521843825249,
          0.09769521843825249,
          0.09803921568627451,
          0.09803921568627451,
          0.09838321293429653,
          0.09838321293429653,
          0.09872721018231854,
          0.09872721018231854,
          0.09907120743034056,
          0.09907120743034056,
          0.10044719642242862,
          0.10044719642242862,
          0.10079119367045064,
          0.10079119367045064,
          0.10147918816649466,
          0.10147918816649466,
          0.10182318541451668,
          0.10182318541451668,
          0.1021671826625387,
          0.1021671826625387,
          0.10285517715858274,
          0.10285517715858274,
          0.10319917440660474,
          0.10319917440660474,
          0.10354317165462676,
          0.10354317165462676,
          0.10560715514275885,
          0.10560715514275885,
          0.10835913312693499,
          0.10835913312693499,
          0.108703130374957,
          0.108703130374957,
          0.10939112487100103,
          0.10939112487100103,
          0.10973512211902305,
          0.10973512211902305,
          0.11042311661506708,
          0.11042311661506708,
          0.1111111111111111,
          0.1111111111111111,
          0.11214310285517716,
          0.11214310285517716,
          0.1128310973512212,
          0.1128310973512212,
          0.11351909184726522,
          0.11351909184726522,
          0.11386308909528724,
          0.11386308909528724,
          0.11420708634330926,
          0.11420708634330926,
          0.11455108359133127,
          0.11455108359133127,
          0.11489508083935329,
          0.11489508083935329,
          0.11558307533539731,
          0.11558307533539731,
          0.11592707258341933,
          0.11592707258341933,
          0.11627106983144135,
          0.11627106983144135,
          0.11867905056759546,
          0.11867905056759546,
          0.1197110423116615,
          0.1197110423116615,
          0.12005503955968352,
          0.12005503955968352,
          0.12074303405572756,
          0.12074303405572756,
          0.12108703130374956,
          0.12108703130374956,
          0.12143102855177158,
          0.12143102855177158,
          0.1217750257997936,
          0.1217750257997936,
          0.12211902304781562,
          0.12211902304781562,
          0.12349501203990368,
          0.12349501203990368,
          0.12487100103199174,
          0.12487100103199174,
          0.1259029927760578,
          0.1259029927760578,
          0.12659098727210183,
          0.12659098727210183,
          0.12727898176814587,
          0.12727898176814587,
          0.12796697626418987,
          0.12796697626418987,
          0.12899896800825594,
          0.12899896800825594,
          0.13209494324045407,
          0.13209494324045407,
          0.13381492948056414,
          0.13381492948056414,
          0.13553491572067425,
          0.13553491572067425,
          0.13587891296869625,
          0.13587891296869625,
          0.13622291021671826,
          0.13622291021671826,
          0.13725490196078433,
          0.13725490196078433,
          0.13759889920880633,
          0.13759889920880633,
          0.13794289645682833,
          0.13794289645682833,
          0.13828689370485037,
          0.13828689370485037,
          0.13863089095287237,
          0.13863089095287237,
          0.1389748882008944,
          0.1389748882008944,
          0.14035087719298245,
          0.14035087719298245,
          0.14172686618507052,
          0.14172686618507052,
          0.14241486068111456,
          0.14241486068111456,
          0.14275885792913656,
          0.14275885792913656,
          0.1431028551771586,
          0.1431028551771586,
          0.14447884416924664,
          0.14447884416924664,
          0.14516683866529068,
          0.14516683866529068,
          0.14551083591331268,
          0.14551083591331268,
          0.14654282765737875,
          0.14654282765737875,
          0.14688682490540075,
          0.14688682490540075,
          0.1479188166494668,
          0.1479188166494668,
          0.14826281389748883,
          0.14826281389748883,
          0.14929480564155487,
          0.14929480564155487,
          0.15067079463364294,
          0.15067079463364294,
          0.15204678362573099,
          0.15204678362573099,
          0.15239078087375302,
          0.15239078087375302,
          0.15273477812177502,
          0.15273477812177502,
          0.15342277261781906,
          0.15342277261781906,
          0.1544547643618851,
          0.1544547643618851,
          0.15479876160990713,
          0.15479876160990713,
          0.15514275885792914,
          0.15514275885792914,
          0.15583075335397317,
          0.15583075335397317,
          0.15617475060199518,
          0.15617475060199518,
          0.1568627450980392,
          0.1568627450980392,
          0.15720674234606122,
          0.15720674234606122,
          0.15789473684210525,
          0.15789473684210525,
          0.1582387340901273,
          0.1582387340901273,
          0.15927072583419333,
          0.15927072583419333,
          0.15961472308221533,
          0.15961472308221533,
          0.1609907120743034,
          0.1609907120743034,
          0.1613347093223254,
          0.1613347093223254,
          0.16202270381836945,
          0.16202270381836945,
          0.1647746818025456,
          0.1647746818025456,
          0.1651186790505676,
          0.1651186790505676,
          0.1654626762985896,
          0.1654626762985896,
          0.16580667354661163,
          0.16580667354661163,
          0.16615067079463364,
          0.16615067079463364,
          0.16683866529067767,
          0.16683866529067767,
          0.16787065703474371,
          0.16787065703474371,
          0.16993464052287582,
          0.16993464052287582,
          0.17096663226694186,
          0.17096663226694186,
          0.17131062951496387,
          0.17131062951496387,
          0.1716546267629859,
          0.1716546267629859,
          0.1719986240110079,
          0.1719986240110079,
          0.17303061575507395,
          0.17303061575507395,
          0.17440660474716202,
          0.17440660474716202,
          0.1761265909872721,
          0.1761265909872721,
          0.17647058823529413,
          0.17647058823529413,
          0.17681458548331613,
          0.17681458548331613,
          0.17750257997936017,
          0.17750257997936017,
          0.1785345717234262,
          0.1785345717234262,
          0.17887856897144822,
          0.17887856897144822,
          0.17922256621947025,
          0.17922256621947025,
          0.1802545579635363,
          0.1802545579635363,
          0.18163054695562436,
          0.18163054695562436,
          0.18197454420364637,
          0.18197454420364637,
          0.1830065359477124,
          0.1830065359477124,
          0.1864465084279326,
          0.1864465084279326,
          0.1891984864121087,
          0.1891984864121087,
          0.1895424836601307,
          0.1895424836601307,
          0.18988648090815274,
          0.18988648090815274,
          0.19057447540419675,
          0.19057447540419675,
          0.1912624699002408,
          0.1912624699002408,
          0.19160646714826282,
          0.19160646714826282,
          0.19263845889232886,
          0.19263845889232886,
          0.19607843137254902,
          0.19607843137254902,
          0.19642242862057105,
          0.19642242862057105,
          0.19711042311661506,
          0.19711042311661506,
          0.1974544203646371,
          0.1974544203646371,
          0.1977984176126591,
          0.1977984176126591,
          0.19814241486068113,
          0.19814241486068113,
          0.19848641210870313,
          0.19848641210870313,
          0.19883040935672514,
          0.19883040935672514,
          0.2005503955968352,
          0.2005503955968352,
          0.20089439284485724,
          0.20089439284485724,
          0.20227038183694532,
          0.20227038183694532,
          0.20295837633298933,
          0.20295837633298933,
          0.2039903680770554,
          0.2039903680770554,
          0.20502235982112144,
          0.20502235982112144,
          0.20536635706914344,
          0.20536635706914344,
          0.20571035431716547,
          0.20571035431716547,
          0.20605435156518748,
          0.20605435156518748,
          0.20777433780529755,
          0.20777433780529755,
          0.2084623323013416,
          0.2084623323013416,
          0.2088063295493636,
          0.2088063295493636,
          0.20915032679738563,
          0.20915032679738563,
          0.21155830753353974,
          0.21155830753353974,
          0.21190230478156175,
          0.21190230478156175,
          0.21259029927760578,
          0.21259029927760578,
          0.21396628826969386,
          0.21396628826969386,
          0.21465428276573786,
          0.21465428276573786,
          0.21568627450980393,
          0.21568627450980393,
          0.21603027175782594,
          0.21603027175782594,
          0.217406260749914,
          0.217406260749914,
          0.21843825249398005,
          0.21843825249398005,
          0.21878224974200206,
          0.21878224974200206,
          0.2191262469900241,
          0.2191262469900241,
          0.22084623323013416,
          0.22084623323013416,
          0.2215342277261782,
          0.2215342277261782,
          0.22256621947024424,
          0.22256621947024424,
          0.22325421396628828,
          0.22325421396628828,
          0.22359821121431028,
          0.22359821121431028,
          0.22497420020639836,
          0.22497420020639836,
          0.2260061919504644,
          0.2260061919504644,
          0.22703818369453044,
          0.22703818369453044,
          0.22772617819057447,
          0.22772617819057447,
          0.22807017543859648,
          0.22807017543859648,
          0.2284141726866185,
          0.2284141726866185,
          0.2304781561747506,
          0.2304781561747506,
          0.23357413140694874,
          0.23357413140694874,
          0.23391812865497075,
          0.2366701066391469,
          0.2366701066391469,
          0.23839009287925697,
          0.23839009287925697,
          0.23873409012727898,
          0.23873409012727898,
          0.239422084623323,
          0.239422084623323,
          0.23976608187134502,
          0.23976608187134502,
          0.2411420708634331,
          0.2411420708634331,
          0.24183006535947713,
          0.24183006535947713,
          0.2432060543515652,
          0.2432060543515652,
          0.2435500515995872,
          0.2435500515995872,
          0.24492604059167528,
          0.24492604059167528,
          0.24561403508771928,
          0.24561403508771928,
          0.24595803233574132,
          0.24595803233574132,
          0.2473340213278294,
          0.2473340213278294,
          0.2480220158238734,
          0.2480220158238734,
          0.24871001031991744,
          0.24871001031991744,
          0.24905400756793947,
          0.24905400756793947,
          0.24939800481596147,
          0.24939800481596147,
          0.24974200206398348,
          0.24974200206398348,
          0.2511179910560716,
          0.2511179910560716,
          0.25146198830409355,
          0.25146198830409355,
          0.2518059855521156,
          0.2518059855521156,
          0.2521499828001376,
          0.2521499828001376,
          0.2542139662882697,
          0.2542139662882697,
          0.25455796353629173,
          0.25455796353629173,
          0.2549019607843137,
          0.2549019607843137,
          0.2555899552803578,
          0.2555899552803578,
          0.2573099415204678,
          0.2573099415204678,
          0.2586859305125559,
          0.2586859305125559,
          0.26212590299277605,
          0.26212590299277605,
          0.2628138974888201,
          0.2628138974888201,
          0.2631578947368421,
          0.2631578947368421,
          0.26384588923288615,
          0.26384588923288615,
          0.26453388372893016,
          0.26453388372893016,
          0.26590987272101824,
          0.26590987272101824,
          0.26831785345717235,
          0.26831785345717235,
          0.2686618507051944,
          0.2686618507051944,
          0.2693498452012384,
          0.2693498452012384,
          0.2700378396972824,
          0.2700378396972824,
          0.2710698314413485,
          0.2710698314413485,
          0.2731338149294806,
          0.2731338149294806,
          0.27347781217750256,
          0.27347781217750256,
          0.2741658066735466,
          0.2741658066735466,
          0.27485380116959063,
          0.27485380116959063,
          0.27519779841761266,
          0.27519779841761266,
          0.2762297901616787,
          0.2762297901616787,
          0.27691778465772277,
          0.27691778465772277,
          0.27726178190574474,
          0.27726178190574474,
          0.2782937736498108,
          0.2782937736498108,
          0.27898176814585485,
          0.27898176814585485,
          0.28173374613003094,
          0.28173374613003094,
          0.283109735122119,
          0.283109735122119,
          0.2851737186102511,
          0.2851737186102511,
          0.2862057103543172,
          0.2862057103543172,
          0.28792569659442724,
          0.28792569659442724,
          0.28826969384244927,
          0.28826969384244927,
          0.2886136910904713,
          0.2886136910904713,
          0.2899896800825593,
          0.2899896800825593,
          0.2913656690746474,
          0.2913656690746474,
          0.2917096663226694,
          0.2917096663226694,
          0.29205366357069146,
          0.29205366357069146,
          0.29239766081871343,
          0.29239766081871343,
          0.2930856553147575,
          0.2930856553147575,
          0.29411764705882354,
          0.29411764705882354,
          0.2951496388028896,
          0.2951496388028896,
          0.2954936360509116,
          0.2954936360509116,
          0.2958376332989336,
          0.2958376332989336,
          0.29686962504299963,
          0.29686962504299963,
          0.29858961128310973,
          0.29858961128310973,
          0.2996216030271758,
          0.2996216030271758,
          0.3006535947712418,
          0.3006535947712418,
          0.30099759201926385,
          0.30099759201926385,
          0.3013415892672859,
          0.3013415892672859,
          0.3023735810113519,
          0.3023735810113519,
          0.30374957000344,
          0.30374957000344,
          0.305125558995528,
          0.305125558995528,
          0.30546955624355004,
          0.30546955624355004,
          0.3058135534915721,
          0.3058135534915721,
          0.3068455452356381,
          0.3068455452356381,
          0.30718954248366015,
          0.30718954248366015,
          0.30787753697970416,
          0.30787753697970416,
          0.3089095287237702,
          0.3089095287237702,
          0.30959752321981426,
          0.30959752321981426,
          0.30994152046783624,
          0.30994152046783624,
          0.3109735122119023,
          0.3109735122119023,
          0.3120055039559684,
          0.3120055039559684,
          0.31441348469212244,
          0.31441348469212244,
          0.3151014791881665,
          0.3151014791881665,
          0.31544547643618853,
          0.31544547643618853,
          0.3157894736842105,
          0.3157894736842105,
          0.3171654626762986,
          0.3171654626762986,
          0.31785345717234265,
          0.31785345717234265,
          0.31854145166838665,
          0.31854145166838665,
          0.3202614379084967,
          0.3202614379084967,
          0.32094943240454077,
          0.32094943240454077,
          0.3212934296525628,
          0.3212934296525628,
          0.3219814241486068,
          0.3219814241486068,
          0.3233574131406949,
          0.3233574131406949,
          0.3278293773649811,
          0.3278293773649811,
          0.3288613691090471,
          0.3288613691090471,
          0.32920536635706915,
          0.32920536635706915,
          0.33126934984520123,
          0.33126934984520123,
          0.3319573443412453,
          0.3319573443412453,
          0.3323013415892673,
          0.3323013415892673,
          0.3350533195734434,
          0.33574131406948743,
          0.33574131406948743,
          0.33608531131750946,
          0.33608531131750946,
          0.3364293085655315,
          0.3364293085655315,
          0.3371173030615755,
          0.3371173030615755,
          0.33746130030959753,
          0.33746130030959753,
          0.33780529755761957,
          0.33780529755761957,
          0.3391812865497076,
          0.3391812865497076,
          0.33986928104575165,
          0.33986928104575165,
          0.34055727554179566,
          0.34055727554179566,
          0.34193326453388373,
          0.34193326453388373,
          0.3446852425180599,
          0.3446852425180599,
          0.3453732370141039,
          0.3453732370141039,
          0.3464052287581699,
          0.3464052287581699,
          0.347093223254214,
          0.347093223254214,
          0.34881320949432404,
          0.34881320949432404,
          0.34915720674234607,
          0.34915720674234607,
          0.3501891984864121,
          0.3501891984864121,
          0.35294117647058826,
          0.35294117647058826,
          0.35362917096663227,
          0.35362917096663227,
          0.35500515995872034,
          0.35500515995872034,
          0.3584451324389405,
          0.3584451324389405,
          0.3591331269349845,
          0.3591331269349845,
          0.3608531131750946,
          0.3608531131750946,
          0.3622291021671827,
          0.3622291021671827,
          0.3632610939112487,
          0.3632610939112487,
          0.3646370829033368,
          0.3646370829033368,
          0.36566907464740284,
          0.36566907464740284,
          0.36635706914344685,
          0.36635706914344685,
          0.3670450636394909,
          0.3670450636394909,
          0.36807705538355695,
          0.36807705538355695,
          0.36945304437564497,
          0.36945304437564497,
          0.37014103887168903,
          0.37014103887168903,
          0.37048503611971106,
          0.37048503611971106,
          0.3715170278637771,
          0.3715170278637771,
          0.3718610251117991,
          0.3718610251117991,
          0.3722050223598211,
          0.3722050223598211,
          0.3728930168558652,
          0.3728930168558652,
          0.3746130030959752,
          0.3746130030959752,
          0.3773649810801514,
          0.3773649810801514,
          0.3780529755761954,
          0.3780529755761954,
          0.3783969728242174,
          0.3783969728242174,
          0.37874097007223945,
          0.37874097007223945,
          0.3790849673202614,
          0.3790849673202614,
          0.37942896456828346,
          0.37942896456828346,
          0.3821809425524596,
          0.3821809425524596,
          0.3825249398004816,
          0.3825249398004816,
          0.38562091503267976,
          0.38562091503267976,
          0.38596491228070173,
          0.38596491228070173,
          0.38768489852081184,
          0.38768489852081184,
          0.3894048847609219,
          0.3894048847609219,
          0.390436876504988,
          0.390436876504988,
          0.39250085999312007,
          0.39250085999312007,
          0.39387684898520814,
          0.39387684898520814,
          0.3959408324733402,
          0.3959408324733402,
          0.39834881320949433,
          0.39834881320949433,
          0.3993808049535604,
          0.3993808049535604,
          0.3997248022015824,
          0.3997248022015824,
          0.40075679394564845,
          0.40075679394564845,
          0.4011007911936704,
          0.4011007911936704,
          0.4017887856897145,
          0.4017887856897145,
          0.40316477468180256,
          0.40316477468180256,
          0.40522875816993464,
          0.40522875816993464,
          0.4069487444100447,
          0.4069487444100447,
          0.4072927416580667,
          0.4072927416580667,
          0.40901272789817683,
          0.40901272789817683,
          0.41210870313037495,
          0.41210870313037495,
          0.412452700378397,
          0.412452700378397,
          0.4155486756105951,
          0.4155486756105951,
          0.41658066735466115,
          0.41658066735466115,
          0.41830065359477125,
          0.41830065359477125,
          0.41898864809081526,
          0.41898864809081526,
          0.4193326453388373,
          0.4193326453388373,
          0.4213966288269694,
          0.4213966288269694,
          0.4217406260749914,
          0.4217406260749914,
          0.42277261781905745,
          0.42277261781905745,
          0.4255245958032336,
          0.4255245958032336,
          0.4269005847953216,
          0.4269005847953216,
          0.42724458204334365,
          0.42724458204334365,
          0.4275885792913657,
          0.4275885792913657,
          0.43171654626762984,
          0.43171654626762984,
          0.4330925352597179,
          0.4330925352597179,
          0.43343653250773995,
          0.43343653250773995,
          0.4368765049879601,
          0.4368765049879601,
          0.4375644994840041,
          0.4375644994840041,
          0.4399724802201582,
          0.4399724802201582,
          0.4406604747162023,
          0.4406604747162023,
          0.4434124527003784,
          0.4434124527003784,
          0.4437564499484004,
          0.4437564499484004,
          0.4451324389404885,
          0.4451324389404885,
          0.4458204334365325,
          0.4458204334365325,
          0.44685242518059853,
          0.44685242518059853,
          0.44926040591675265,
          0.44926040591675265,
          0.4496044031647747,
          0.4496044031647747,
          0.4540763673890609,
          0.4540763673890609,
          0.4551083591331269,
          0.4551083591331269,
          0.45545235638114895,
          0.45545235638114895,
          0.455796353629171,
          0.455796353629171,
          0.45854833161334707,
          0.45854833161334707,
          0.46164430684554525,
          0.46164430684554525,
          0.4619883040935672,
          0.4619883040935672,
          0.46233230134158926,
          0.46233230134158926,
          0.46370829033367733,
          0.46370829033367733,
          0.46542827657378744,
          0.46542827657378744,
          0.47058823529411764,
          0.47058823529411764,
          0.4709322325421397,
          0.4709322325421397,
          0.47299621603027175,
          0.47299621603027175,
          0.4743722050223598,
          0.4743722050223598,
          0.47471620227038186,
          0.47471620227038186,
          0.4764361885104919,
          0.4764361885104919,
          0.47678018575851394,
          0.47678018575851394,
          0.478500171998624,
          0.478500171998624,
          0.48125214998280014,
          0.48125214998280014,
          0.4826281389748882,
          0.4826281389748882,
          0.4833161334709322,
          0.4833161334709322,
          0.4853801169590643,
          0.4853801169590643,
          0.4867561059511524,
          0.4867561059511524,
          0.4871001031991744,
          0.4871001031991744,
          0.48813209494324045,
          0.48813209494324045,
          0.4884760921912625,
          0.4884760921912625,
          0.48985208118335055,
          0.48985208118335055,
          0.49122807017543857,
          0.49122807017543857,
          0.49226006191950467,
          0.49226006191950467,
          0.4939800481596147,
          0.4939800481596147,
          0.4953560371517028,
          0.4953560371517028,
          0.49810801513587893,
          0.49810801513587893,
          0.4984520123839009,
          0.4984520123839009,
          0.499140006879945,
          0.499140006879945,
          0.5018919848641211,
          0.5018919848641211,
          0.5022359821121432,
          0.5022359821121432,
          0.5036119711042312,
          0.5036119711042312,
          0.5042999656002752,
          0.5042999656002752,
          0.5046439628482973,
          0.5046439628482973,
          0.5084279325765394,
          0.5084279325765394,
          0.5111799105607155,
          0.5111799105607155,
          0.5122119023047815,
          0.5122119023047815,
          0.5132438940488476,
          0.5132438940488476,
          0.5156518747850017,
          0.5156518747850017,
          0.5170278637770898,
          0.5170278637770898,
          0.5180598555211559,
          0.5180598555211559,
          0.5201238390092879,
          0.5201238390092879,
          0.520811833505332,
          0.520811833505332,
          0.522531819745442,
          0.522531819745442,
          0.5232198142414861,
          0.5232198142414861,
          0.5270037839697282,
          0.5270037839697282,
          0.5273477812177503,
          0.5273477812177503,
          0.5280357757137943,
          0.5280357757137943,
          0.5307877536979704,
          0.5307877536979704,
          0.5331957344341245,
          0.5331957344341245,
          0.5373237014103888,
          0.5373237014103888,
          0.5386996904024768,
          0.5386996904024768,
          0.5407636738906089,
          0.5407636738906089,
          0.543859649122807,
          0.543859649122807,
          0.5466116271069832,
          0.5466116271069832,
          0.5479876160990712,
          0.5479876160990712,
          0.5490196078431373,
          0.5490196078431373,
          0.5510835913312694,
          0.5510835913312694,
          0.5538355693154455,
          0.5538355693154455,
          0.5541795665634675,
          0.5541795665634675,
          0.5576195390436877,
          0.5576195390436877,
          0.5583075335397317,
          0.5583075335397317,
          0.5607155142758858,
          0.5607155142758858,
          0.5610595115239078,
          0.5610595115239078,
          0.5614035087719298,
          0.5614035087719298,
          0.5617475060199518,
          0.5617475060199518,
          0.5627794977640179,
          0.5627794977640179,
          0.56312349501204,
          0.56312349501204,
          0.565187478500172,
          0.565187478500172,
          0.5682834537323701,
          0.5682834537323701,
          0.5693154454764362,
          0.5693154454764362,
          0.5816993464052288,
          0.5816993464052288,
          0.5847953216374269,
          0.5847953216374269,
          0.5851393188854489,
          0.5851393188854489,
          0.586859305125559,
          0.586859305125559,
          0.587891296869625,
          0.587891296869625,
          0.5885792913656691,
          0.5885792913656691,
          0.5902992776057792,
          0.5902992776057792,
          0.5906432748538012,
          0.5906432748538012,
          0.5913312693498453,
          0.5913312693498453,
          0.5916752665978672,
          0.5916752665978672,
          0.5927072583419333,
          0.5927072583419333,
          0.5933952528379773,
          0.5933952528379773,
          0.5954592363261094,
          0.5954592363261094,
          0.5964912280701754,
          0.5964912280701754,
          0.5968352253181974,
          0.5968352253181974,
          0.5982112143102856,
          0.5982112143102856,
          0.5985552115583075,
          0.5985552115583075,
          0.5992432060543516,
          0.5992432060543516,
          0.6002751977984176,
          0.6002751977984176,
          0.6061231510147919,
          0.6061231510147919,
          0.60921912624699,
          0.60921912624699,
          0.6095631234950121,
          0.6095631234950121,
          0.610251117991056,
          0.610251117991056,
          0.6143790849673203,
          0.6143790849673203,
          0.6164430684554524,
          0.6164430684554524,
          0.6174750601995184,
          0.6174750601995184,
          0.6185070519435845,
          0.6185070519435845,
          0.6233230134158927,
          0.6233230134158927,
          0.6264189886480909,
          0.6264189886480909,
          0.6281389748882009,
          0.6281389748882009,
          0.6339869281045751,
          0.6339869281045751,
          0.6346749226006192,
          0.6346749226006192,
          0.6357069143446853,
          0.6357069143446853,
          0.6360509115927072,
          0.6360509115927072,
          0.6363949088407292,
          0.6363949088407292,
          0.6374269005847953,
          0.6374269005847953,
          0.6446508427932577,
          0.6446508427932577,
          0.6453388372893016,
          0.6453388372893016,
          0.6456828345373237,
          0.6456828345373237,
          0.6460268317853457,
          0.6460268317853457,
          0.6463708290333677,
          0.6463708290333677,
          0.6474028207774338,
          0.6474028207774338,
          0.6504987960096319,
          0.6504987960096319,
          0.6508427932576539,
          0.6508427932576539,
          0.653250773993808,
          0.653250773993808,
          0.6542827657378741,
          0.6542827657378741,
          0.6573787409700722,
          0.6573787409700722,
          0.6580667354661163,
          0.6580667354661163,
          0.6587547299621603,
          0.6587547299621603,
          0.6604747162022704,
          0.6604747162022704,
          0.6646026831785345,
          0.6646026831785345,
          0.6656346749226006,
          0.6656346749226006,
          0.6683866529067768,
          0.6683866529067768,
          0.6697626418988648,
          0.6697626418988648,
          0.6714826281389749,
          0.6714826281389749,
          0.673202614379085,
          0.673202614379085,
          0.674234606123151,
          0.674234606123151,
          0.6752665978672171,
          0.6752665978672171,
          0.6769865841073271,
          0.6769865841073271,
          0.6807705538355693,
          0.6807705538355693,
          0.6821465428276574,
          0.6821465428276574,
          0.6848985208118336,
          0.6848985208118336,
          0.6879944960440316,
          0.6879944960440316,
          0.6890264877880977,
          0.6890264877880977,
          0.6900584795321637,
          0.6900584795321637,
          0.6904024767801857,
          0.6904024767801857,
          0.6917784657722739,
          0.6917784657722739,
          0.6934984520123839,
          0.6934984520123839,
          0.6948744410044719,
          0.6948744410044719,
          0.695906432748538,
          0.695906432748538,
          0.7000343997248022,
          0.7000343997248022,
          0.7024423804609563,
          0.7024423804609563,
          0.7031303749570004,
          0.7031303749570004,
          0.7034743722050224,
          0.7034743722050224,
          0.7069143446852425,
          0.7069143446852425,
          0.7076023391812866,
          0.7076023391812866,
          0.7082903336773306,
          0.7082903336773306,
          0.7093223254213966,
          0.7093223254213966,
          0.7141382868937048,
          0.7141382868937048,
          0.7217062263501892,
          0.7217062263501892,
          0.7234262125902993,
          0.7234262125902993,
          0.7275541795665634,
          0.7275541795665634,
          0.7296181630546955,
          0.7296181630546955,
          0.7330581355349157,
          0.7330581355349157,
          0.739594083247334,
          0.739594083247334,
          0.7416580667354661,
          0.7416580667354661,
          0.7468180254557963,
          0.7468180254557963,
          0.7478500171998624,
          0.7478500171998624,
          0.7495700034399725,
          0.7495700034399725,
          0.7499140006879945,
          0.7499140006879945,
          0.7502579979360166,
          0.7502579979360166,
          0.7578259373925008,
          0.7578259373925008,
          0.7616099071207431,
          0.7616099071207431,
          0.7629858961128311,
          0.7629858961128311,
          0.7636738906088751,
          0.7636738906088751,
          0.7667698658410733,
          0.7667698658410733,
          0.7757137942896457,
          0.7757137942896457,
          0.7767457860337117,
          0.7767457860337117,
          0.7794977640178878,
          0.7794977640178878,
          0.7815617475060199,
          0.7815617475060199,
          0.782937736498108,
          0.782937736498108,
          0.7863777089783281,
          0.7863777089783281,
          0.7918816649466804,
          0.7918816649466804,
          0.7925696594427245,
          0.7925696594427245,
          0.7977296181630547,
          0.7977296181630547,
          0.7997936016511867,
          0.7997936016511867,
          0.8008255933952528,
          0.8008255933952528,
          0.803233574131407,
          0.803233574131407,
          0.8087375300997592,
          0.8087375300997592,
          0.8090815273477813,
          0.8090815273477813,
          0.8132094943240454,
          0.8132094943240454,
          0.8152734778121775,
          0.8152734778121775,
          0.8183694530443757,
          0.8183694530443757,
          0.8207774337805298,
          0.8207774337805298,
          0.826281389748882,
          0.826281389748882,
          0.8290333677330581,
          0.8290333677330581,
          0.8297213622291022,
          0.8297213622291022,
          0.8307533539731682,
          0.8307533539731682,
          0.8338493292053664,
          0.8338493292053664,
          0.8341933264533884,
          0.8341933264533884,
          0.8355693154454764,
          0.8355693154454764,
          0.8362573099415205,
          0.8362573099415205,
          0.848985208118335,
          0.848985208118335,
          0.8637770897832817,
          0.8637770897832817,
          0.8744410044719643,
          0.8744410044719643,
          0.8820089439284485,
          0.8820089439284485,
          0.8833849329205367,
          0.8833849329205367,
          0.8851049191606467,
          0.8851049191606467,
          0.8864809081527347,
          0.8864809081527347,
          0.891640866873065,
          0.891640866873065,
          0.9095287237702099,
          0.9095287237702099,
          0.913312693498452,
          0.913312693498452,
          0.913656690746474,
          0.913656690746474,
          0.9188166494668043,
          0.9188166494668043,
          0.932920536635707,
          0.934296525627795,
          0.9497764017887856,
          0.9504643962848297,
          1
         ],
         "y": [
          0,
          0.000819672131147541,
          0.005737704918032787,
          0.005737704918032787,
          0.00819672131147541,
          0.00819672131147541,
          0.009016393442622951,
          0.009016393442622951,
          0.012295081967213115,
          0.012295081967213115,
          0.014754098360655738,
          0.014754098360655738,
          0.018032786885245903,
          0.018032786885245903,
          0.019672131147540985,
          0.019672131147540985,
          0.023770491803278688,
          0.023770491803278688,
          0.027049180327868853,
          0.027049180327868853,
          0.029508196721311476,
          0.029508196721311476,
          0.031967213114754096,
          0.031967213114754096,
          0.03524590163934426,
          0.03524590163934426,
          0.036065573770491806,
          0.036065573770491806,
          0.03770491803278689,
          0.03770491803278689,
          0.040983606557377046,
          0.040983606557377046,
          0.04180327868852459,
          0.04180327868852459,
          0.04262295081967213,
          0.04262295081967213,
          0.04344262295081967,
          0.04344262295081967,
          0.04426229508196721,
          0.04426229508196721,
          0.05,
          0.05,
          0.06721311475409836,
          0.06721311475409836,
          0.0680327868852459,
          0.0680327868852459,
          0.07213114754098361,
          0.07213114754098361,
          0.07459016393442623,
          0.07459016393442623,
          0.07622950819672131,
          0.07622950819672131,
          0.0778688524590164,
          0.0778688524590164,
          0.07868852459016394,
          0.07868852459016394,
          0.08278688524590164,
          0.08278688524590164,
          0.08360655737704918,
          0.08360655737704918,
          0.08442622950819673,
          0.08442622950819673,
          0.08524590163934426,
          0.08524590163934426,
          0.0860655737704918,
          0.0860655737704918,
          0.08688524590163935,
          0.08688524590163935,
          0.08770491803278689,
          0.08770491803278689,
          0.08852459016393442,
          0.08852459016393442,
          0.08934426229508197,
          0.08934426229508197,
          0.09016393442622951,
          0.09016393442622951,
          0.09098360655737706,
          0.09098360655737706,
          0.09180327868852459,
          0.09180327868852459,
          0.09262295081967213,
          0.09262295081967213,
          0.09344262295081968,
          0.09344262295081968,
          0.0959016393442623,
          0.0959016393442623,
          0.09918032786885246,
          0.09918032786885246,
          0.1,
          0.1,
          0.10163934426229508,
          0.10163934426229508,
          0.10245901639344263,
          0.10245901639344263,
          0.10327868852459017,
          0.10327868852459017,
          0.10901639344262296,
          0.10901639344262296,
          0.11065573770491803,
          0.11065573770491803,
          0.11475409836065574,
          0.11475409836065574,
          0.1180327868852459,
          0.1180327868852459,
          0.12377049180327869,
          0.12377049180327869,
          0.12459016393442623,
          0.12459016393442623,
          0.12540983606557377,
          0.12540983606557377,
          0.12622950819672132,
          0.12622950819672132,
          0.12786885245901639,
          0.12786885245901639,
          0.12868852459016394,
          0.12868852459016394,
          0.130327868852459,
          0.130327868852459,
          0.13442622950819672,
          0.13442622950819672,
          0.1360655737704918,
          0.1360655737704918,
          0.13852459016393442,
          0.13852459016393442,
          0.13934426229508196,
          0.13934426229508196,
          0.14016393442622951,
          0.14016393442622951,
          0.14098360655737704,
          0.14098360655737704,
          0.14262295081967213,
          0.14262295081967213,
          0.14344262295081966,
          0.14344262295081966,
          0.14508196721311475,
          0.14508196721311475,
          0.14672131147540984,
          0.14672131147540984,
          0.14754098360655737,
          0.14754098360655737,
          0.15,
          0.15,
          0.1540983606557377,
          0.1540983606557377,
          0.15655737704918032,
          0.15655737704918032,
          0.15737704918032788,
          0.15737704918032788,
          0.16065573770491803,
          0.16065573770491803,
          0.16147540983606556,
          0.16147540983606556,
          0.16311475409836065,
          0.16311475409836065,
          0.16475409836065574,
          0.16475409836065574,
          0.16557377049180327,
          0.16557377049180327,
          0.16885245901639345,
          0.16885245901639345,
          0.16967213114754098,
          0.16967213114754098,
          0.17049180327868851,
          0.17049180327868851,
          0.1721311475409836,
          0.1721311475409836,
          0.17295081967213113,
          0.17295081967213113,
          0.17950819672131146,
          0.17950819672131146,
          0.18032786885245902,
          0.18032786885245902,
          0.18360655737704917,
          0.18360655737704917,
          0.18442622950819673,
          0.18442622950819673,
          0.18524590163934426,
          0.18524590163934426,
          0.1860655737704918,
          0.1860655737704918,
          0.18688524590163935,
          0.18688524590163935,
          0.1885245901639344,
          0.1885245901639344,
          0.18934426229508197,
          0.18934426229508197,
          0.19098360655737706,
          0.19098360655737706,
          0.1918032786885246,
          0.1918032786885246,
          0.19508196721311474,
          0.19508196721311474,
          0.19672131147540983,
          0.19672131147540983,
          0.19754098360655736,
          0.19754098360655736,
          0.19836065573770492,
          0.19836065573770492,
          0.2,
          0.2,
          0.2040983606557377,
          0.2040983606557377,
          0.20573770491803278,
          0.20573770491803278,
          0.20737704918032787,
          0.20737704918032787,
          0.20901639344262296,
          0.20901639344262296,
          0.2098360655737705,
          0.2098360655737705,
          0.2122950819672131,
          0.2122950819672131,
          0.21311475409836064,
          0.21311475409836064,
          0.2139344262295082,
          0.2139344262295082,
          0.21885245901639344,
          0.21885245901639344,
          0.22049180327868853,
          0.22049180327868853,
          0.22131147540983606,
          0.22131147540983606,
          0.22213114754098362,
          0.22213114754098362,
          0.22377049180327868,
          0.22377049180327868,
          0.22459016393442624,
          0.22459016393442624,
          0.22704918032786886,
          0.22704918032786886,
          0.2278688524590164,
          0.2278688524590164,
          0.230327868852459,
          0.230327868852459,
          0.23114754098360657,
          0.23114754098360657,
          0.23278688524590163,
          0.23278688524590163,
          0.23524590163934425,
          0.23524590163934425,
          0.24016393442622952,
          0.24016393442622952,
          0.24098360655737705,
          0.24098360655737705,
          0.24344262295081967,
          0.24344262295081967,
          0.2442622950819672,
          0.2442622950819672,
          0.2459016393442623,
          0.2459016393442623,
          0.24754098360655738,
          0.24754098360655738,
          0.24918032786885247,
          0.24918032786885247,
          0.25,
          0.25,
          0.2532786885245902,
          0.2532786885245902,
          0.25573770491803277,
          0.25573770491803277,
          0.2565573770491803,
          0.2565573770491803,
          0.25901639344262295,
          0.25901639344262295,
          0.2598360655737705,
          0.2598360655737705,
          0.2614754098360656,
          0.2614754098360656,
          0.26229508196721313,
          0.26229508196721313,
          0.26311475409836066,
          0.26311475409836066,
          0.26557377049180325,
          0.26557377049180325,
          0.26639344262295084,
          0.26639344262295084,
          0.2680327868852459,
          0.2680327868852459,
          0.26885245901639343,
          0.26885245901639343,
          0.27049180327868855,
          0.27049180327868855,
          0.2721311475409836,
          0.2721311475409836,
          0.27459016393442626,
          0.27459016393442626,
          0.2778688524590164,
          0.2778688524590164,
          0.2819672131147541,
          0.2819672131147541,
          0.2827868852459016,
          0.2827868852459016,
          0.28442622950819674,
          0.28442622950819674,
          0.28770491803278686,
          0.28770491803278686,
          0.28852459016393445,
          0.28852459016393445,
          0.289344262295082,
          0.289344262295082,
          0.29180327868852457,
          0.29180327868852457,
          0.2959016393442623,
          0.2959016393442623,
          0.3,
          0.3,
          0.3008196721311475,
          0.3008196721311475,
          0.30245901639344264,
          0.30245901639344264,
          0.30327868852459017,
          0.30327868852459017,
          0.30655737704918035,
          0.30655737704918035,
          0.3073770491803279,
          0.3073770491803279,
          0.3122950819672131,
          0.3122950819672131,
          0.3139344262295082,
          0.3139344262295082,
          0.3155737704918033,
          0.3155737704918033,
          0.3163934426229508,
          0.3163934426229508,
          0.31721311475409836,
          0.31721311475409836,
          0.3180327868852459,
          0.3180327868852459,
          0.32049180327868854,
          0.32049180327868854,
          0.3221311475409836,
          0.3221311475409836,
          0.32295081967213113,
          0.32295081967213113,
          0.3237704918032787,
          0.3237704918032787,
          0.32459016393442625,
          0.32459016393442625,
          0.32786885245901637,
          0.32786885245901637,
          0.330327868852459,
          0.330327868852459,
          0.33114754098360655,
          0.33114754098360655,
          0.33278688524590166,
          0.33278688524590166,
          0.33524590163934426,
          0.33524590163934426,
          0.3360655737704918,
          0.3360655737704918,
          0.3368852459016393,
          0.3368852459016393,
          0.3418032786885246,
          0.3418032786885246,
          0.34672131147540985,
          0.34672131147540985,
          0.3483606557377049,
          0.3483606557377049,
          0.35081967213114756,
          0.35081967213114756,
          0.3516393442622951,
          0.3516393442622951,
          0.3524590163934426,
          0.3524590163934426,
          0.35327868852459016,
          0.35327868852459016,
          0.3540983606557377,
          0.3540983606557377,
          0.3549180327868853,
          0.3549180327868853,
          0.35655737704918034,
          0.35655737704918034,
          0.35737704918032787,
          0.35737704918032787,
          0.3581967213114754,
          0.3581967213114754,
          0.3590163934426229,
          0.3590163934426229,
          0.36065573770491804,
          0.36065573770491804,
          0.3614754098360656,
          0.3614754098360656,
          0.36311475409836064,
          0.36311475409836064,
          0.36475409836065575,
          0.36475409836065575,
          0.3680327868852459,
          0.3680327868852459,
          0.3704918032786885,
          0.3704918032786885,
          0.3721311475409836,
          0.3721311475409836,
          0.3729508196721312,
          0.3729508196721312,
          0.3762295081967213,
          0.3762295081967213,
          0.3770491803278688,
          0.3770491803278688,
          0.3778688524590164,
          0.3778688524590164,
          0.380327868852459,
          0.380327868852459,
          0.38114754098360654,
          0.38114754098360654,
          0.3819672131147541,
          0.3819672131147541,
          0.3844262295081967,
          0.3844262295081967,
          0.3909836065573771,
          0.3909836065573771,
          0.3918032786885246,
          0.3918032786885246,
          0.3959016393442623,
          0.3959016393442623,
          0.39672131147540984,
          0.39672131147540984,
          0.3975409836065574,
          0.3975409836065574,
          0.39918032786885244,
          0.39918032786885244,
          0.4,
          0.4,
          0.40081967213114755,
          0.40081967213114755,
          0.4016393442622951,
          0.4016393442622951,
          0.4024590163934426,
          0.4024590163934426,
          0.40327868852459015,
          0.40327868852459015,
          0.40409836065573773,
          0.40409836065573773,
          0.4057377049180328,
          0.4057377049180328,
          0.4098360655737705,
          0.4098360655737705,
          0.41147540983606556,
          0.41147540983606556,
          0.4131147540983607,
          0.4131147540983607,
          0.4139344262295082,
          0.4139344262295082,
          0.4155737704918033,
          0.4155737704918033,
          0.41721311475409834,
          0.41721311475409834,
          0.4180327868852459,
          0.4180327868852459,
          0.41885245901639345,
          0.41885245901639345,
          0.419672131147541,
          0.419672131147541,
          0.4204918032786885,
          0.4204918032786885,
          0.42213114754098363,
          0.42213114754098363,
          0.42295081967213116,
          0.42295081967213116,
          0.4262295081967213,
          0.4262295081967213,
          0.42704918032786887,
          0.42704918032786887,
          0.42950819672131146,
          0.42950819672131146,
          0.430327868852459,
          0.430327868852459,
          0.43524590163934423,
          0.43524590163934423,
          0.4360655737704918,
          0.4360655737704918,
          0.4377049180327869,
          0.4377049180327869,
          0.4385245901639344,
          0.4385245901639344,
          0.43934426229508194,
          0.43934426229508194,
          0.44016393442622953,
          0.44016393442622953,
          0.4426229508196721,
          0.4426229508196721,
          0.44426229508196724,
          0.44426229508196724,
          0.44508196721311477,
          0.44508196721311477,
          0.4459016393442623,
          0.4459016393442623,
          0.44672131147540983,
          0.44672131147540983,
          0.44754098360655736,
          0.44754098360655736,
          0.45081967213114754,
          0.45081967213114754,
          0.4524590163934426,
          0.4524590163934426,
          0.4532786885245902,
          0.4532786885245902,
          0.4540983606557377,
          0.4540983606557377,
          0.45491803278688525,
          0.45491803278688525,
          0.4557377049180328,
          0.4557377049180328,
          0.45901639344262296,
          0.45901639344262296,
          0.460655737704918,
          0.460655737704918,
          0.46229508196721314,
          0.46229508196721314,
          0.46311475409836067,
          0.46311475409836067,
          0.4639344262295082,
          0.4639344262295082,
          0.4663934426229508,
          0.4663934426229508,
          0.4672131147540984,
          0.4672131147540984,
          0.4680327868852459,
          0.4680327868852459,
          0.46885245901639344,
          0.46885245901639344,
          0.4713114754098361,
          0.4713114754098361,
          0.4737704918032787,
          0.4737704918032787,
          0.4745901639344262,
          0.4745901639344262,
          0.47540983606557374,
          0.47540983606557374,
          0.4778688524590164,
          0.4778688524590164,
          0.48278688524590163,
          0.48278688524590163,
          0.48360655737704916,
          0.48360655737704916,
          0.48442622950819675,
          0.48442622950819675,
          0.48688524590163934,
          0.48688524590163934,
          0.48770491803278687,
          0.48770491803278687,
          0.489344262295082,
          0.489344262295082,
          0.4918032786885246,
          0.4918032786885246,
          0.4926229508196721,
          0.4926229508196721,
          0.4934426229508197,
          0.4934426229508197,
          0.49426229508196723,
          0.49426229508196723,
          0.4959016393442623,
          0.4959016393442623,
          0.49754098360655735,
          0.49754098360655735,
          0.49836065573770494,
          0.49836065573770494,
          0.49918032786885247,
          0.49918032786885247,
          0.5008196721311475,
          0.5008196721311475,
          0.5057377049180328,
          0.5057377049180328,
          0.5065573770491804,
          0.5065573770491804,
          0.5073770491803279,
          0.5073770491803279,
          0.5081967213114754,
          0.5081967213114754,
          0.509016393442623,
          0.509016393442623,
          0.5098360655737705,
          0.5098360655737705,
          0.510655737704918,
          0.510655737704918,
          0.5114754098360655,
          0.5114754098360655,
          0.5131147540983606,
          0.5131147540983606,
          0.5139344262295082,
          0.5139344262295082,
          0.5163934426229508,
          0.5163934426229508,
          0.5172131147540984,
          0.5172131147540984,
          0.519672131147541,
          0.519672131147541,
          0.5229508196721312,
          0.5229508196721312,
          0.5245901639344263,
          0.5245901639344263,
          0.5254098360655738,
          0.5254098360655738,
          0.5262295081967213,
          0.5262295081967213,
          0.5270491803278688,
          0.5270491803278688,
          0.5295081967213114,
          0.5295081967213114,
          0.530327868852459,
          0.530327868852459,
          0.5319672131147541,
          0.5319672131147541,
          0.5327868852459017,
          0.5327868852459017,
          0.5344262295081967,
          0.5344262295081967,
          0.5352459016393443,
          0.5352459016393443,
          0.5360655737704918,
          0.5360655737704918,
          0.5368852459016393,
          0.5368852459016393,
          0.5377049180327869,
          0.5377049180327869,
          0.5393442622950819,
          0.5393442622950819,
          0.5401639344262295,
          0.5401639344262295,
          0.5409836065573771,
          0.5409836065573771,
          0.5418032786885246,
          0.5418032786885246,
          0.5426229508196722,
          0.5426229508196722,
          0.5459016393442623,
          0.5459016393442623,
          0.5467213114754098,
          0.5467213114754098,
          0.5483606557377049,
          0.5483606557377049,
          0.5491803278688525,
          0.5491803278688525,
          0.55,
          0.55,
          0.5508196721311476,
          0.5508196721311476,
          0.5524590163934426,
          0.5524590163934426,
          0.5549180327868852,
          0.5557377049180328,
          0.5557377049180328,
          0.5565573770491803,
          0.5565573770491803,
          0.5581967213114755,
          0.5581967213114755,
          0.559016393442623,
          0.559016393442623,
          0.5606557377049181,
          0.5606557377049181,
          0.5622950819672131,
          0.5622950819672131,
          0.5631147540983606,
          0.5631147540983606,
          0.5639344262295082,
          0.5639344262295082,
          0.5647540983606557,
          0.5647540983606557,
          0.5663934426229508,
          0.5663934426229508,
          0.5680327868852459,
          0.5680327868852459,
          0.5688524590163935,
          0.5688524590163935,
          0.569672131147541,
          0.569672131147541,
          0.5704918032786885,
          0.5704918032786885,
          0.5713114754098361,
          0.5713114754098361,
          0.5729508196721311,
          0.5729508196721311,
          0.5737704918032787,
          0.5737704918032787,
          0.5745901639344262,
          0.5745901639344262,
          0.5778688524590164,
          0.5778688524590164,
          0.578688524590164,
          0.578688524590164,
          0.580327868852459,
          0.580327868852459,
          0.5827868852459016,
          0.5827868852459016,
          0.5836065573770491,
          0.5836065573770491,
          0.5852459016393443,
          0.5852459016393443,
          0.5860655737704918,
          0.5860655737704918,
          0.5868852459016394,
          0.5868852459016394,
          0.5901639344262295,
          0.5901639344262295,
          0.590983606557377,
          0.590983606557377,
          0.5926229508196721,
          0.5926229508196721,
          0.5934426229508196,
          0.5934426229508196,
          0.5942622950819673,
          0.5942622950819673,
          0.5950819672131148,
          0.5950819672131148,
          0.5959016393442623,
          0.5959016393442623,
          0.5975409836065574,
          0.5975409836065574,
          0.5983606557377049,
          0.5983606557377049,
          0.5991803278688524,
          0.5991803278688524,
          0.6032786885245902,
          0.6032786885245902,
          0.6040983606557377,
          0.6040983606557377,
          0.6049180327868853,
          0.6049180327868853,
          0.6081967213114754,
          0.6081967213114754,
          0.6090163934426229,
          0.6090163934426229,
          0.610655737704918,
          0.610655737704918,
          0.6147540983606558,
          0.6147540983606558,
          0.6155737704918033,
          0.6155737704918033,
          0.6172131147540983,
          0.6172131147540983,
          0.6180327868852459,
          0.6180327868852459,
          0.6188524590163934,
          0.6188524590163934,
          0.6221311475409836,
          0.6221311475409836,
          0.6229508196721312,
          0.6229508196721312,
          0.6254098360655738,
          0.6254098360655738,
          0.6270491803278688,
          0.6270491803278688,
          0.6278688524590164,
          0.6278688524590164,
          0.6303278688524591,
          0.6303278688524591,
          0.6319672131147541,
          0.6319672131147541,
          0.6336065573770492,
          0.6336065573770492,
          0.6344262295081967,
          0.6344262295081967,
          0.6352459016393442,
          0.6352459016393442,
          0.6368852459016393,
          0.6368852459016393,
          0.6377049180327868,
          0.6377049180327868,
          0.6385245901639345,
          0.6385245901639345,
          0.6401639344262295,
          0.6401639344262295,
          0.6450819672131147,
          0.6450819672131147,
          0.6475409836065574,
          0.6475409836065574,
          0.648360655737705,
          0.648360655737705,
          0.65,
          0.65,
          0.6508196721311476,
          0.6508196721311476,
          0.6524590163934426,
          0.6524590163934426,
          0.6532786885245901,
          0.6532786885245901,
          0.6540983606557377,
          0.6540983606557377,
          0.6549180327868852,
          0.6549180327868852,
          0.6573770491803279,
          0.6573770491803279,
          0.6581967213114754,
          0.6581967213114754,
          0.659016393442623,
          0.659016393442623,
          0.6598360655737705,
          0.6598360655737705,
          0.660655737704918,
          0.660655737704918,
          0.6622950819672131,
          0.6622950819672131,
          0.6631147540983606,
          0.6631147540983606,
          0.6639344262295082,
          0.6639344262295082,
          0.6647540983606557,
          0.6647540983606557,
          0.6672131147540984,
          0.6672131147540984,
          0.6680327868852459,
          0.6680327868852459,
          0.6688524590163935,
          0.6688524590163935,
          0.669672131147541,
          0.669672131147541,
          0.6704918032786885,
          0.6704918032786885,
          0.671311475409836,
          0.671311475409836,
          0.6721311475409836,
          0.6721311475409836,
          0.6729508196721311,
          0.6729508196721311,
          0.6737704918032786,
          0.6737704918032786,
          0.6786885245901639,
          0.6786885245901639,
          0.6811475409836065,
          0.6811475409836065,
          0.6827868852459016,
          0.6827868852459016,
          0.6836065573770492,
          0.6836065573770492,
          0.6844262295081968,
          0.6844262295081968,
          0.6852459016393443,
          0.6852459016393443,
          0.6860655737704918,
          0.6860655737704918,
          0.6868852459016394,
          0.6868852459016394,
          0.6877049180327869,
          0.6877049180327869,
          0.6885245901639344,
          0.6885245901639344,
          0.6893442622950819,
          0.6893442622950819,
          0.6901639344262295,
          0.6901639344262295,
          0.6918032786885245,
          0.6918032786885245,
          0.6926229508196722,
          0.6926229508196722,
          0.6934426229508197,
          0.6934426229508197,
          0.6942622950819672,
          0.6942622950819672,
          0.6942622950819672,
          0.6959016393442623,
          0.6959016393442623,
          0.6967213114754098,
          0.6967213114754098,
          0.6975409836065574,
          0.6975409836065574,
          0.6983606557377049,
          0.6983606557377049,
          0.6991803278688524,
          0.6991803278688524,
          0.7,
          0.7,
          0.7008196721311475,
          0.7008196721311475,
          0.7016393442622951,
          0.7016393442622951,
          0.7024590163934427,
          0.7024590163934427,
          0.7032786885245902,
          0.7032786885245902,
          0.7040983606557377,
          0.7040983606557377,
          0.7073770491803278,
          0.7073770491803278,
          0.7081967213114754,
          0.7081967213114754,
          0.7090163934426229,
          0.7090163934426229,
          0.7098360655737705,
          0.7098360655737705,
          0.7106557377049181,
          0.7106557377049181,
          0.7122950819672131,
          0.7122950819672131,
          0.7139344262295082,
          0.7139344262295082,
          0.7155737704918033,
          0.7155737704918033,
          0.7163934426229508,
          0.7163934426229508,
          0.7180327868852459,
          0.7180327868852459,
          0.719672131147541,
          0.719672131147541,
          0.7213114754098361,
          0.7213114754098361,
          0.7221311475409836,
          0.7221311475409836,
          0.7229508196721312,
          0.7229508196721312,
          0.7237704918032787,
          0.7237704918032787,
          0.7245901639344262,
          0.7245901639344262,
          0.7254098360655737,
          0.7254098360655737,
          0.7262295081967213,
          0.7262295081967213,
          0.7270491803278688,
          0.7270491803278688,
          0.7278688524590164,
          0.7278688524590164,
          0.728688524590164,
          0.728688524590164,
          0.7295081967213115,
          0.7295081967213115,
          0.7311475409836066,
          0.7311475409836066,
          0.7327868852459016,
          0.7327868852459016,
          0.7336065573770492,
          0.7336065573770492,
          0.7360655737704918,
          0.7360655737704918,
          0.7385245901639345,
          0.7385245901639345,
          0.739344262295082,
          0.739344262295082,
          0.7401639344262295,
          0.7401639344262295,
          0.740983606557377,
          0.740983606557377,
          0.7418032786885246,
          0.7418032786885246,
          0.7434426229508196,
          0.7434426229508196,
          0.7442622950819672,
          0.7442622950819672,
          0.7450819672131147,
          0.7450819672131147,
          0.7459016393442623,
          0.7459016393442623,
          0.7475409836065574,
          0.7475409836065574,
          0.75,
          0.75,
          0.7524590163934426,
          0.7524590163934426,
          0.7532786885245901,
          0.7532786885245901,
          0.7540983606557377,
          0.7540983606557377,
          0.7549180327868853,
          0.7549180327868853,
          0.7557377049180328,
          0.7557377049180328,
          0.7565573770491804,
          0.7565573770491804,
          0.7573770491803279,
          0.7573770491803279,
          0.7581967213114754,
          0.7581967213114754,
          0.759016393442623,
          0.759016393442623,
          0.7598360655737705,
          0.7598360655737705,
          0.760655737704918,
          0.760655737704918,
          0.7622950819672131,
          0.7622950819672131,
          0.7631147540983606,
          0.7631147540983606,
          0.7639344262295082,
          0.7639344262295082,
          0.7663934426229508,
          0.7663934426229508,
          0.7672131147540984,
          0.7672131147540984,
          0.7680327868852459,
          0.7680327868852459,
          0.7688524590163934,
          0.7688524590163934,
          0.769672131147541,
          0.769672131147541,
          0.7704918032786885,
          0.7704918032786885,
          0.7729508196721312,
          0.7729508196721312,
          0.7737704918032787,
          0.7737704918032787,
          0.7745901639344263,
          0.7745901639344263,
          0.7754098360655738,
          0.7754098360655738,
          0.7762295081967213,
          0.7762295081967213,
          0.7770491803278688,
          0.7770491803278688,
          0.7795081967213114,
          0.7795081967213114,
          0.780327868852459,
          0.780327868852459,
          0.7811475409836065,
          0.7811475409836065,
          0.7819672131147541,
          0.7819672131147541,
          0.7827868852459017,
          0.7827868852459017,
          0.7836065573770492,
          0.7836065573770492,
          0.7844262295081967,
          0.7844262295081967,
          0.7852459016393443,
          0.7852459016393443,
          0.7860655737704918,
          0.7860655737704918,
          0.7868852459016393,
          0.7868852459016393,
          0.7885245901639344,
          0.7885245901639344,
          0.7901639344262295,
          0.7901639344262295,
          0.7909836065573771,
          0.7909836065573771,
          0.7918032786885246,
          0.7918032786885246,
          0.7950819672131147,
          0.7950819672131147,
          0.7967213114754098,
          0.7967213114754098,
          0.7975409836065573,
          0.7975409836065573,
          0.7983606557377049,
          0.7983606557377049,
          0.7991803278688525,
          0.7991803278688525,
          0.8,
          0.8,
          0.8008196721311476,
          0.8008196721311476,
          0.8016393442622951,
          0.8016393442622951,
          0.8024590163934426,
          0.8024590163934426,
          0.8032786885245902,
          0.8032786885245902,
          0.8040983606557377,
          0.8040983606557377,
          0.8065573770491803,
          0.8065573770491803,
          0.8073770491803278,
          0.8073770491803278,
          0.809016393442623,
          0.809016393442623,
          0.8106557377049181,
          0.8106557377049181,
          0.8114754098360656,
          0.8114754098360656,
          0.8122950819672131,
          0.8122950819672131,
          0.8131147540983606,
          0.8131147540983606,
          0.8139344262295082,
          0.8139344262295082,
          0.8147540983606557,
          0.8147540983606557,
          0.8155737704918032,
          0.8155737704918032,
          0.8163934426229508,
          0.8163934426229508,
          0.8172131147540984,
          0.8172131147540984,
          0.8180327868852459,
          0.8180327868852459,
          0.8204918032786885,
          0.8204918032786885,
          0.8213114754098361,
          0.8213114754098361,
          0.8221311475409836,
          0.8221311475409836,
          0.8229508196721311,
          0.8229508196721311,
          0.8237704918032787,
          0.8237704918032787,
          0.8245901639344262,
          0.8245901639344262,
          0.8254098360655737,
          0.8254098360655737,
          0.8270491803278689,
          0.8270491803278689,
          0.8295081967213115,
          0.8295081967213115,
          0.830327868852459,
          0.830327868852459,
          0.8311475409836065,
          0.8311475409836065,
          0.8319672131147541,
          0.8319672131147541,
          0.8336065573770491,
          0.8336065573770491,
          0.8344262295081967,
          0.8344262295081967,
          0.8352459016393443,
          0.8352459016393443,
          0.8360655737704918,
          0.8360655737704918,
          0.8368852459016394,
          0.8368852459016394,
          0.8377049180327869,
          0.8377049180327869,
          0.839344262295082,
          0.839344262295082,
          0.8401639344262295,
          0.8401639344262295,
          0.840983606557377,
          0.840983606557377,
          0.8418032786885246,
          0.8418032786885246,
          0.8426229508196721,
          0.8426229508196721,
          0.8442622950819673,
          0.8442622950819673,
          0.8450819672131148,
          0.8450819672131148,
          0.8459016393442623,
          0.8459016393442623,
          0.8467213114754099,
          0.8467213114754099,
          0.8475409836065574,
          0.8475409836065574,
          0.8483606557377049,
          0.8483606557377049,
          0.8491803278688524,
          0.8491803278688524,
          0.85,
          0.85,
          0.8508196721311475,
          0.8508196721311475,
          0.851639344262295,
          0.851639344262295,
          0.8524590163934426,
          0.8524590163934426,
          0.8532786885245902,
          0.8532786885245902,
          0.8540983606557377,
          0.8540983606557377,
          0.8549180327868853,
          0.8549180327868853,
          0.8557377049180328,
          0.8557377049180328,
          0.8565573770491803,
          0.8565573770491803,
          0.8573770491803279,
          0.8573770491803279,
          0.8581967213114754,
          0.8581967213114754,
          0.8590163934426229,
          0.8590163934426229,
          0.8598360655737705,
          0.8598360655737705,
          0.8614754098360655,
          0.8614754098360655,
          0.8631147540983607,
          0.8631147540983607,
          0.8639344262295082,
          0.8639344262295082,
          0.8647540983606558,
          0.8647540983606558,
          0.8655737704918033,
          0.8655737704918033,
          0.8680327868852459,
          0.8680327868852459,
          0.8688524590163934,
          0.8688524590163934,
          0.8696721311475409,
          0.8696721311475409,
          0.8704918032786885,
          0.8704918032786885,
          0.8713114754098361,
          0.8713114754098361,
          0.8721311475409836,
          0.8721311475409836,
          0.8737704918032787,
          0.8737704918032787,
          0.8745901639344262,
          0.8745901639344262,
          0.8762295081967213,
          0.8762295081967213,
          0.8770491803278688,
          0.8770491803278688,
          0.8778688524590164,
          0.8778688524590164,
          0.8786885245901639,
          0.8786885245901639,
          0.8795081967213115,
          0.8795081967213115,
          0.8819672131147541,
          0.8819672131147541,
          0.8827868852459017,
          0.8827868852459017,
          0.8836065573770492,
          0.8836065573770492,
          0.8844262295081967,
          0.8844262295081967,
          0.8852459016393442,
          0.8852459016393442,
          0.8860655737704918,
          0.8860655737704918,
          0.8877049180327868,
          0.8877049180327868,
          0.8885245901639345,
          0.8885245901639345,
          0.889344262295082,
          0.889344262295082,
          0.8901639344262295,
          0.8901639344262295,
          0.8909836065573771,
          0.8909836065573771,
          0.8918032786885246,
          0.8918032786885246,
          0.8926229508196721,
          0.8926229508196721,
          0.8934426229508197,
          0.8934426229508197,
          0.8942622950819672,
          0.8942622950819672,
          0.8950819672131147,
          0.8950819672131147,
          0.8959016393442623,
          0.8959016393442623,
          0.8967213114754098,
          0.8967213114754098,
          0.8975409836065574,
          0.8975409836065574,
          0.898360655737705,
          0.898360655737705,
          0.8991803278688525,
          0.8991803278688525,
          0.9,
          0.9,
          0.9008196721311476,
          0.9008196721311476,
          0.9016393442622951,
          0.9016393442622951,
          0.9024590163934426,
          0.9024590163934426,
          0.9032786885245901,
          0.9032786885245901,
          0.9040983606557377,
          0.9040983606557377,
          0.9057377049180327,
          0.9057377049180327,
          0.9065573770491804,
          0.9065573770491804,
          0.9081967213114754,
          0.9081967213114754,
          0.909016393442623,
          0.909016393442623,
          0.9098360655737705,
          0.9098360655737705,
          0.910655737704918,
          0.910655737704918,
          0.9122950819672131,
          0.9122950819672131,
          0.9131147540983606,
          0.9131147540983606,
          0.9139344262295082,
          0.9139344262295082,
          0.9147540983606557,
          0.9147540983606557,
          0.9155737704918033,
          0.9155737704918033,
          0.9163934426229509,
          0.9163934426229509,
          0.9172131147540984,
          0.9172131147540984,
          0.9180327868852459,
          0.9180327868852459,
          0.919672131147541,
          0.919672131147541,
          0.9204918032786885,
          0.9204918032786885,
          0.921311475409836,
          0.921311475409836,
          0.9221311475409836,
          0.9221311475409836,
          0.9229508196721311,
          0.9229508196721311,
          0.9237704918032786,
          0.9237704918032786,
          0.9245901639344263,
          0.9245901639344263,
          0.9254098360655738,
          0.9254098360655738,
          0.9262295081967213,
          0.9262295081967213,
          0.9270491803278689,
          0.9270491803278689,
          0.9278688524590164,
          0.9278688524590164,
          0.9286885245901639,
          0.9286885245901639,
          0.930327868852459,
          0.930327868852459,
          0.9311475409836065,
          0.9311475409836065,
          0.9319672131147541,
          0.9319672131147541,
          0.9327868852459016,
          0.9327868852459016,
          0.9336065573770492,
          0.9336065573770492,
          0.9344262295081968,
          0.9344262295081968,
          0.9352459016393443,
          0.9352459016393443,
          0.9360655737704918,
          0.9360655737704918,
          0.9368852459016394,
          0.9368852459016394,
          0.9377049180327869,
          0.9377049180327869,
          0.9393442622950819,
          0.9393442622950819,
          0.9401639344262295,
          0.9401639344262295,
          0.940983606557377,
          0.940983606557377,
          0.9418032786885245,
          0.9418032786885245,
          0.9426229508196722,
          0.9426229508196722,
          0.9442622950819672,
          0.9442622950819672,
          0.9450819672131148,
          0.9450819672131148,
          0.9459016393442623,
          0.9459016393442623,
          0.9467213114754098,
          0.9467213114754098,
          0.9475409836065574,
          0.9475409836065574,
          0.9483606557377049,
          0.9483606557377049,
          0.9491803278688524,
          0.9491803278688524,
          0.9508196721311475,
          0.9508196721311475,
          0.9524590163934427,
          0.9524590163934427,
          0.9540983606557377,
          0.9540983606557377,
          0.9557377049180328,
          0.9557377049180328,
          0.9581967213114754,
          0.9581967213114754,
          0.9590163934426229,
          0.9590163934426229,
          0.9598360655737705,
          0.9598360655737705,
          0.9606557377049181,
          0.9606557377049181,
          0.9614754098360656,
          0.9614754098360656,
          0.9622950819672131,
          0.9622950819672131,
          0.9631147540983607,
          0.9631147540983607,
          0.9639344262295082,
          0.9639344262295082,
          0.9647540983606557,
          0.9647540983606557,
          0.9655737704918033,
          0.9655737704918033,
          0.9663934426229508,
          0.9663934426229508,
          0.9672131147540983,
          0.9672131147540983,
          0.9680327868852459,
          0.9680327868852459,
          0.9688524590163935,
          0.9688524590163935,
          0.969672131147541,
          0.969672131147541,
          0.9713114754098361,
          0.9713114754098361,
          0.9721311475409836,
          0.9721311475409836,
          0.9729508196721312,
          0.9729508196721312,
          0.9737704918032787,
          0.9737704918032787,
          0.9745901639344262,
          0.9745901639344262,
          0.9754098360655737,
          0.9754098360655737,
          0.9762295081967213,
          0.9762295081967213,
          0.9770491803278688,
          0.9770491803278688,
          0.9778688524590164,
          0.9778688524590164,
          0.978688524590164,
          0.978688524590164,
          0.9795081967213115,
          0.9795081967213115,
          0.980327868852459,
          0.980327868852459,
          0.9811475409836066,
          0.9811475409836066,
          0.9819672131147541,
          0.9819672131147541,
          0.9827868852459016,
          0.9827868852459016,
          0.9836065573770492,
          0.9836065573770492,
          0.9844262295081967,
          0.9844262295081967,
          0.9852459016393442,
          0.9852459016393442,
          0.9860655737704918,
          0.9860655737704918,
          0.9868852459016394,
          0.9868852459016394,
          0.9877049180327869,
          0.9877049180327869,
          0.9885245901639345,
          0.9885245901639345,
          0.989344262295082,
          0.989344262295082,
          0.9901639344262295,
          0.9901639344262295,
          0.990983606557377,
          0.990983606557377,
          0.9918032786885246,
          0.9918032786885246,
          0.9926229508196721,
          0.9926229508196721,
          0.9934426229508196,
          0.9934426229508196,
          0.9942622950819672,
          0.9942622950819672,
          0.9950819672131147,
          0.9950819672131147,
          0.9959016393442623,
          0.9959016393442623,
          0.9967213114754099,
          0.9967213114754099,
          0.9975409836065574,
          0.9975409836065574,
          0.9983606557377049,
          0.9983606557377049,
          0.9991803278688525,
          0.9991803278688525,
          1,
          1,
          1,
          1,
          1,
          1
         ]
        },
        {
         "line": {
          "color": "navy",
          "dash": "dash",
          "width": 2
         },
         "mode": "lines",
         "name": "Random guess",
         "type": "scatter",
         "x": [
          0,
          1
         ],
         "y": [
          0,
          1
         ]
        }
       ],
       "layout": {
        "template": {
         "data": {
          "bar": [
           {
            "error_x": {
             "color": "#2a3f5f"
            },
            "error_y": {
             "color": "#2a3f5f"
            },
            "marker": {
             "line": {
              "color": "#E5ECF6",
              "width": 0.5
             },
             "pattern": {
              "fillmode": "overlay",
              "size": 10,
              "solidity": 0.2
             }
            },
            "type": "bar"
           }
          ],
          "barpolar": [
           {
            "marker": {
             "line": {
              "color": "#E5ECF6",
              "width": 0.5
             },
             "pattern": {
              "fillmode": "overlay",
              "size": 10,
              "solidity": 0.2
             }
            },
            "type": "barpolar"
           }
          ],
          "carpet": [
           {
            "aaxis": {
             "endlinecolor": "#2a3f5f",
             "gridcolor": "white",
             "linecolor": "white",
             "minorgridcolor": "white",
             "startlinecolor": "#2a3f5f"
            },
            "baxis": {
             "endlinecolor": "#2a3f5f",
             "gridcolor": "white",
             "linecolor": "white",
             "minorgridcolor": "white",
             "startlinecolor": "#2a3f5f"
            },
            "type": "carpet"
           }
          ],
          "choropleth": [
           {
            "colorbar": {
             "outlinewidth": 0,
             "ticks": ""
            },
            "type": "choropleth"
           }
          ],
          "contour": [
           {
            "colorbar": {
             "outlinewidth": 0,
             "ticks": ""
            },
            "colorscale": [
             [
              0,
              "#0d0887"
             ],
             [
              0.1111111111111111,
              "#46039f"
             ],
             [
              0.2222222222222222,
              "#7201a8"
             ],
             [
              0.3333333333333333,
              "#9c179e"
             ],
             [
              0.4444444444444444,
              "#bd3786"
             ],
             [
              0.5555555555555556,
              "#d8576b"
             ],
             [
              0.6666666666666666,
              "#ed7953"
             ],
             [
              0.7777777777777778,
              "#fb9f3a"
             ],
             [
              0.8888888888888888,
              "#fdca26"
             ],
             [
              1,
              "#f0f921"
             ]
            ],
            "type": "contour"
           }
          ],
          "contourcarpet": [
           {
            "colorbar": {
             "outlinewidth": 0,
             "ticks": ""
            },
            "type": "contourcarpet"
           }
          ],
          "heatmap": [
           {
            "colorbar": {
             "outlinewidth": 0,
             "ticks": ""
            },
            "colorscale": [
             [
              0,
              "#0d0887"
             ],
             [
              0.1111111111111111,
              "#46039f"
             ],
             [
              0.2222222222222222,
              "#7201a8"
             ],
             [
              0.3333333333333333,
              "#9c179e"
             ],
             [
              0.4444444444444444,
              "#bd3786"
             ],
             [
              0.5555555555555556,
              "#d8576b"
             ],
             [
              0.6666666666666666,
              "#ed7953"
             ],
             [
              0.7777777777777778,
              "#fb9f3a"
             ],
             [
              0.8888888888888888,
              "#fdca26"
             ],
             [
              1,
              "#f0f921"
             ]
            ],
            "type": "heatmap"
           }
          ],
          "heatmapgl": [
           {
            "colorbar": {
             "outlinewidth": 0,
             "ticks": ""
            },
            "colorscale": [
             [
              0,
              "#0d0887"
             ],
             [
              0.1111111111111111,
              "#46039f"
             ],
             [
              0.2222222222222222,
              "#7201a8"
             ],
             [
              0.3333333333333333,
              "#9c179e"
             ],
             [
              0.4444444444444444,
              "#bd3786"
             ],
             [
              0.5555555555555556,
              "#d8576b"
             ],
             [
              0.6666666666666666,
              "#ed7953"
             ],
             [
              0.7777777777777778,
              "#fb9f3a"
             ],
             [
              0.8888888888888888,
              "#fdca26"
             ],
             [
              1,
              "#f0f921"
             ]
            ],
            "type": "heatmapgl"
           }
          ],
          "histogram": [
           {
            "marker": {
             "pattern": {
              "fillmode": "overlay",
              "size": 10,
              "solidity": 0.2
             }
            },
            "type": "histogram"
           }
          ],
          "histogram2d": [
           {
            "colorbar": {
             "outlinewidth": 0,
             "ticks": ""
            },
            "colorscale": [
             [
              0,
              "#0d0887"
             ],
             [
              0.1111111111111111,
              "#46039f"
             ],
             [
              0.2222222222222222,
              "#7201a8"
             ],
             [
              0.3333333333333333,
              "#9c179e"
             ],
             [
              0.4444444444444444,
              "#bd3786"
             ],
             [
              0.5555555555555556,
              "#d8576b"
             ],
             [
              0.6666666666666666,
              "#ed7953"
             ],
             [
              0.7777777777777778,
              "#fb9f3a"
             ],
             [
              0.8888888888888888,
              "#fdca26"
             ],
             [
              1,
              "#f0f921"
             ]
            ],
            "type": "histogram2d"
           }
          ],
          "histogram2dcontour": [
           {
            "colorbar": {
             "outlinewidth": 0,
             "ticks": ""
            },
            "colorscale": [
             [
              0,
              "#0d0887"
             ],
             [
              0.1111111111111111,
              "#46039f"
             ],
             [
              0.2222222222222222,
              "#7201a8"
             ],
             [
              0.3333333333333333,
              "#9c179e"
             ],
             [
              0.4444444444444444,
              "#bd3786"
             ],
             [
              0.5555555555555556,
              "#d8576b"
             ],
             [
              0.6666666666666666,
              "#ed7953"
             ],
             [
              0.7777777777777778,
              "#fb9f3a"
             ],
             [
              0.8888888888888888,
              "#fdca26"
             ],
             [
              1,
              "#f0f921"
             ]
            ],
            "type": "histogram2dcontour"
           }
          ],
          "mesh3d": [
           {
            "colorbar": {
             "outlinewidth": 0,
             "ticks": ""
            },
            "type": "mesh3d"
           }
          ],
          "parcoords": [
           {
            "line": {
             "colorbar": {
              "outlinewidth": 0,
              "ticks": ""
             }
            },
            "type": "parcoords"
           }
          ],
          "pie": [
           {
            "automargin": true,
            "type": "pie"
           }
          ],
          "scatter": [
           {
            "fillpattern": {
             "fillmode": "overlay",
             "size": 10,
             "solidity": 0.2
            },
            "type": "scatter"
           }
          ],
          "scatter3d": [
           {
            "line": {
             "colorbar": {
              "outlinewidth": 0,
              "ticks": ""
             }
            },
            "marker": {
             "colorbar": {
              "outlinewidth": 0,
              "ticks": ""
             }
            },
            "type": "scatter3d"
           }
          ],
          "scattercarpet": [
           {
            "marker": {
             "colorbar": {
              "outlinewidth": 0,
              "ticks": ""
             }
            },
            "type": "scattercarpet"
           }
          ],
          "scattergeo": [
           {
            "marker": {
             "colorbar": {
              "outlinewidth": 0,
              "ticks": ""
             }
            },
            "type": "scattergeo"
           }
          ],
          "scattergl": [
           {
            "marker": {
             "colorbar": {
              "outlinewidth": 0,
              "ticks": ""
             }
            },
            "type": "scattergl"
           }
          ],
          "scattermapbox": [
           {
            "marker": {
             "colorbar": {
              "outlinewidth": 0,
              "ticks": ""
             }
            },
            "type": "scattermapbox"
           }
          ],
          "scatterpolar": [
           {
            "marker": {
             "colorbar": {
              "outlinewidth": 0,
              "ticks": ""
             }
            },
            "type": "scatterpolar"
           }
          ],
          "scatterpolargl": [
           {
            "marker": {
             "colorbar": {
              "outlinewidth": 0,
              "ticks": ""
             }
            },
            "type": "scatterpolargl"
           }
          ],
          "scatterternary": [
           {
            "marker": {
             "colorbar": {
              "outlinewidth": 0,
              "ticks": ""
             }
            },
            "type": "scatterternary"
           }
          ],
          "surface": [
           {
            "colorbar": {
             "outlinewidth": 0,
             "ticks": ""
            },
            "colorscale": [
             [
              0,
              "#0d0887"
             ],
             [
              0.1111111111111111,
              "#46039f"
             ],
             [
              0.2222222222222222,
              "#7201a8"
             ],
             [
              0.3333333333333333,
              "#9c179e"
             ],
             [
              0.4444444444444444,
              "#bd3786"
             ],
             [
              0.5555555555555556,
              "#d8576b"
             ],
             [
              0.6666666666666666,
              "#ed7953"
             ],
             [
              0.7777777777777778,
              "#fb9f3a"
             ],
             [
              0.8888888888888888,
              "#fdca26"
             ],
             [
              1,
              "#f0f921"
             ]
            ],
            "type": "surface"
           }
          ],
          "table": [
           {
            "cells": {
             "fill": {
              "color": "#EBF0F8"
             },
             "line": {
              "color": "white"
             }
            },
            "header": {
             "fill": {
              "color": "#C8D4E3"
             },
             "line": {
              "color": "white"
             }
            },
            "type": "table"
           }
          ]
         },
         "layout": {
          "annotationdefaults": {
           "arrowcolor": "#2a3f5f",
           "arrowhead": 0,
           "arrowwidth": 1
          },
          "autotypenumbers": "strict",
          "coloraxis": {
           "colorbar": {
            "outlinewidth": 0,
            "ticks": ""
           }
          },
          "colorscale": {
           "diverging": [
            [
             0,
             "#8e0152"
            ],
            [
             0.1,
             "#c51b7d"
            ],
            [
             0.2,
             "#de77ae"
            ],
            [
             0.3,
             "#f1b6da"
            ],
            [
             0.4,
             "#fde0ef"
            ],
            [
             0.5,
             "#f7f7f7"
            ],
            [
             0.6,
             "#e6f5d0"
            ],
            [
             0.7,
             "#b8e186"
            ],
            [
             0.8,
             "#7fbc41"
            ],
            [
             0.9,
             "#4d9221"
            ],
            [
             1,
             "#276419"
            ]
           ],
           "sequential": [
            [
             0,
             "#0d0887"
            ],
            [
             0.1111111111111111,
             "#46039f"
            ],
            [
             0.2222222222222222,
             "#7201a8"
            ],
            [
             0.3333333333333333,
             "#9c179e"
            ],
            [
             0.4444444444444444,
             "#bd3786"
            ],
            [
             0.5555555555555556,
             "#d8576b"
            ],
            [
             0.6666666666666666,
             "#ed7953"
            ],
            [
             0.7777777777777778,
             "#fb9f3a"
            ],
            [
             0.8888888888888888,
             "#fdca26"
            ],
            [
             1,
             "#f0f921"
            ]
           ],
           "sequentialminus": [
            [
             0,
             "#0d0887"
            ],
            [
             0.1111111111111111,
             "#46039f"
            ],
            [
             0.2222222222222222,
             "#7201a8"
            ],
            [
             0.3333333333333333,
             "#9c179e"
            ],
            [
             0.4444444444444444,
             "#bd3786"
            ],
            [
             0.5555555555555556,
             "#d8576b"
            ],
            [
             0.6666666666666666,
             "#ed7953"
            ],
            [
             0.7777777777777778,
             "#fb9f3a"
            ],
            [
             0.8888888888888888,
             "#fdca26"
            ],
            [
             1,
             "#f0f921"
            ]
           ]
          },
          "colorway": [
           "#636efa",
           "#EF553B",
           "#00cc96",
           "#ab63fa",
           "#FFA15A",
           "#19d3f3",
           "#FF6692",
           "#B6E880",
           "#FF97FF",
           "#FECB52"
          ],
          "font": {
           "color": "#2a3f5f"
          },
          "geo": {
           "bgcolor": "white",
           "lakecolor": "white",
           "landcolor": "#E5ECF6",
           "showlakes": true,
           "showland": true,
           "subunitcolor": "white"
          },
          "hoverlabel": {
           "align": "left"
          },
          "hovermode": "closest",
          "mapbox": {
           "style": "light"
          },
          "paper_bgcolor": "white",
          "plot_bgcolor": "#E5ECF6",
          "polar": {
           "angularaxis": {
            "gridcolor": "white",
            "linecolor": "white",
            "ticks": ""
           },
           "bgcolor": "#E5ECF6",
           "radialaxis": {
            "gridcolor": "white",
            "linecolor": "white",
            "ticks": ""
           }
          },
          "scene": {
           "xaxis": {
            "backgroundcolor": "#E5ECF6",
            "gridcolor": "white",
            "gridwidth": 2,
            "linecolor": "white",
            "showbackground": true,
            "ticks": "",
            "zerolinecolor": "white"
           },
           "yaxis": {
            "backgroundcolor": "#E5ECF6",
            "gridcolor": "white",
            "gridwidth": 2,
            "linecolor": "white",
            "showbackground": true,
            "ticks": "",
            "zerolinecolor": "white"
           },
           "zaxis": {
            "backgroundcolor": "#E5ECF6",
            "gridcolor": "white",
            "gridwidth": 2,
            "linecolor": "white",
            "showbackground": true,
            "ticks": "",
            "zerolinecolor": "white"
           }
          },
          "shapedefaults": {
           "line": {
            "color": "#2a3f5f"
           }
          },
          "ternary": {
           "aaxis": {
            "gridcolor": "white",
            "linecolor": "white",
            "ticks": ""
           },
           "baxis": {
            "gridcolor": "white",
            "linecolor": "white",
            "ticks": ""
           },
           "bgcolor": "#E5ECF6",
           "caxis": {
            "gridcolor": "white",
            "linecolor": "white",
            "ticks": ""
           }
          },
          "title": {
           "x": 0.05
          },
          "xaxis": {
           "automargin": true,
           "gridcolor": "white",
           "linecolor": "white",
           "ticks": "",
           "title": {
            "standoff": 15
           },
           "zerolinecolor": "white",
           "zerolinewidth": 2
          },
          "yaxis": {
           "automargin": true,
           "gridcolor": "white",
           "linecolor": "white",
           "ticks": "",
           "title": {
            "standoff": 15
           },
           "zerolinecolor": "white",
           "zerolinewidth": 2
          }
         }
        },
        "title": {
         "text": "Receiver Operating Characteristic"
        },
        "xaxis": {
         "title": {
          "text": "False Positive Rate"
         }
        },
        "yaxis": {
         "title": {
          "text": "True Positive Rate"
         }
        }
       }
      }
     },
     "metadata": {},
     "output_type": "display_data"
    }
   ],
   "source": [
    "import plotly.graph_objects as go\n",
    "\n",
    "fig = go.Figure()\n",
    "fig.add_trace(\n",
    "    go.Scatter(\n",
    "        x=fpr,\n",
    "        y=tpr,\n",
    "        mode=\"lines\",\n",
    "        name=\"ROC curve (area = %0.2f)\" % auc,\n",
    "        line=dict(color=\"darkorange\", width=2),\n",
    "        text=thresholds,\n",
    "        hovertemplate=\"fpr: %{x:.2f}<br>tpr: %{y:.2f}<br>threshold: %{text:.2f}\",\n",
    "    )\n",
    ")\n",
    "fig.add_trace(\n",
    "    go.Scatter(\n",
    "        x=[0, 1],\n",
    "        y=[0, 1],\n",
    "        mode=\"lines\",\n",
    "        name=\"Random guess\",\n",
    "        line=dict(color=\"navy\", width=2, dash=\"dash\"),\n",
    "    )\n",
    ")\n",
    "fig.update_layout(\n",
    "    title=\"Receiver Operating Characteristic\",\n",
    "    xaxis_title=\"False Positive Rate\",\n",
    "    yaxis_title=\"True Positive Rate\",\n",
    ")\n",
    "fig.show()"
   ]
  },
  {
   "cell_type": "code",
   "execution_count": 228,
   "metadata": {},
   "outputs": [
    {
     "name": "stdout",
     "output_type": "stream",
     "text": [
      "              precision    recall  f1-score   support\n",
      "\n",
      "           0       0.85      0.66      0.74      2907\n",
      "           1       0.47      0.73      0.57      1220\n",
      "\n",
      "    accuracy                           0.68      4127\n",
      "   macro avg       0.66      0.69      0.66      4127\n",
      "weighted avg       0.74      0.68      0.69      4127\n",
      "\n"
     ]
    },
    {
     "data": {
      "text/plain": [
       "<sklearn.metrics._plot.confusion_matrix.ConfusionMatrixDisplay at 0x2c655e99f50>"
      ]
     },
     "execution_count": 228,
     "metadata": {},
     "output_type": "execute_result"
    },
    {
     "data": {
      "image/png": "[encoded data removed]",
      "text/plain": [
       "<Figure size 640x480 with 2 Axes>"
      ]
     },
     "metadata": {},
     "output_type": "display_data"
    }
   ],
   "source": [
    "# threshold = 0.2\n",
    "y_pred_proba = classifier.predict_proba(X_test)[:, 1]\n",
    "y_pred = [1 if prob > 0.2 else 0 for prob in y_pred_proba]\n",
    "\n",
    "print(classification_report(y_test, y_pred))\n",
    "\n",
    "cm = confusion_matrix(y_test, y_pred)\n",
    "disp = ConfusionMatrixDisplay(confusion_matrix=cm, display_labels=classifier.classes_)\n",
    "disp.plot()"
   ]
  },
  {
   "cell_type": "code",
   "execution_count": null,
   "metadata": {},
   "outputs": [],
   "source": []
  },
  {
   "attachments": {},
   "cell_type": "markdown",
   "metadata": {},
   "source": [
    "# Split into train and test"
   ]
  },
  {
   "cell_type": "code",
   "execution_count": 91,
   "metadata": {},
   "outputs": [],
   "source": [
    "\n",
    "\n",
    "X_train, X_test, y_train, y_test = train_test_split(\n",
    "    X, y, test_size=0.3, random_state=42\n",
    ")\n"
   ]
  },
  {
   "attachments": {},
   "cell_type": "markdown",
   "metadata": {},
   "source": [
    "# Define a model"
   ]
  },
  {
   "cell_type": "code",
   "execution_count": 92,
   "metadata": {},
   "outputs": [],
   "source": [
    "from sklearn.linear_model import LogisticRegression\n",
    "\n",
    "\n",
    "logistic_regression_model = LogisticRegression()\n"
   ]
  },
  {
   "attachments": {},
   "cell_type": "markdown",
   "metadata": {},
   "source": [
    "# Fit the model"
   ]
  },
  {
   "cell_type": "code",
   "execution_count": 93,
   "metadata": {},
   "outputs": [
    {
     "data": {
      "text/html": [
       "<style>#sk-container-id-4 {color: black;background-color: white;}#sk-container-id-4 pre{padding: 0;}#sk-container-id-4 div.sk-toggleable {background-color: white;}#sk-container-id-4 label.sk-toggleable__label {cursor: pointer;display: block;width: 100%;margin-bottom: 0;padding: 0.3em;box-sizing: border-box;text-align: center;}#sk-container-id-4 label.sk-toggleable__label-arrow:before {content: \"▸\";float: left;margin-right: 0.25em;color: #696969;}#sk-container-id-4 label.sk-toggleable__label-arrow:hover:before {color: black;}#sk-container-id-4 div.sk-estimator:hover label.sk-toggleable__label-arrow:before {color: black;}#sk-container-id-4 div.sk-toggleable__content {max-height: 0;max-width: 0;overflow: hidden;text-align: left;background-color: #f0f8ff;}#sk-container-id-4 div.sk-toggleable__content pre {margin: 0.2em;color: black;border-radius: 0.25em;background-color: #f0f8ff;}#sk-container-id-4 input.sk-toggleable__control:checked~div.sk-toggleable__content {max-height: 200px;max-width: 100%;overflow: auto;}#sk-container-id-4 input.sk-toggleable__control:checked~label.sk-toggleable__label-arrow:before {content: \"▾\";}#sk-container-id-4 div.sk-estimator input.sk-toggleable__control:checked~label.sk-toggleable__label {background-color: #d4ebff;}#sk-container-id-4 div.sk-label input.sk-toggleable__control:checked~label.sk-toggleable__label {background-color: #d4ebff;}#sk-container-id-4 input.sk-hidden--visually {border: 0;clip: rect(1px 1px 1px 1px);clip: rect(1px, 1px, 1px, 1px);height: 1px;margin: -1px;overflow: hidden;padding: 0;position: absolute;width: 1px;}#sk-container-id-4 div.sk-estimator {font-family: monospace;background-color: #f0f8ff;border: 1px dotted black;border-radius: 0.25em;box-sizing: border-box;margin-bottom: 0.5em;}#sk-container-id-4 div.sk-estimator:hover {background-color: #d4ebff;}#sk-container-id-4 div.sk-parallel-item::after {content: \"\";width: 100%;border-bottom: 1px solid gray;flex-grow: 1;}#sk-container-id-4 div.sk-label:hover label.sk-toggleable__label {background-color: #d4ebff;}#sk-container-id-4 div.sk-serial::before {content: \"\";position: absolute;border-left: 1px solid gray;box-sizing: border-box;top: 0;bottom: 0;left: 50%;z-index: 0;}#sk-container-id-4 div.sk-serial {display: flex;flex-direction: column;align-items: center;background-color: white;padding-right: 0.2em;padding-left: 0.2em;position: relative;}#sk-container-id-4 div.sk-item {position: relative;z-index: 1;}#sk-container-id-4 div.sk-parallel {display: flex;align-items: stretch;justify-content: center;background-color: white;position: relative;}#sk-container-id-4 div.sk-item::before, #sk-container-id-4 div.sk-parallel-item::before {content: \"\";position: absolute;border-left: 1px solid gray;box-sizing: border-box;top: 0;bottom: 0;left: 50%;z-index: -1;}#sk-container-id-4 div.sk-parallel-item {display: flex;flex-direction: column;z-index: 1;position: relative;background-color: white;}#sk-container-id-4 div.sk-parallel-item:first-child::after {align-self: flex-end;width: 50%;}#sk-container-id-4 div.sk-parallel-item:last-child::after {align-self: flex-start;width: 50%;}#sk-container-id-4 div.sk-parallel-item:only-child::after {width: 0;}#sk-container-id-4 div.sk-dashed-wrapped {border: 1px dashed gray;margin: 0 0.4em 0.5em 0.4em;box-sizing: border-box;padding-bottom: 0.4em;background-color: white;}#sk-container-id-4 div.sk-label label {font-family: monospace;font-weight: bold;display: inline-block;line-height: 1.2em;}#sk-container-id-4 div.sk-label-container {text-align: center;}#sk-container-id-4 div.sk-container {/* jupyter's `normalize.less` sets `[hidden] { display: none; }` but bootstrap.min.css set `[hidden] { display: none !important; }` so we also need the `!important` here to be able to override the default hidden behavior on the sphinx rendered scikit-learn.org. See: https://github.com/scikit-learn/scikit-learn/issues/21755 */display: inline-block !important;position: relative;}#sk-container-id-4 div.sk-text-repr-fallback {display: none;}</style><div id=\"sk-container-id-4\" class=\"sk-top-container\"><div class=\"sk-text-repr-fallback\"><pre>LogisticRegression()</pre><b>In a Jupyter environment, please rerun this cell to show the HTML representation or trust the notebook. <br />On GitHub, the HTML representation is unable to render, please try loading this page with nbviewer.org.</b></div><div class=\"sk-container\" hidden><div class=\"sk-item\"><div class=\"sk-estimator sk-toggleable\"><input class=\"sk-toggleable__control sk-hidden--visually\" id=\"sk-estimator-id-4\" type=\"checkbox\" checked><label for=\"sk-estimator-id-4\" class=\"sk-toggleable__label sk-toggleable__label-arrow\">LogisticRegression</label><div class=\"sk-toggleable__content\"><pre>LogisticRegression()</pre></div></div></div></div></div>"
      ],
      "text/plain": [
       "LogisticRegression()"
      ]
     },
     "execution_count": 93,
     "metadata": {},
     "output_type": "execute_result"
    }
   ],
   "source": [
    "logistic_regression_model.fit(X_train, y_train)"
   ]
  },
  {
   "attachments": {},
   "cell_type": "markdown",
   "metadata": {},
   "source": [
    "# Predict on test set"
   ]
  },
  {
   "cell_type": "code",
   "execution_count": 94,
   "metadata": {},
   "outputs": [],
   "source": [
    "predictions_logistic_regression_train = logistic_regression_model.predict(X_train)\n",
    "predictions_logistic_regression_test = logistic_regression_model.predict(X_test)"
   ]
  },
  {
   "cell_type": "code",
   "execution_count": 95,
   "metadata": {},
   "outputs": [],
   "source": [
    "train_results_logistic_regression = pd.DataFrame(\n",
    "    {\"Actual\": y_train, \"Predicted\": predictions_logistic_regression_train}\n",
    ")\n",
    "test_results_logistic_regression = pd.DataFrame(\n",
    "    {\"Actual\": y_test, \"Predicted\": predictions_logistic_regression_test}\n",
    ")\n"
   ]
  },
  {
   "attachments": {},
   "cell_type": "markdown",
   "metadata": {},
   "source": [
    "# Results"
   ]
  },
  {
   "cell_type": "code",
   "execution_count": 96,
   "metadata": {},
   "outputs": [],
   "source": [
    "from sklearn.metrics import confusion_matrix\n",
    "from sklearn.metrics import ConfusionMatrixDisplay"
   ]
  },
  {
   "cell_type": "code",
   "execution_count": 97,
   "metadata": {},
   "outputs": [
    {
     "data": {
      "text/plain": [
       "<sklearn.metrics._plot.confusion_matrix.ConfusionMatrixDisplay at 0x2c652f78d90>"
      ]
     },
     "execution_count": 97,
     "metadata": {},
     "output_type": "execute_result"
    },
    {
     "data": {
      "image/png": "[encoded data removed]",
      "text/plain": [
       "<Figure size 640x480 with 2 Axes>"
      ]
     },
     "metadata": {},
     "output_type": "display_data"
    }
   ],
   "source": [
    "cm = confusion_matrix(y_test, predictions_logistic_regression_test)\n",
    "ConfusionMatrixDisplay(cm).plot()\n"
   ]
  },
  {
   "cell_type": "code",
   "execution_count": 98,
   "metadata": {},
   "outputs": [],
   "source": [
    "from sklearn.metrics import classification_report"
   ]
  },
  {
   "cell_type": "code",
   "execution_count": 99,
   "metadata": {},
   "outputs": [
    {
     "name": "stdout",
     "output_type": "stream",
     "text": [
      "Classification Report for Logistic Regression Model (Train)\n",
      "              precision    recall  f1-score   support\n",
      "\n",
      "           0       0.71      1.00      0.83     10232\n",
      "           1       0.00      0.00      0.00      4210\n",
      "\n",
      "    accuracy                           0.71     14442\n",
      "   macro avg       0.35      0.50      0.41     14442\n",
      "weighted avg       0.50      0.71      0.59     14442\n",
      "\n",
      "Classification Report for Logistic Regression Model (Test)\n",
      "              precision    recall  f1-score   support\n",
      "\n",
      "           0       0.71      1.00      0.83      4382\n",
      "           1       0.00      0.00      0.00      1808\n",
      "\n",
      "    accuracy                           0.71      6190\n",
      "   macro avg       0.35      0.50      0.41      6190\n",
      "weighted avg       0.50      0.71      0.59      6190\n",
      "\n"
     ]
    }
   ],
   "source": [
    "print(\"Classification Report for Logistic Regression Model (Train)\")\n",
    "print(classification_report(y_train, predictions_logistic_regression_train))\n",
    "print(\"Classification Report for Logistic Regression Model (Test)\")\n",
    "print(classification_report(y_test, predictions_logistic_regression_test))"
   ]
  },
  {
   "cell_type": "code",
   "execution_count": 100,
   "metadata": {},
   "outputs": [],
   "source": [
    "# ROC curve\n",
    "from sklearn.metrics import roc_curve, roc_auc_score\n",
    "predictions_proba = logistic_regression_model.predict_proba(X_test)\n",
    "roc_auc = roc_auc_score(y_test, predictions_logistic_regression_test)\n",
    "fpr, tpr, thresholds = roc_curve(y_test, predictions_proba[:, 1])"
   ]
  },
  {
   "cell_type": "code",
   "execution_count": 101,
   "metadata": {},
   "outputs": [
    {
     "data": {
      "application/vnd.plotly.v1+json": {
       "config": {
        "plotlyServerURL": "https://plot.ly"
       },
       "data": [
        {
         "hovertemplate": "fpr: %{x:.2f}<br>tpr: %{y:.2f}<br>threshold: %{text:.2f}",
         "line": {
          "color": "darkorange",
          "width": 2
         },
         "mode": "lines",
         "name": "ROC curve (area = 0.50)",
         "text": [
          1.475529403251673,
          0.4755294032516731,
          0.46267654770631317,
          0.4434951263809133,
          0.43713572140034973,
          0.430796915029804,
          0.4244807071544775,
          0.41818906843631887,
          0.4119239379449789,
          0.40568722087396,
          0.3994807863473442,
          0.3933064653220715,
          0.38716604859031534,
          0.38106128488606367,
          0.37499387909955967,
          0.369453527029222,
          0.36896549060279765,
          0.3629777316888022,
          0.35703216612695243,
          0.3511303078361404,
          0.34527361967709136,
          0.33946351236470884,
          0.33370134350085773,
          0.3279884167275543,
          0.32232598100010246,
          0.3167152299793014,
          0.311157301541449,
          0.3056532774044855,
          0.30020418286826184,
          0.1554442977180194,
          0.1520865329219089,
          0.14878852135613266,
          0.1455497510281356,
          0.14236968943443154,
          0.13924778481696873,
          0.1361834673962598,
          0.13317615057981647,
          0.13022523214457674,
          0.12733009539215887,
          0.12449011027591317,
          0.12170463449887889,
          0.1189730145818812,
          0.11629458690112694,
          0.11366867869477472,
          0.11109460903806785,
          0.10857168978672325,
          0.10609922648837034,
          0.10367651926192817,
          0.09897755140861923,
          0.09198590461622327,
          0.0877649127962985,
          0.08572071106931632,
          0.0837197527942691,
          0.08176132546413761,
          0.07984471881806617,
          0.0779692253500679,
          0.076134140790372,
          0.0743387645600667,
          0.07258240019971102,
          0.07086435577260729,
          0.0691839442434387,
          0.06754048383298883,
          0.06593329834966745,
          0.06436171749857238,
          0.06282507716882144,
          0.061322719699888166,
          0.059853994127675024,
          0.05841825641105384,
          0.05701486963959893,
          0.05564320422323209,
          0.052992556714115804
         ],
         "type": "scatter",
         "x": [
          0,
          0.00022820629849383843,
          0.00045641259698767686,
          0.0011410314924691922,
          0.0013692377909630307,
          0.002053856686444546,
          0.005705157462345961,
          0.00867183934276586,
          0.01437699680511182,
          0.023733455043359195,
          0.044500228206298495,
          0.0771337288909174,
          0.13441350981287084,
          0.2190780465540849,
          0.3073938840712004,
          0.30785029666818803,
          0.39639434048379735,
          0.468963943404838,
          0.5166590597900502,
          0.5490643541761753,
          0.5684618895481516,
          0.589000456412597,
          0.6038338658146964,
          0.611592879963487,
          0.6195801004107714,
          0.624372432679142,
          0.6273391145595618,
          0.6282519397535372,
          0.6303057964399817,
          0.6309904153354633,
          0.6316750342309447,
          0.6332724783204017,
          0.6371519853947969,
          0.6435417617526243,
          0.6549520766773163,
          0.6706983112733912,
          0.6951163852122318,
          0.7179370150616157,
          0.7380191693290735,
          0.7537654039251483,
          0.7624372432679142,
          0.7692834322227293,
          0.7740757644910999,
          0.7800091282519398,
          0.7841168416248289,
          0.786855317206755,
          0.7870835235052488,
          0.7877681424007302,
          0.7886809675947056,
          0.7891373801916933,
          0.7905066179826563,
          0.7905066179826563,
          0.7921040620721131,
          0.7946143313555454,
          0.7987220447284346,
          0.8067092651757188,
          0.8235965312642629,
          0.844591510725696,
          0.875627567320858,
          0.9041533546325878,
          0.9287996348699225,
          0.9525330899132816,
          0.9691921497033318,
          0.9755819260611592,
          0.9833409402099498,
          0.9890460976722958,
          0.9922409858512095,
          0.9952076677316294,
          0.9984025559105432,
          0.9997717937015062,
          1
         ],
         "y": [
          0,
          0,
          0,
          0.0005530973451327434,
          0.0011061946902654867,
          0.00331858407079646,
          0.0055309734513274336,
          0.008849557522123894,
          0.015486725663716814,
          0.03484513274336283,
          0.06305309734513274,
          0.11283185840707964,
          0.19966814159292035,
          0.32798672566371684,
          0.4872787610619469,
          0.4872787610619469,
          0.610066371681416,
          0.7096238938053098,
          0.7765486725663717,
          0.8163716814159292,
          0.8434734513274337,
          0.8667035398230089,
          0.8832964601769911,
          0.9004424778761062,
          0.9081858407079646,
          0.9103982300884956,
          0.911504424778761,
          0.911504424778761,
          0.911504424778761,
          0.911504424778761,
          0.9120575221238938,
          0.9126106194690266,
          0.9153761061946902,
          0.9170353982300885,
          0.9214601769911505,
          0.9275442477876106,
          0.9375,
          0.9452433628318584,
          0.9502212389380531,
          0.9551991150442478,
          0.9596238938053098,
          0.9612831858407079,
          0.9640486725663717,
          0.9662610619469026,
          0.9668141592920354,
          0.9673672566371682,
          0.9673672566371682,
          0.9673672566371682,
          0.9673672566371682,
          0.9673672566371682,
          0.9673672566371682,
          0.9679203539823009,
          0.9679203539823009,
          0.9690265486725663,
          0.9695796460176991,
          0.9712389380530974,
          0.9751106194690266,
          0.9773230088495575,
          0.9823008849557522,
          0.9883849557522124,
          0.9928097345132744,
          0.995575221238938,
          0.9972345132743363,
          0.9983407079646017,
          0.9988938053097345,
          0.9988938053097345,
          0.9994469026548672,
          0.9994469026548672,
          0.9994469026548672,
          1,
          1
         ]
        },
        {
         "line": {
          "color": "navy",
          "dash": "dash",
          "width": 2
         },
         "mode": "lines",
         "name": "Random guess",
         "type": "scatter",
         "x": [
          0,
          1
         ],
         "y": [
          0,
          1
         ]
        }
       ],
       "layout": {
        "template": {
         "data": {
          "bar": [
           {
            "error_x": {
             "color": "#2a3f5f"
            },
            "error_y": {
             "color": "#2a3f5f"
            },
            "marker": {
             "line": {
              "color": "#E5ECF6",
              "width": 0.5
             },
             "pattern": {
              "fillmode": "overlay",
              "size": 10,
              "solidity": 0.2
             }
            },
            "type": "bar"
           }
          ],
          "barpolar": [
           {
            "marker": {
             "line": {
              "color": "#E5ECF6",
              "width": 0.5
             },
             "pattern": {
              "fillmode": "overlay",
              "size": 10,
              "solidity": 0.2
             }
            },
            "type": "barpolar"
           }
          ],
          "carpet": [
           {
            "aaxis": {
             "endlinecolor": "#2a3f5f",
             "gridcolor": "white",
             "linecolor": "white",
             "minorgridcolor": "white",
             "startlinecolor": "#2a3f5f"
            },
            "baxis": {
             "endlinecolor": "#2a3f5f",
             "gridcolor": "white",
             "linecolor": "white",
             "minorgridcolor": "white",
             "startlinecolor": "#2a3f5f"
            },
            "type": "carpet"
           }
          ],
          "choropleth": [
           {
            "colorbar": {
             "outlinewidth": 0,
             "ticks": ""
            },
            "type": "choropleth"
           }
          ],
          "contour": [
           {
            "colorbar": {
             "outlinewidth": 0,
             "ticks": ""
            },
            "colorscale": [
             [
              0,
              "#0d0887"
             ],
             [
              0.1111111111111111,
              "#46039f"
             ],
             [
              0.2222222222222222,
              "#7201a8"
             ],
             [
              0.3333333333333333,
              "#9c179e"
             ],
             [
              0.4444444444444444,
              "#bd3786"
             ],
             [
              0.5555555555555556,
              "#d8576b"
             ],
             [
              0.6666666666666666,
              "#ed7953"
             ],
             [
              0.7777777777777778,
              "#fb9f3a"
             ],
             [
              0.8888888888888888,
              "#fdca26"
             ],
             [
              1,
              "#f0f921"
             ]
            ],
            "type": "contour"
           }
          ],
          "contourcarpet": [
           {
            "colorbar": {
             "outlinewidth": 0,
             "ticks": ""
            },
            "type": "contourcarpet"
           }
          ],
          "heatmap": [
           {
            "colorbar": {
             "outlinewidth": 0,
             "ticks": ""
            },
            "colorscale": [
             [
              0,
              "#0d0887"
             ],
             [
              0.1111111111111111,
              "#46039f"
             ],
             [
              0.2222222222222222,
              "#7201a8"
             ],
             [
              0.3333333333333333,
              "#9c179e"
             ],
             [
              0.4444444444444444,
              "#bd3786"
             ],
             [
              0.5555555555555556,
              "#d8576b"
             ],
             [
              0.6666666666666666,
              "#ed7953"
             ],
             [
              0.7777777777777778,
              "#fb9f3a"
             ],
             [
              0.8888888888888888,
              "#fdca26"
             ],
             [
              1,
              "#f0f921"
             ]
            ],
            "type": "heatmap"
           }
          ],
          "heatmapgl": [
           {
            "colorbar": {
             "outlinewidth": 0,
             "ticks": ""
            },
            "colorscale": [
             [
              0,
              "#0d0887"
             ],
             [
              0.1111111111111111,
              "#46039f"
             ],
             [
              0.2222222222222222,
              "#7201a8"
             ],
             [
              0.3333333333333333,
              "#9c179e"
             ],
             [
              0.4444444444444444,
              "#bd3786"
             ],
             [
              0.5555555555555556,
              "#d8576b"
             ],
             [
              0.6666666666666666,
              "#ed7953"
             ],
             [
              0.7777777777777778,
              "#fb9f3a"
             ],
             [
              0.8888888888888888,
              "#fdca26"
             ],
             [
              1,
              "#f0f921"
             ]
            ],
            "type": "heatmapgl"
           }
          ],
          "histogram": [
           {
            "marker": {
             "pattern": {
              "fillmode": "overlay",
              "size": 10,
              "solidity": 0.2
             }
            },
            "type": "histogram"
           }
          ],
          "histogram2d": [
           {
            "colorbar": {
             "outlinewidth": 0,
             "ticks": ""
            },
            "colorscale": [
             [
              0,
              "#0d0887"
             ],
             [
              0.1111111111111111,
              "#46039f"
             ],
             [
              0.2222222222222222,
              "#7201a8"
             ],
             [
              0.3333333333333333,
              "#9c179e"
             ],
             [
              0.4444444444444444,
              "#bd3786"
             ],
             [
              0.5555555555555556,
              "#d8576b"
             ],
             [
              0.6666666666666666,
              "#ed7953"
             ],
             [
              0.7777777777777778,
              "#fb9f3a"
             ],
             [
              0.8888888888888888,
              "#fdca26"
             ],
             [
              1,
              "#f0f921"
             ]
            ],
            "type": "histogram2d"
           }
          ],
          "histogram2dcontour": [
           {
            "colorbar": {
             "outlinewidth": 0,
             "ticks": ""
            },
            "colorscale": [
             [
              0,
              "#0d0887"
             ],
             [
              0.1111111111111111,
              "#46039f"
             ],
             [
              0.2222222222222222,
              "#7201a8"
             ],
             [
              0.3333333333333333,
              "#9c179e"
             ],
             [
              0.4444444444444444,
              "#bd3786"
             ],
             [
              0.5555555555555556,
              "#d8576b"
             ],
             [
              0.6666666666666666,
              "#ed7953"
             ],
             [
              0.7777777777777778,
              "#fb9f3a"
             ],
             [
              0.8888888888888888,
              "#fdca26"
             ],
             [
              1,
              "#f0f921"
             ]
            ],
            "type": "histogram2dcontour"
           }
          ],
          "mesh3d": [
           {
            "colorbar": {
             "outlinewidth": 0,
             "ticks": ""
            },
            "type": "mesh3d"
           }
          ],
          "parcoords": [
           {
            "line": {
             "colorbar": {
              "outlinewidth": 0,
              "ticks": ""
             }
            },
            "type": "parcoords"
           }
          ],
          "pie": [
           {
            "automargin": true,
            "type": "pie"
           }
          ],
          "scatter": [
           {
            "fillpattern": {
             "fillmode": "overlay",
             "size": 10,
             "solidity": 0.2
            },
            "type": "scatter"
           }
          ],
          "scatter3d": [
           {
            "line": {
             "colorbar": {
              "outlinewidth": 0,
              "ticks": ""
             }
            },
            "marker": {
             "colorbar": {
              "outlinewidth": 0,
              "ticks": ""
             }
            },
            "type": "scatter3d"
           }
          ],
          "scattercarpet": [
           {
            "marker": {
             "colorbar": {
              "outlinewidth": 0,
              "ticks": ""
             }
            },
            "type": "scattercarpet"
           }
          ],
          "scattergeo": [
           {
            "marker": {
             "colorbar": {
              "outlinewidth": 0,
              "ticks": ""
             }
            },
            "type": "scattergeo"
           }
          ],
          "scattergl": [
           {
            "marker": {
             "colorbar": {
              "outlinewidth": 0,
              "ticks": ""
             }
            },
            "type": "scattergl"
           }
          ],
          "scattermapbox": [
           {
            "marker": {
             "colorbar": {
              "outlinewidth": 0,
              "ticks": ""
             }
            },
            "type": "scattermapbox"
           }
          ],
          "scatterpolar": [
           {
            "marker": {
             "colorbar": {
              "outlinewidth": 0,
              "ticks": ""
             }
            },
            "type": "scatterpolar"
           }
          ],
          "scatterpolargl": [
           {
            "marker": {
             "colorbar": {
              "outlinewidth": 0,
              "ticks": ""
             }
            },
            "type": "scatterpolargl"
           }
          ],
          "scatterternary": [
           {
            "marker": {
             "colorbar": {
              "outlinewidth": 0,
              "ticks": ""
             }
            },
            "type": "scatterternary"
           }
          ],
          "surface": [
           {
            "colorbar": {
             "outlinewidth": 0,
             "ticks": ""
            },
            "colorscale": [
             [
              0,
              "#0d0887"
             ],
             [
              0.1111111111111111,
              "#46039f"
             ],
             [
              0.2222222222222222,
              "#7201a8"
             ],
             [
              0.3333333333333333,
              "#9c179e"
             ],
             [
              0.4444444444444444,
              "#bd3786"
             ],
             [
              0.5555555555555556,
              "#d8576b"
             ],
             [
              0.6666666666666666,
              "#ed7953"
             ],
             [
              0.7777777777777778,
              "#fb9f3a"
             ],
             [
              0.8888888888888888,
              "#fdca26"
             ],
             [
              1,
              "#f0f921"
             ]
            ],
            "type": "surface"
           }
          ],
          "table": [
           {
            "cells": {
             "fill": {
              "color": "#EBF0F8"
             },
             "line": {
              "color": "white"
             }
            },
            "header": {
             "fill": {
              "color": "#C8D4E3"
             },
             "line": {
              "color": "white"
             }
            },
            "type": "table"
           }
          ]
         },
         "layout": {
          "annotationdefaults": {
           "arrowcolor": "#2a3f5f",
           "arrowhead": 0,
           "arrowwidth": 1
          },
          "autotypenumbers": "strict",
          "coloraxis": {
           "colorbar": {
            "outlinewidth": 0,
            "ticks": ""
           }
          },
          "colorscale": {
           "diverging": [
            [
             0,
             "#8e0152"
            ],
            [
             0.1,
             "#c51b7d"
            ],
            [
             0.2,
             "#de77ae"
            ],
            [
             0.3,
             "#f1b6da"
            ],
            [
             0.4,
             "#fde0ef"
            ],
            [
             0.5,
             "#f7f7f7"
            ],
            [
             0.6,
             "#e6f5d0"
            ],
            [
             0.7,
             "#b8e186"
            ],
            [
             0.8,
             "#7fbc41"
            ],
            [
             0.9,
             "#4d9221"
            ],
            [
             1,
             "#276419"
            ]
           ],
           "sequential": [
            [
             0,
             "#0d0887"
            ],
            [
             0.1111111111111111,
             "#46039f"
            ],
            [
             0.2222222222222222,
             "#7201a8"
            ],
            [
             0.3333333333333333,
             "#9c179e"
            ],
            [
             0.4444444444444444,
             "#bd3786"
            ],
            [
             0.5555555555555556,
             "#d8576b"
            ],
            [
             0.6666666666666666,
             "#ed7953"
            ],
            [
             0.7777777777777778,
             "#fb9f3a"
            ],
            [
             0.8888888888888888,
             "#fdca26"
            ],
            [
             1,
             "#f0f921"
            ]
           ],
           "sequentialminus": [
            [
             0,
             "#0d0887"
            ],
            [
             0.1111111111111111,
             "#46039f"
            ],
            [
             0.2222222222222222,
             "#7201a8"
            ],
            [
             0.3333333333333333,
             "#9c179e"
            ],
            [
             0.4444444444444444,
             "#bd3786"
            ],
            [
             0.5555555555555556,
             "#d8576b"
            ],
            [
             0.6666666666666666,
             "#ed7953"
            ],
            [
             0.7777777777777778,
             "#fb9f3a"
            ],
            [
             0.8888888888888888,
             "#fdca26"
            ],
            [
             1,
             "#f0f921"
            ]
           ]
          },
          "colorway": [
           "#636efa",
           "#EF553B",
           "#00cc96",
           "#ab63fa",
           "#FFA15A",
           "#19d3f3",
           "#FF6692",
           "#B6E880",
           "#FF97FF",
           "#FECB52"
          ],
          "font": {
           "color": "#2a3f5f"
          },
          "geo": {
           "bgcolor": "white",
           "lakecolor": "white",
           "landcolor": "#E5ECF6",
           "showlakes": true,
           "showland": true,
           "subunitcolor": "white"
          },
          "hoverlabel": {
           "align": "left"
          },
          "hovermode": "closest",
          "mapbox": {
           "style": "light"
          },
          "paper_bgcolor": "white",
          "plot_bgcolor": "#E5ECF6",
          "polar": {
           "angularaxis": {
            "gridcolor": "white",
            "linecolor": "white",
            "ticks": ""
           },
           "bgcolor": "#E5ECF6",
           "radialaxis": {
            "gridcolor": "white",
            "linecolor": "white",
            "ticks": ""
           }
          },
          "scene": {
           "xaxis": {
            "backgroundcolor": "#E5ECF6",
            "gridcolor": "white",
            "gridwidth": 2,
            "linecolor": "white",
            "showbackground": true,
            "ticks": "",
            "zerolinecolor": "white"
           },
           "yaxis": {
            "backgroundcolor": "#E5ECF6",
            "gridcolor": "white",
            "gridwidth": 2,
            "linecolor": "white",
            "showbackground": true,
            "ticks": "",
            "zerolinecolor": "white"
           },
           "zaxis": {
            "backgroundcolor": "#E5ECF6",
            "gridcolor": "white",
            "gridwidth": 2,
            "linecolor": "white",
            "showbackground": true,
            "ticks": "",
            "zerolinecolor": "white"
           }
          },
          "shapedefaults": {
           "line": {
            "color": "#2a3f5f"
           }
          },
          "ternary": {
           "aaxis": {
            "gridcolor": "white",
            "linecolor": "white",
            "ticks": ""
           },
           "baxis": {
            "gridcolor": "white",
            "linecolor": "white",
            "ticks": ""
           },
           "bgcolor": "#E5ECF6",
           "caxis": {
            "gridcolor": "white",
            "linecolor": "white",
            "ticks": ""
           }
          },
          "title": {
           "x": 0.05
          },
          "xaxis": {
           "automargin": true,
           "gridcolor": "white",
           "linecolor": "white",
           "ticks": "",
           "title": {
            "standoff": 15
           },
           "zerolinecolor": "white",
           "zerolinewidth": 2
          },
          "yaxis": {
           "automargin": true,
           "gridcolor": "white",
           "linecolor": "white",
           "ticks": "",
           "title": {
            "standoff": 15
           },
           "zerolinecolor": "white",
           "zerolinewidth": 2
          }
         }
        },
        "title": {
         "text": "Receiver Operating Characteristic"
        },
        "xaxis": {
         "title": {
          "text": "False Positive Rate"
         }
        },
        "yaxis": {
         "title": {
          "text": "True Positive Rate"
         }
        }
       }
      }
     },
     "metadata": {},
     "output_type": "display_data"
    }
   ],
   "source": [
    "import plotly.graph_objects as go\n",
    "\n",
    "fig = go.Figure()\n",
    "fig.add_trace(\n",
    "    go.Scatter(\n",
    "        x=fpr,\n",
    "        y=tpr,\n",
    "        mode=\"lines\",\n",
    "        name=\"ROC curve (area = %0.2f)\" % roc_auc,\n",
    "        line=dict(color=\"darkorange\", width=2),\n",
    "        text=thresholds,\n",
    "        hovertemplate=\"fpr: %{x:.2f}<br>tpr: %{y:.2f}<br>threshold: %{text:.2f}\",\n",
    "    )\n",
    ")\n",
    "fig.add_trace(\n",
    "    go.Scatter(\n",
    "        x=[0, 1],\n",
    "        y=[0, 1],\n",
    "        mode=\"lines\",\n",
    "        name=\"Random guess\",\n",
    "        line=dict(color=\"navy\", width=2, dash=\"dash\"),\n",
    "    )\n",
    ")\n",
    "fig.update_layout(\n",
    "    title=\"Receiver Operating Characteristic\",\n",
    "    xaxis_title=\"False Positive Rate\",\n",
    "    yaxis_title=\"True Positive Rate\",\n",
    ")\n",
    "fig.show()"
   ]
  },
  {
   "cell_type": "code",
   "execution_count": 102,
   "metadata": {},
   "outputs": [],
   "source": [
    "predictions_logistic_regression_threshold = [\n",
    "    1 if x > 0.37 else 0 for x in predictions_proba[:, 1]\n",
    "]\n",
    "test_results_logistic_regression_threshold = pd.DataFrame(\n",
    "    {\"Actual\": y_test, \"Predicted\": predictions_logistic_regression_threshold}\n",
    ")"
   ]
  },
  {
   "cell_type": "code",
   "execution_count": 103,
   "metadata": {},
   "outputs": [
    {
     "data": {
      "text/plain": [
       "<sklearn.metrics._plot.confusion_matrix.ConfusionMatrixDisplay at 0x2c64e44f250>"
      ]
     },
     "execution_count": 103,
     "metadata": {},
     "output_type": "execute_result"
    },
    {
     "data": {
      "image/png": "[encoded data removed]",
      "text/plain": [
       "<Figure size 640x480 with 2 Axes>"
      ]
     },
     "metadata": {},
     "output_type": "display_data"
    }
   ],
   "source": [
    "cm = confusion_matrix(y_test, predictions_logistic_regression_threshold)\n",
    "ConfusionMatrixDisplay(cm).plot()"
   ]
  },
  {
   "cell_type": "code",
   "execution_count": 104,
   "metadata": {},
   "outputs": [
    {
     "name": "stdout",
     "output_type": "stream",
     "text": [
      "              precision    recall  f1-score   support\n",
      "\n",
      "           0       0.77      0.69      0.73      4382\n",
      "           1       0.40      0.49      0.44      1808\n",
      "\n",
      "    accuracy                           0.63      6190\n",
      "   macro avg       0.58      0.59      0.58      6190\n",
      "weighted avg       0.66      0.63      0.64      6190\n",
      "\n"
     ]
    }
   ],
   "source": [
    "print(classification_report(y_test, predictions_logistic_regression_threshold))"
   ]
  },
  {
   "attachments": {},
   "cell_type": "markdown",
   "metadata": {},
   "source": [
    "# KNN"
   ]
  },
  {
   "cell_type": "code",
   "execution_count": 105,
   "metadata": {},
   "outputs": [],
   "source": [
    "from sklearn.neighbors import KNeighborsClassifier"
   ]
  },
  {
   "cell_type": "code",
   "execution_count": 119,
   "metadata": {},
   "outputs": [],
   "source": [
    "knn_model = KNeighborsClassifier(n_neighbors=9)"
   ]
  },
  {
   "cell_type": "code",
   "execution_count": 120,
   "metadata": {},
   "outputs": [
    {
     "data": {
      "text/html": [
       "<style>#sk-container-id-7 {color: black;background-color: white;}#sk-container-id-7 pre{padding: 0;}#sk-container-id-7 div.sk-toggleable {background-color: white;}#sk-container-id-7 label.sk-toggleable__label {cursor: pointer;display: block;width: 100%;margin-bottom: 0;padding: 0.3em;box-sizing: border-box;text-align: center;}#sk-container-id-7 label.sk-toggleable__label-arrow:before {content: \"▸\";float: left;margin-right: 0.25em;color: #696969;}#sk-container-id-7 label.sk-toggleable__label-arrow:hover:before {color: black;}#sk-container-id-7 div.sk-estimator:hover label.sk-toggleable__label-arrow:before {color: black;}#sk-container-id-7 div.sk-toggleable__content {max-height: 0;max-width: 0;overflow: hidden;text-align: left;background-color: #f0f8ff;}#sk-container-id-7 div.sk-toggleable__content pre {margin: 0.2em;color: black;border-radius: 0.25em;background-color: #f0f8ff;}#sk-container-id-7 input.sk-toggleable__control:checked~div.sk-toggleable__content {max-height: 200px;max-width: 100%;overflow: auto;}#sk-container-id-7 input.sk-toggleable__control:checked~label.sk-toggleable__label-arrow:before {content: \"▾\";}#sk-container-id-7 div.sk-estimator input.sk-toggleable__control:checked~label.sk-toggleable__label {background-color: #d4ebff;}#sk-container-id-7 div.sk-label input.sk-toggleable__control:checked~label.sk-toggleable__label {background-color: #d4ebff;}#sk-container-id-7 input.sk-hidden--visually {border: 0;clip: rect(1px 1px 1px 1px);clip: rect(1px, 1px, 1px, 1px);height: 1px;margin: -1px;overflow: hidden;padding: 0;position: absolute;width: 1px;}#sk-container-id-7 div.sk-estimator {font-family: monospace;background-color: #f0f8ff;border: 1px dotted black;border-radius: 0.25em;box-sizing: border-box;margin-bottom: 0.5em;}#sk-container-id-7 div.sk-estimator:hover {background-color: #d4ebff;}#sk-container-id-7 div.sk-parallel-item::after {content: \"\";width: 100%;border-bottom: 1px solid gray;flex-grow: 1;}#sk-container-id-7 div.sk-label:hover label.sk-toggleable__label {background-color: #d4ebff;}#sk-container-id-7 div.sk-serial::before {content: \"\";position: absolute;border-left: 1px solid gray;box-sizing: border-box;top: 0;bottom: 0;left: 50%;z-index: 0;}#sk-container-id-7 div.sk-serial {display: flex;flex-direction: column;align-items: center;background-color: white;padding-right: 0.2em;padding-left: 0.2em;position: relative;}#sk-container-id-7 div.sk-item {position: relative;z-index: 1;}#sk-container-id-7 div.sk-parallel {display: flex;align-items: stretch;justify-content: center;background-color: white;position: relative;}#sk-container-id-7 div.sk-item::before, #sk-container-id-7 div.sk-parallel-item::before {content: \"\";position: absolute;border-left: 1px solid gray;box-sizing: border-box;top: 0;bottom: 0;left: 50%;z-index: -1;}#sk-container-id-7 div.sk-parallel-item {display: flex;flex-direction: column;z-index: 1;position: relative;background-color: white;}#sk-container-id-7 div.sk-parallel-item:first-child::after {align-self: flex-end;width: 50%;}#sk-container-id-7 div.sk-parallel-item:last-child::after {align-self: flex-start;width: 50%;}#sk-container-id-7 div.sk-parallel-item:only-child::after {width: 0;}#sk-container-id-7 div.sk-dashed-wrapped {border: 1px dashed gray;margin: 0 0.4em 0.5em 0.4em;box-sizing: border-box;padding-bottom: 0.4em;background-color: white;}#sk-container-id-7 div.sk-label label {font-family: monospace;font-weight: bold;display: inline-block;line-height: 1.2em;}#sk-container-id-7 div.sk-label-container {text-align: center;}#sk-container-id-7 div.sk-container {/* jupyter's `normalize.less` sets `[hidden] { display: none; }` but bootstrap.min.css set `[hidden] { display: none !important; }` so we also need the `!important` here to be able to override the default hidden behavior on the sphinx rendered scikit-learn.org. See: https://github.com/scikit-learn/scikit-learn/issues/21755 */display: inline-block !important;position: relative;}#sk-container-id-7 div.sk-text-repr-fallback {display: none;}</style><div id=\"sk-container-id-7\" class=\"sk-top-container\"><div class=\"sk-text-repr-fallback\"><pre>KNeighborsClassifier(n_neighbors=9)</pre><b>In a Jupyter environment, please rerun this cell to show the HTML representation or trust the notebook. <br />On GitHub, the HTML representation is unable to render, please try loading this page with nbviewer.org.</b></div><div class=\"sk-container\" hidden><div class=\"sk-item\"><div class=\"sk-estimator sk-toggleable\"><input class=\"sk-toggleable__control sk-hidden--visually\" id=\"sk-estimator-id-7\" type=\"checkbox\" checked><label for=\"sk-estimator-id-7\" class=\"sk-toggleable__label sk-toggleable__label-arrow\">KNeighborsClassifier</label><div class=\"sk-toggleable__content\"><pre>KNeighborsClassifier(n_neighbors=9)</pre></div></div></div></div></div>"
      ],
      "text/plain": [
       "KNeighborsClassifier(n_neighbors=9)"
      ]
     },
     "execution_count": 120,
     "metadata": {},
     "output_type": "execute_result"
    }
   ],
   "source": [
    "knn_model.fit(X_train, y_train)"
   ]
  },
  {
   "cell_type": "code",
   "execution_count": 121,
   "metadata": {},
   "outputs": [],
   "source": [
    "predictions_knn_train = knn_model.predict(X_train)\n",
    "predictions_knn_test = knn_model.predict(X_test)"
   ]
  },
  {
   "cell_type": "code",
   "execution_count": 122,
   "metadata": {},
   "outputs": [],
   "source": [
    "train_results_knn = pd.DataFrame(\n",
    "    {\"Actual\": y_train, \"Predicted\": predictions_knn_train}\n",
    ")\n",
    "test_results_knn = pd.DataFrame({\"Actual\": y_test, \"Predicted\": predictions_knn_test})\n"
   ]
  },
  {
   "cell_type": "code",
   "execution_count": 123,
   "metadata": {},
   "outputs": [
    {
     "data": {
      "text/plain": [
       "<sklearn.metrics._plot.confusion_matrix.ConfusionMatrixDisplay at 0x2c652bdaa10>"
      ]
     },
     "execution_count": 123,
     "metadata": {},
     "output_type": "execute_result"
    },
    {
     "data": {
      "image/png": "[encoded data removed]",
      "text/plain": [
       "<Figure size 640x480 with 2 Axes>"
      ]
     },
     "metadata": {},
     "output_type": "display_data"
    }
   ],
   "source": [
    "cm = confusion_matrix(y_test, predictions_knn_test)\n",
    "ConfusionMatrixDisplay(cm).plot()"
   ]
  },
  {
   "cell_type": "code",
   "execution_count": 111,
   "metadata": {},
   "outputs": [
    {
     "name": "stdout",
     "output_type": "stream",
     "text": [
      "Classification Report for KNN Model (Train)\n",
      "              precision    recall  f1-score   support\n",
      "\n",
      "           0       0.71      0.96      0.82     10232\n",
      "           1       0.40      0.06      0.11      4210\n",
      "\n",
      "    accuracy                           0.70     14442\n",
      "   macro avg       0.56      0.51      0.46     14442\n",
      "weighted avg       0.62      0.70      0.61     14442\n",
      "\n",
      "Classification Report for KNN Model (Test)\n",
      "              precision    recall  f1-score   support\n",
      "\n",
      "           0       0.71      0.97      0.82      4382\n",
      "           1       0.39      0.05      0.09      1808\n",
      "\n",
      "    accuracy                           0.70      6190\n",
      "   macro avg       0.55      0.51      0.45      6190\n",
      "weighted avg       0.62      0.70      0.61      6190\n",
      "\n"
     ]
    }
   ],
   "source": [
    "print(\"Classification Report for KNN Model (Train)\")\n",
    "print(classification_report(y_train, predictions_knn_train))\n",
    "print(\"Classification Report for KNN Model (Test)\")\n",
    "print(classification_report(y_test, predictions_knn_test))"
   ]
  },
  {
   "cell_type": "code",
   "execution_count": 112,
   "metadata": {},
   "outputs": [],
   "source": [
    "l = []\n",
    "for i in range(1, 201, 2):\n",
    "    knni = KNeighborsClassifier(n_neighbors=i)\n",
    "    knni.fit(X_train, y_train)\n",
    "    predictions_knni_test = knni.predict(X_test)\n",
    "    l.append((i, knni.score(X_test, y_test)))"
   ]
  },
  {
   "cell_type": "code",
   "execution_count": 113,
   "metadata": {},
   "outputs": [
    {
     "data": {
      "application/vnd.plotly.v1+json": {
       "config": {
        "plotlyServerURL": "https://plot.ly"
       },
       "data": [
        {
         "marker": {
          "color": "rgb(171, 226, 251)"
         },
         "mode": "lines+markers",
         "type": "scatter",
         "x": [
          1,
          3,
          5,
          7,
          9,
          11,
          13,
          15,
          17,
          19,
          21,
          23,
          25,
          27,
          29,
          31,
          33,
          35,
          37,
          39,
          41,
          43,
          45,
          47,
          49,
          51,
          53,
          55,
          57,
          59,
          61,
          63,
          65,
          67,
          69,
          71,
          73,
          75,
          77,
          79,
          81,
          83,
          85,
          87,
          89,
          91,
          93,
          95,
          97,
          99,
          101,
          103,
          105,
          107,
          109,
          111,
          113,
          115,
          117,
          119,
          121,
          123,
          125,
          127,
          129,
          131,
          133,
          135,
          137,
          139,
          141,
          143,
          145,
          147,
          149,
          151,
          153,
          155,
          157,
          159,
          161,
          163,
          165,
          167,
          169,
          171,
          173,
          175,
          177,
          179,
          181,
          183,
          185,
          187,
          189,
          191,
          193,
          195,
          197,
          199
         ],
         "y": [
          0.5949919224555735,
          0.6546042003231017,
          0.6725363489499192,
          0.6927302100161551,
          0.6993537964458805,
          0.6993537964458805,
          0.6759289176090468,
          0.6444264943457189,
          0.6652665589660743,
          0.6652665589660743,
          0.6655896607431341,
          0.6655896607431341,
          0.6702746365105008,
          0.6712439418416801,
          0.6993537964458805,
          0.6993537964458805,
          0.6993537964458805,
          0.6993537964458805,
          0.6993537964458805,
          0.6993537964458805,
          0.7079159935379644,
          0.7079159935379644,
          0.7079159935379644,
          0.7079159935379644,
          0.7079159935379644,
          0.7079159935379644,
          0.6993537964458805,
          0.7079159935379644,
          0.7079159935379644,
          0.7079159935379644,
          0.7079159935379644,
          0.7079159935379644,
          0.7079159935379644,
          0.7079159935379644,
          0.7079159935379644,
          0.7079159935379644,
          0.7079159935379644,
          0.7079159935379644,
          0.7079159935379644,
          0.7079159935379644,
          0.7079159935379644,
          0.7079159935379644,
          0.7079159935379644,
          0.7079159935379644,
          0.7079159935379644,
          0.7079159935379644,
          0.7079159935379644,
          0.7079159935379644,
          0.7079159935379644,
          0.7079159935379644,
          0.7079159935379644,
          0.7079159935379644,
          0.7079159935379644,
          0.7079159935379644,
          0.7079159935379644,
          0.7079159935379644,
          0.7079159935379644,
          0.7079159935379644,
          0.7079159935379644,
          0.7079159935379644,
          0.7079159935379644,
          0.7079159935379644,
          0.7079159935379644,
          0.7079159935379644,
          0.7079159935379644,
          0.7079159935379644,
          0.7079159935379644,
          0.7079159935379644,
          0.7079159935379644,
          0.7079159935379644,
          0.7079159935379644,
          0.7079159935379644,
          0.7079159935379644,
          0.7079159935379644,
          0.7079159935379644,
          0.7079159935379644,
          0.7079159935379644,
          0.7079159935379644,
          0.7079159935379644,
          0.7079159935379644,
          0.7079159935379644,
          0.7079159935379644,
          0.7079159935379644,
          0.7079159935379644,
          0.7079159935379644,
          0.7079159935379644,
          0.7079159935379644,
          0.7079159935379644,
          0.7079159935379644,
          0.7079159935379644,
          0.7079159935379644,
          0.7079159935379644,
          0.7079159935379644,
          0.7079159935379644,
          0.7079159935379644,
          0.7079159935379644,
          0.7079159935379644,
          0.7079159935379644,
          0.7079159935379644,
          0.7079159935379644
         ]
        }
       ],
       "layout": {
        "height": 800,
        "template": {
         "data": {
          "bar": [
           {
            "error_x": {
             "color": "#2a3f5f"
            },
            "error_y": {
             "color": "#2a3f5f"
            },
            "marker": {
             "line": {
              "color": "#E5ECF6",
              "width": 0.5
             },
             "pattern": {
              "fillmode": "overlay",
              "size": 10,
              "solidity": 0.2
             }
            },
            "type": "bar"
           }
          ],
          "barpolar": [
           {
            "marker": {
             "line": {
              "color": "#E5ECF6",
              "width": 0.5
             },
             "pattern": {
              "fillmode": "overlay",
              "size": 10,
              "solidity": 0.2
             }
            },
            "type": "barpolar"
           }
          ],
          "carpet": [
           {
            "aaxis": {
             "endlinecolor": "#2a3f5f",
             "gridcolor": "white",
             "linecolor": "white",
             "minorgridcolor": "white",
             "startlinecolor": "#2a3f5f"
            },
            "baxis": {
             "endlinecolor": "#2a3f5f",
             "gridcolor": "white",
             "linecolor": "white",
             "minorgridcolor": "white",
             "startlinecolor": "#2a3f5f"
            },
            "type": "carpet"
           }
          ],
          "choropleth": [
           {
            "colorbar": {
             "outlinewidth": 0,
             "ticks": ""
            },
            "type": "choropleth"
           }
          ],
          "contour": [
           {
            "colorbar": {
             "outlinewidth": 0,
             "ticks": ""
            },
            "colorscale": [
             [
              0,
              "#0d0887"
             ],
             [
              0.1111111111111111,
              "#46039f"
             ],
             [
              0.2222222222222222,
              "#7201a8"
             ],
             [
              0.3333333333333333,
              "#9c179e"
             ],
             [
              0.4444444444444444,
              "#bd3786"
             ],
             [
              0.5555555555555556,
              "#d8576b"
             ],
             [
              0.6666666666666666,
              "#ed7953"
             ],
             [
              0.7777777777777778,
              "#fb9f3a"
             ],
             [
              0.8888888888888888,
              "#fdca26"
             ],
             [
              1,
              "#f0f921"
             ]
            ],
            "type": "contour"
           }
          ],
          "contourcarpet": [
           {
            "colorbar": {
             "outlinewidth": 0,
             "ticks": ""
            },
            "type": "contourcarpet"
           }
          ],
          "heatmap": [
           {
            "colorbar": {
             "outlinewidth": 0,
             "ticks": ""
            },
            "colorscale": [
             [
              0,
              "#0d0887"
             ],
             [
              0.1111111111111111,
              "#46039f"
             ],
             [
              0.2222222222222222,
              "#7201a8"
             ],
             [
              0.3333333333333333,
              "#9c179e"
             ],
             [
              0.4444444444444444,
              "#bd3786"
             ],
             [
              0.5555555555555556,
              "#d8576b"
             ],
             [
              0.6666666666666666,
              "#ed7953"
             ],
             [
              0.7777777777777778,
              "#fb9f3a"
             ],
             [
              0.8888888888888888,
              "#fdca26"
             ],
             [
              1,
              "#f0f921"
             ]
            ],
            "type": "heatmap"
           }
          ],
          "heatmapgl": [
           {
            "colorbar": {
             "outlinewidth": 0,
             "ticks": ""
            },
            "colorscale": [
             [
              0,
              "#0d0887"
             ],
             [
              0.1111111111111111,
              "#46039f"
             ],
             [
              0.2222222222222222,
              "#7201a8"
             ],
             [
              0.3333333333333333,
              "#9c179e"
             ],
             [
              0.4444444444444444,
              "#bd3786"
             ],
             [
              0.5555555555555556,
              "#d8576b"
             ],
             [
              0.6666666666666666,
              "#ed7953"
             ],
             [
              0.7777777777777778,
              "#fb9f3a"
             ],
             [
              0.8888888888888888,
              "#fdca26"
             ],
             [
              1,
              "#f0f921"
             ]
            ],
            "type": "heatmapgl"
           }
          ],
          "histogram": [
           {
            "marker": {
             "pattern": {
              "fillmode": "overlay",
              "size": 10,
              "solidity": 0.2
             }
            },
            "type": "histogram"
           }
          ],
          "histogram2d": [
           {
            "colorbar": {
             "outlinewidth": 0,
             "ticks": ""
            },
            "colorscale": [
             [
              0,
              "#0d0887"
             ],
             [
              0.1111111111111111,
              "#46039f"
             ],
             [
              0.2222222222222222,
              "#7201a8"
             ],
             [
              0.3333333333333333,
              "#9c179e"
             ],
             [
              0.4444444444444444,
              "#bd3786"
             ],
             [
              0.5555555555555556,
              "#d8576b"
             ],
             [
              0.6666666666666666,
              "#ed7953"
             ],
             [
              0.7777777777777778,
              "#fb9f3a"
             ],
             [
              0.8888888888888888,
              "#fdca26"
             ],
             [
              1,
              "#f0f921"
             ]
            ],
            "type": "histogram2d"
           }
          ],
          "histogram2dcontour": [
           {
            "colorbar": {
             "outlinewidth": 0,
             "ticks": ""
            },
            "colorscale": [
             [
              0,
              "#0d0887"
             ],
             [
              0.1111111111111111,
              "#46039f"
             ],
             [
              0.2222222222222222,
              "#7201a8"
             ],
             [
              0.3333333333333333,
              "#9c179e"
             ],
             [
              0.4444444444444444,
              "#bd3786"
             ],
             [
              0.5555555555555556,
              "#d8576b"
             ],
             [
              0.6666666666666666,
              "#ed7953"
             ],
             [
              0.7777777777777778,
              "#fb9f3a"
             ],
             [
              0.8888888888888888,
              "#fdca26"
             ],
             [
              1,
              "#f0f921"
             ]
            ],
            "type": "histogram2dcontour"
           }
          ],
          "mesh3d": [
           {
            "colorbar": {
             "outlinewidth": 0,
             "ticks": ""
            },
            "type": "mesh3d"
           }
          ],
          "parcoords": [
           {
            "line": {
             "colorbar": {
              "outlinewidth": 0,
              "ticks": ""
             }
            },
            "type": "parcoords"
           }
          ],
          "pie": [
           {
            "automargin": true,
            "type": "pie"
           }
          ],
          "scatter": [
           {
            "fillpattern": {
             "fillmode": "overlay",
             "size": 10,
             "solidity": 0.2
            },
            "type": "scatter"
           }
          ],
          "scatter3d": [
           {
            "line": {
             "colorbar": {
              "outlinewidth": 0,
              "ticks": ""
             }
            },
            "marker": {
             "colorbar": {
              "outlinewidth": 0,
              "ticks": ""
             }
            },
            "type": "scatter3d"
           }
          ],
          "scattercarpet": [
           {
            "marker": {
             "colorbar": {
              "outlinewidth": 0,
              "ticks": ""
             }
            },
            "type": "scattercarpet"
           }
          ],
          "scattergeo": [
           {
            "marker": {
             "colorbar": {
              "outlinewidth": 0,
              "ticks": ""
             }
            },
            "type": "scattergeo"
           }
          ],
          "scattergl": [
           {
            "marker": {
             "colorbar": {
              "outlinewidth": 0,
              "ticks": ""
             }
            },
            "type": "scattergl"
           }
          ],
          "scattermapbox": [
           {
            "marker": {
             "colorbar": {
              "outlinewidth": 0,
              "ticks": ""
             }
            },
            "type": "scattermapbox"
           }
          ],
          "scatterpolar": [
           {
            "marker": {
             "colorbar": {
              "outlinewidth": 0,
              "ticks": ""
             }
            },
            "type": "scatterpolar"
           }
          ],
          "scatterpolargl": [
           {
            "marker": {
             "colorbar": {
              "outlinewidth": 0,
              "ticks": ""
             }
            },
            "type": "scatterpolargl"
           }
          ],
          "scatterternary": [
           {
            "marker": {
             "colorbar": {
              "outlinewidth": 0,
              "ticks": ""
             }
            },
            "type": "scatterternary"
           }
          ],
          "surface": [
           {
            "colorbar": {
             "outlinewidth": 0,
             "ticks": ""
            },
            "colorscale": [
             [
              0,
              "#0d0887"
             ],
             [
              0.1111111111111111,
              "#46039f"
             ],
             [
              0.2222222222222222,
              "#7201a8"
             ],
             [
              0.3333333333333333,
              "#9c179e"
             ],
             [
              0.4444444444444444,
              "#bd3786"
             ],
             [
              0.5555555555555556,
              "#d8576b"
             ],
             [
              0.6666666666666666,
              "#ed7953"
             ],
             [
              0.7777777777777778,
              "#fb9f3a"
             ],
             [
              0.8888888888888888,
              "#fdca26"
             ],
             [
              1,
              "#f0f921"
             ]
            ],
            "type": "surface"
           }
          ],
          "table": [
           {
            "cells": {
             "fill": {
              "color": "#EBF0F8"
             },
             "line": {
              "color": "white"
             }
            },
            "header": {
             "fill": {
              "color": "#C8D4E3"
             },
             "line": {
              "color": "white"
             }
            },
            "type": "table"
           }
          ]
         },
         "layout": {
          "annotationdefaults": {
           "arrowcolor": "#2a3f5f",
           "arrowhead": 0,
           "arrowwidth": 1
          },
          "autotypenumbers": "strict",
          "coloraxis": {
           "colorbar": {
            "outlinewidth": 0,
            "ticks": ""
           }
          },
          "colorscale": {
           "diverging": [
            [
             0,
             "#8e0152"
            ],
            [
             0.1,
             "#c51b7d"
            ],
            [
             0.2,
             "#de77ae"
            ],
            [
             0.3,
             "#f1b6da"
            ],
            [
             0.4,
             "#fde0ef"
            ],
            [
             0.5,
             "#f7f7f7"
            ],
            [
             0.6,
             "#e6f5d0"
            ],
            [
             0.7,
             "#b8e186"
            ],
            [
             0.8,
             "#7fbc41"
            ],
            [
             0.9,
             "#4d9221"
            ],
            [
             1,
             "#276419"
            ]
           ],
           "sequential": [
            [
             0,
             "#0d0887"
            ],
            [
             0.1111111111111111,
             "#46039f"
            ],
            [
             0.2222222222222222,
             "#7201a8"
            ],
            [
             0.3333333333333333,
             "#9c179e"
            ],
            [
             0.4444444444444444,
             "#bd3786"
            ],
            [
             0.5555555555555556,
             "#d8576b"
            ],
            [
             0.6666666666666666,
             "#ed7953"
            ],
            [
             0.7777777777777778,
             "#fb9f3a"
            ],
            [
             0.8888888888888888,
             "#fdca26"
            ],
            [
             1,
             "#f0f921"
            ]
           ],
           "sequentialminus": [
            [
             0,
             "#0d0887"
            ],
            [
             0.1111111111111111,
             "#46039f"
            ],
            [
             0.2222222222222222,
             "#7201a8"
            ],
            [
             0.3333333333333333,
             "#9c179e"
            ],
            [
             0.4444444444444444,
             "#bd3786"
            ],
            [
             0.5555555555555556,
             "#d8576b"
            ],
            [
             0.6666666666666666,
             "#ed7953"
            ],
            [
             0.7777777777777778,
             "#fb9f3a"
            ],
            [
             0.8888888888888888,
             "#fdca26"
            ],
            [
             1,
             "#f0f921"
            ]
           ]
          },
          "colorway": [
           "#636efa",
           "#EF553B",
           "#00cc96",
           "#ab63fa",
           "#FFA15A",
           "#19d3f3",
           "#FF6692",
           "#B6E880",
           "#FF97FF",
           "#FECB52"
          ],
          "font": {
           "color": "#2a3f5f"
          },
          "geo": {
           "bgcolor": "white",
           "lakecolor": "white",
           "landcolor": "#E5ECF6",
           "showlakes": true,
           "showland": true,
           "subunitcolor": "white"
          },
          "hoverlabel": {
           "align": "left"
          },
          "hovermode": "closest",
          "mapbox": {
           "style": "light"
          },
          "paper_bgcolor": "white",
          "plot_bgcolor": "#E5ECF6",
          "polar": {
           "angularaxis": {
            "gridcolor": "white",
            "linecolor": "white",
            "ticks": ""
           },
           "bgcolor": "#E5ECF6",
           "radialaxis": {
            "gridcolor": "white",
            "linecolor": "white",
            "ticks": ""
           }
          },
          "scene": {
           "xaxis": {
            "backgroundcolor": "#E5ECF6",
            "gridcolor": "white",
            "gridwidth": 2,
            "linecolor": "white",
            "showbackground": true,
            "ticks": "",
            "zerolinecolor": "white"
           },
           "yaxis": {
            "backgroundcolor": "#E5ECF6",
            "gridcolor": "white",
            "gridwidth": 2,
            "linecolor": "white",
            "showbackground": true,
            "ticks": "",
            "zerolinecolor": "white"
           },
           "zaxis": {
            "backgroundcolor": "#E5ECF6",
            "gridcolor": "white",
            "gridwidth": 2,
            "linecolor": "white",
            "showbackground": true,
            "ticks": "",
            "zerolinecolor": "white"
           }
          },
          "shapedefaults": {
           "line": {
            "color": "#2a3f5f"
           }
          },
          "ternary": {
           "aaxis": {
            "gridcolor": "white",
            "linecolor": "white",
            "ticks": ""
           },
           "baxis": {
            "gridcolor": "white",
            "linecolor": "white",
            "ticks": ""
           },
           "bgcolor": "#E5ECF6",
           "caxis": {
            "gridcolor": "white",
            "linecolor": "white",
            "ticks": ""
           }
          },
          "title": {
           "x": 0.05
          },
          "xaxis": {
           "automargin": true,
           "gridcolor": "white",
           "linecolor": "white",
           "ticks": "",
           "title": {
            "standoff": 15
           },
           "zerolinecolor": "white",
           "zerolinewidth": 2
          },
          "yaxis": {
           "automargin": true,
           "gridcolor": "white",
           "linecolor": "white",
           "ticks": "",
           "title": {
            "standoff": 15
           },
           "zerolinecolor": "white",
           "zerolinewidth": 2
          }
         }
        },
        "title": {
         "text": "Accuracy vs K",
         "x": 0.5
        },
        "width": 800,
        "xaxis": {
         "showgrid": false
        },
        "yaxis": {
         "showgrid": false
        }
       }
      }
     },
     "metadata": {},
     "output_type": "display_data"
    }
   ],
   "source": [
    "fig = go.Figure()\n",
    "fig.add_trace(\n",
    "    go.Scatter(\n",
    "        x=[i[0] for i in l],\n",
    "        y=[i[1] for i in l],\n",
    "        mode=\"lines+markers\",\n",
    "        marker_color=\"rgb(171, 226, 251)\",\n",
    "    )\n",
    ")\n",
    "fig.update_layout(\n",
    "    title=\"Accuracy vs K\",\n",
    "    title_x=0.5,\n",
    "    width=800,\n",
    "    height=800,\n",
    "    xaxis_showgrid=False,\n",
    "    yaxis_showgrid=False,\n",
    ")\n",
    "fig.show()"
   ]
  },
  {
   "attachments": {},
   "cell_type": "markdown",
   "metadata": {},
   "source": [
    "# Random forest"
   ]
  },
  {
   "cell_type": "code",
   "execution_count": 124,
   "metadata": {},
   "outputs": [],
   "source": [
    "from sklearn.ensemble import RandomForestClassifier"
   ]
  },
  {
   "cell_type": "code",
   "execution_count": 125,
   "metadata": {},
   "outputs": [],
   "source": [
    "rfc_model = RandomForestClassifier(n_estimators=100, random_state=42)"
   ]
  },
  {
   "cell_type": "code",
   "execution_count": 126,
   "metadata": {},
   "outputs": [
    {
     "data": {
      "text/html": [
       "<style>#sk-container-id-8 {color: black;background-color: white;}#sk-container-id-8 pre{padding: 0;}#sk-container-id-8 div.sk-toggleable {background-color: white;}#sk-container-id-8 label.sk-toggleable__label {cursor: pointer;display: block;width: 100%;margin-bottom: 0;padding: 0.3em;box-sizing: border-box;text-align: center;}#sk-container-id-8 label.sk-toggleable__label-arrow:before {content: \"▸\";float: left;margin-right: 0.25em;color: #696969;}#sk-container-id-8 label.sk-toggleable__label-arrow:hover:before {color: black;}#sk-container-id-8 div.sk-estimator:hover label.sk-toggleable__label-arrow:before {color: black;}#sk-container-id-8 div.sk-toggleable__content {max-height: 0;max-width: 0;overflow: hidden;text-align: left;background-color: #f0f8ff;}#sk-container-id-8 div.sk-toggleable__content pre {margin: 0.2em;color: black;border-radius: 0.25em;background-color: #f0f8ff;}#sk-container-id-8 input.sk-toggleable__control:checked~div.sk-toggleable__content {max-height: 200px;max-width: 100%;overflow: auto;}#sk-container-id-8 input.sk-toggleable__control:checked~label.sk-toggleable__label-arrow:before {content: \"▾\";}#sk-container-id-8 div.sk-estimator input.sk-toggleable__control:checked~label.sk-toggleable__label {background-color: #d4ebff;}#sk-container-id-8 div.sk-label input.sk-toggleable__control:checked~label.sk-toggleable__label {background-color: #d4ebff;}#sk-container-id-8 input.sk-hidden--visually {border: 0;clip: rect(1px 1px 1px 1px);clip: rect(1px, 1px, 1px, 1px);height: 1px;margin: -1px;overflow: hidden;padding: 0;position: absolute;width: 1px;}#sk-container-id-8 div.sk-estimator {font-family: monospace;background-color: #f0f8ff;border: 1px dotted black;border-radius: 0.25em;box-sizing: border-box;margin-bottom: 0.5em;}#sk-container-id-8 div.sk-estimator:hover {background-color: #d4ebff;}#sk-container-id-8 div.sk-parallel-item::after {content: \"\";width: 100%;border-bottom: 1px solid gray;flex-grow: 1;}#sk-container-id-8 div.sk-label:hover label.sk-toggleable__label {background-color: #d4ebff;}#sk-container-id-8 div.sk-serial::before {content: \"\";position: absolute;border-left: 1px solid gray;box-sizing: border-box;top: 0;bottom: 0;left: 50%;z-index: 0;}#sk-container-id-8 div.sk-serial {display: flex;flex-direction: column;align-items: center;background-color: white;padding-right: 0.2em;padding-left: 0.2em;position: relative;}#sk-container-id-8 div.sk-item {position: relative;z-index: 1;}#sk-container-id-8 div.sk-parallel {display: flex;align-items: stretch;justify-content: center;background-color: white;position: relative;}#sk-container-id-8 div.sk-item::before, #sk-container-id-8 div.sk-parallel-item::before {content: \"\";position: absolute;border-left: 1px solid gray;box-sizing: border-box;top: 0;bottom: 0;left: 50%;z-index: -1;}#sk-container-id-8 div.sk-parallel-item {display: flex;flex-direction: column;z-index: 1;position: relative;background-color: white;}#sk-container-id-8 div.sk-parallel-item:first-child::after {align-self: flex-end;width: 50%;}#sk-container-id-8 div.sk-parallel-item:last-child::after {align-self: flex-start;width: 50%;}#sk-container-id-8 div.sk-parallel-item:only-child::after {width: 0;}#sk-container-id-8 div.sk-dashed-wrapped {border: 1px dashed gray;margin: 0 0.4em 0.5em 0.4em;box-sizing: border-box;padding-bottom: 0.4em;background-color: white;}#sk-container-id-8 div.sk-label label {font-family: monospace;font-weight: bold;display: inline-block;line-height: 1.2em;}#sk-container-id-8 div.sk-label-container {text-align: center;}#sk-container-id-8 div.sk-container {/* jupyter's `normalize.less` sets `[hidden] { display: none; }` but bootstrap.min.css set `[hidden] { display: none !important; }` so we also need the `!important` here to be able to override the default hidden behavior on the sphinx rendered scikit-learn.org. See: https://github.com/scikit-learn/scikit-learn/issues/21755 */display: inline-block !important;position: relative;}#sk-container-id-8 div.sk-text-repr-fallback {display: none;}</style><div id=\"sk-container-id-8\" class=\"sk-top-container\"><div class=\"sk-text-repr-fallback\"><pre>RandomForestClassifier(random_state=42)</pre><b>In a Jupyter environment, please rerun this cell to show the HTML representation or trust the notebook. <br />On GitHub, the HTML representation is unable to render, please try loading this page with nbviewer.org.</b></div><div class=\"sk-container\" hidden><div class=\"sk-item\"><div class=\"sk-estimator sk-toggleable\"><input class=\"sk-toggleable__control sk-hidden--visually\" id=\"sk-estimator-id-8\" type=\"checkbox\" checked><label for=\"sk-estimator-id-8\" class=\"sk-toggleable__label sk-toggleable__label-arrow\">RandomForestClassifier</label><div class=\"sk-toggleable__content\"><pre>RandomForestClassifier(random_state=42)</pre></div></div></div></div></div>"
      ],
      "text/plain": [
       "RandomForestClassifier(random_state=42)"
      ]
     },
     "execution_count": 126,
     "metadata": {},
     "output_type": "execute_result"
    }
   ],
   "source": [
    "rfc_model.fit(X_train, y_train)"
   ]
  },
  {
   "cell_type": "code",
   "execution_count": 127,
   "metadata": {},
   "outputs": [],
   "source": [
    "predictions_rfc_train = rfc_model.predict(X_train)\n",
    "predictions_rfc_test = rfc_model.predict(X_test)"
   ]
  },
  {
   "cell_type": "code",
   "execution_count": 128,
   "metadata": {},
   "outputs": [],
   "source": [
    "train_results_rfc = pd.DataFrame(\n",
    "    {\"Actual\": y_train, \"Predicted\": predictions_rfc_train}\n",
    ")\n",
    "test_results_rfc = pd.DataFrame({\"Actual\": y_test, \"Predicted\": predictions_rfc_test})\n"
   ]
  },
  {
   "cell_type": "code",
   "execution_count": 129,
   "metadata": {},
   "outputs": [
    {
     "data": {
      "text/plain": [
       "<sklearn.metrics._plot.confusion_matrix.ConfusionMatrixDisplay at 0x2c654460c10>"
      ]
     },
     "execution_count": 129,
     "metadata": {},
     "output_type": "execute_result"
    },
    {
     "data": {
      "image/png": "[encoded data removed]",
      "text/plain": [
       "<Figure size 640x480 with 2 Axes>"
      ]
     },
     "metadata": {},
     "output_type": "display_data"
    }
   ],
   "source": [
    "cm = confusion_matrix(y_test, predictions_rfc_test)\n",
    "ConfusionMatrixDisplay(cm).plot()"
   ]
  },
  {
   "cell_type": "code",
   "execution_count": 130,
   "metadata": {},
   "outputs": [
    {
     "name": "stdout",
     "output_type": "stream",
     "text": [
      "Classification Report for Random Forest Model (Train)\n",
      "              precision    recall  f1-score   support\n",
      "\n",
      "           0       0.71      1.00      0.83     10232\n",
      "           1       0.00      0.00      0.00      4210\n",
      "\n",
      "    accuracy                           0.71     14442\n",
      "   macro avg       0.35      0.50      0.41     14442\n",
      "weighted avg       0.50      0.71      0.59     14442\n",
      "\n",
      "Classification Report for Random Forest Model (Test)\n",
      "              precision    recall  f1-score   support\n",
      "\n",
      "           0       0.71      1.00      0.83      4382\n",
      "           1       0.00      0.00      0.00      1808\n",
      "\n",
      "    accuracy                           0.71      6190\n",
      "   macro avg       0.35      0.50      0.41      6190\n",
      "weighted avg       0.50      0.71      0.59      6190\n",
      "\n"
     ]
    }
   ],
   "source": [
    "print(\"Classification Report for Random Forest Model (Train)\")\n",
    "print(classification_report(y_train, predictions_rfc_train))\n",
    "print(\"Classification Report for Random Forest Model (Test)\")\n",
    "print(classification_report(y_test, predictions_rfc_test))"
   ]
  },
  {
   "cell_type": "code",
   "execution_count": 131,
   "metadata": {},
   "outputs": [
    {
     "name": "stdout",
     "output_type": "stream",
     "text": [
      "1000\r"
     ]
    }
   ],
   "source": [
    "l = []\n",
    "for i in range(100, 1100, 100):\n",
    "    print(i, end=\"\\r\")\n",
    "    rfi = RandomForestClassifier(i, random_state=42, criterion=\"entropy\")\n",
    "    rfi.fit(X_train, y_train)\n",
    "    predictions_rfi_test = rfi.predict(X_test)\n",
    "    l.append((i, rfi.score(X_test, y_test)))"
   ]
  },
  {
   "cell_type": "code",
   "execution_count": 132,
   "metadata": {},
   "outputs": [
    {
     "data": {
      "application/vnd.plotly.v1+json": {
       "config": {
        "plotlyServerURL": "https://plot.ly"
       },
       "data": [
        {
         "marker": {
          "color": "rgb(171, 226, 251)"
         },
         "mode": "lines+markers",
         "type": "scatter",
         "x": [
          100,
          200,
          300,
          400,
          500,
          600,
          700,
          800,
          900,
          1000
         ],
         "y": [
          0.7079159935379644,
          0.7079159935379644,
          0.7079159935379644,
          0.7079159935379644,
          0.7079159935379644,
          0.7079159935379644,
          0.7079159935379644,
          0.7079159935379644,
          0.7079159935379644,
          0.7079159935379644
         ]
        }
       ],
       "layout": {
        "height": 800,
        "template": {
         "data": {
          "bar": [
           {
            "error_x": {
             "color": "#2a3f5f"
            },
            "error_y": {
             "color": "#2a3f5f"
            },
            "marker": {
             "line": {
              "color": "#E5ECF6",
              "width": 0.5
             },
             "pattern": {
              "fillmode": "overlay",
              "size": 10,
              "solidity": 0.2
             }
            },
            "type": "bar"
           }
          ],
          "barpolar": [
           {
            "marker": {
             "line": {
              "color": "#E5ECF6",
              "width": 0.5
             },
             "pattern": {
              "fillmode": "overlay",
              "size": 10,
              "solidity": 0.2
             }
            },
            "type": "barpolar"
           }
          ],
          "carpet": [
           {
            "aaxis": {
             "endlinecolor": "#2a3f5f",
             "gridcolor": "white",
             "linecolor": "white",
             "minorgridcolor": "white",
             "startlinecolor": "#2a3f5f"
            },
            "baxis": {
             "endlinecolor": "#2a3f5f",
             "gridcolor": "white",
             "linecolor": "white",
             "minorgridcolor": "white",
             "startlinecolor": "#2a3f5f"
            },
            "type": "carpet"
           }
          ],
          "choropleth": [
           {
            "colorbar": {
             "outlinewidth": 0,
             "ticks": ""
            },
            "type": "choropleth"
           }
          ],
          "contour": [
           {
            "colorbar": {
             "outlinewidth": 0,
             "ticks": ""
            },
            "colorscale": [
             [
              0,
              "#0d0887"
             ],
             [
              0.1111111111111111,
              "#46039f"
             ],
             [
              0.2222222222222222,
              "#7201a8"
             ],
             [
              0.3333333333333333,
              "#9c179e"
             ],
             [
              0.4444444444444444,
              "#bd3786"
             ],
             [
              0.5555555555555556,
              "#d8576b"
             ],
             [
              0.6666666666666666,
              "#ed7953"
             ],
             [
              0.7777777777777778,
              "#fb9f3a"
             ],
             [
              0.8888888888888888,
              "#fdca26"
             ],
             [
              1,
              "#f0f921"
             ]
            ],
            "type": "contour"
           }
          ],
          "contourcarpet": [
           {
            "colorbar": {
             "outlinewidth": 0,
             "ticks": ""
            },
            "type": "contourcarpet"
           }
          ],
          "heatmap": [
           {
            "colorbar": {
             "outlinewidth": 0,
             "ticks": ""
            },
            "colorscale": [
             [
              0,
              "#0d0887"
             ],
             [
              0.1111111111111111,
              "#46039f"
             ],
             [
              0.2222222222222222,
              "#7201a8"
             ],
             [
              0.3333333333333333,
              "#9c179e"
             ],
             [
              0.4444444444444444,
              "#bd3786"
             ],
             [
              0.5555555555555556,
              "#d8576b"
             ],
             [
              0.6666666666666666,
              "#ed7953"
             ],
             [
              0.7777777777777778,
              "#fb9f3a"
             ],
             [
              0.8888888888888888,
              "#fdca26"
             ],
             [
              1,
              "#f0f921"
             ]
            ],
            "type": "heatmap"
           }
          ],
          "heatmapgl": [
           {
            "colorbar": {
             "outlinewidth": 0,
             "ticks": ""
            },
            "colorscale": [
             [
              0,
              "#0d0887"
             ],
             [
              0.1111111111111111,
              "#46039f"
             ],
             [
              0.2222222222222222,
              "#7201a8"
             ],
             [
              0.3333333333333333,
              "#9c179e"
             ],
             [
              0.4444444444444444,
              "#bd3786"
             ],
             [
              0.5555555555555556,
              "#d8576b"
             ],
             [
              0.6666666666666666,
              "#ed7953"
             ],
             [
              0.7777777777777778,
              "#fb9f3a"
             ],
             [
              0.8888888888888888,
              "#fdca26"
             ],
             [
              1,
              "#f0f921"
             ]
            ],
            "type": "heatmapgl"
           }
          ],
          "histogram": [
           {
            "marker": {
             "pattern": {
              "fillmode": "overlay",
              "size": 10,
              "solidity": 0.2
             }
            },
            "type": "histogram"
           }
          ],
          "histogram2d": [
           {
            "colorbar": {
             "outlinewidth": 0,
             "ticks": ""
            },
            "colorscale": [
             [
              0,
              "#0d0887"
             ],
             [
              0.1111111111111111,
              "#46039f"
             ],
             [
              0.2222222222222222,
              "#7201a8"
             ],
             [
              0.3333333333333333,
              "#9c179e"
             ],
             [
              0.4444444444444444,
              "#bd3786"
             ],
             [
              0.5555555555555556,
              "#d8576b"
             ],
             [
              0.6666666666666666,
              "#ed7953"
             ],
             [
              0.7777777777777778,
              "#fb9f3a"
             ],
             [
              0.8888888888888888,
              "#fdca26"
             ],
             [
              1,
              "#f0f921"
             ]
            ],
            "type": "histogram2d"
           }
          ],
          "histogram2dcontour": [
           {
            "colorbar": {
             "outlinewidth": 0,
             "ticks": ""
            },
            "colorscale": [
             [
              0,
              "#0d0887"
             ],
             [
              0.1111111111111111,
              "#46039f"
             ],
             [
              0.2222222222222222,
              "#7201a8"
             ],
             [
              0.3333333333333333,
              "#9c179e"
             ],
             [
              0.4444444444444444,
              "#bd3786"
             ],
             [
              0.5555555555555556,
              "#d8576b"
             ],
             [
              0.6666666666666666,
              "#ed7953"
             ],
             [
              0.7777777777777778,
              "#fb9f3a"
             ],
             [
              0.8888888888888888,
              "#fdca26"
             ],
             [
              1,
              "#f0f921"
             ]
            ],
            "type": "histogram2dcontour"
           }
          ],
          "mesh3d": [
           {
            "colorbar": {
             "outlinewidth": 0,
             "ticks": ""
            },
            "type": "mesh3d"
           }
          ],
          "parcoords": [
           {
            "line": {
             "colorbar": {
              "outlinewidth": 0,
              "ticks": ""
             }
            },
            "type": "parcoords"
           }
          ],
          "pie": [
           {
            "automargin": true,
            "type": "pie"
           }
          ],
          "scatter": [
           {
            "fillpattern": {
             "fillmode": "overlay",
             "size": 10,
             "solidity": 0.2
            },
            "type": "scatter"
           }
          ],
          "scatter3d": [
           {
            "line": {
             "colorbar": {
              "outlinewidth": 0,
              "ticks": ""
             }
            },
            "marker": {
             "colorbar": {
              "outlinewidth": 0,
              "ticks": ""
             }
            },
            "type": "scatter3d"
           }
          ],
          "scattercarpet": [
           {
            "marker": {
             "colorbar": {
              "outlinewidth": 0,
              "ticks": ""
             }
            },
            "type": "scattercarpet"
           }
          ],
          "scattergeo": [
           {
            "marker": {
             "colorbar": {
              "outlinewidth": 0,
              "ticks": ""
             }
            },
            "type": "scattergeo"
           }
          ],
          "scattergl": [
           {
            "marker": {
             "colorbar": {
              "outlinewidth": 0,
              "ticks": ""
             }
            },
            "type": "scattergl"
           }
          ],
          "scattermapbox": [
           {
            "marker": {
             "colorbar": {
              "outlinewidth": 0,
              "ticks": ""
             }
            },
            "type": "scattermapbox"
           }
          ],
          "scatterpolar": [
           {
            "marker": {
             "colorbar": {
              "outlinewidth": 0,
              "ticks": ""
             }
            },
            "type": "scatterpolar"
           }
          ],
          "scatterpolargl": [
           {
            "marker": {
             "colorbar": {
              "outlinewidth": 0,
              "ticks": ""
             }
            },
            "type": "scatterpolargl"
           }
          ],
          "scatterternary": [
           {
            "marker": {
             "colorbar": {
              "outlinewidth": 0,
              "ticks": ""
             }
            },
            "type": "scatterternary"
           }
          ],
          "surface": [
           {
            "colorbar": {
             "outlinewidth": 0,
             "ticks": ""
            },
            "colorscale": [
             [
              0,
              "#0d0887"
             ],
             [
              0.1111111111111111,
              "#46039f"
             ],
             [
              0.2222222222222222,
              "#7201a8"
             ],
             [
              0.3333333333333333,
              "#9c179e"
             ],
             [
              0.4444444444444444,
              "#bd3786"
             ],
             [
              0.5555555555555556,
              "#d8576b"
             ],
             [
              0.6666666666666666,
              "#ed7953"
             ],
             [
              0.7777777777777778,
              "#fb9f3a"
             ],
             [
              0.8888888888888888,
              "#fdca26"
             ],
             [
              1,
              "#f0f921"
             ]
            ],
            "type": "surface"
           }
          ],
          "table": [
           {
            "cells": {
             "fill": {
              "color": "#EBF0F8"
             },
             "line": {
              "color": "white"
             }
            },
            "header": {
             "fill": {
              "color": "#C8D4E3"
             },
             "line": {
              "color": "white"
             }
            },
            "type": "table"
           }
          ]
         },
         "layout": {
          "annotationdefaults": {
           "arrowcolor": "#2a3f5f",
           "arrowhead": 0,
           "arrowwidth": 1
          },
          "autotypenumbers": "strict",
          "coloraxis": {
           "colorbar": {
            "outlinewidth": 0,
            "ticks": ""
           }
          },
          "colorscale": {
           "diverging": [
            [
             0,
             "#8e0152"
            ],
            [
             0.1,
             "#c51b7d"
            ],
            [
             0.2,
             "#de77ae"
            ],
            [
             0.3,
             "#f1b6da"
            ],
            [
             0.4,
             "#fde0ef"
            ],
            [
             0.5,
             "#f7f7f7"
            ],
            [
             0.6,
             "#e6f5d0"
            ],
            [
             0.7,
             "#b8e186"
            ],
            [
             0.8,
             "#7fbc41"
            ],
            [
             0.9,
             "#4d9221"
            ],
            [
             1,
             "#276419"
            ]
           ],
           "sequential": [
            [
             0,
             "#0d0887"
            ],
            [
             0.1111111111111111,
             "#46039f"
            ],
            [
             0.2222222222222222,
             "#7201a8"
            ],
            [
             0.3333333333333333,
             "#9c179e"
            ],
            [
             0.4444444444444444,
             "#bd3786"
            ],
            [
             0.5555555555555556,
             "#d8576b"
            ],
            [
             0.6666666666666666,
             "#ed7953"
            ],
            [
             0.7777777777777778,
             "#fb9f3a"
            ],
            [
             0.8888888888888888,
             "#fdca26"
            ],
            [
             1,
             "#f0f921"
            ]
           ],
           "sequentialminus": [
            [
             0,
             "#0d0887"
            ],
            [
             0.1111111111111111,
             "#46039f"
            ],
            [
             0.2222222222222222,
             "#7201a8"
            ],
            [
             0.3333333333333333,
             "#9c179e"
            ],
            [
             0.4444444444444444,
             "#bd3786"
            ],
            [
             0.5555555555555556,
             "#d8576b"
            ],
            [
             0.6666666666666666,
             "#ed7953"
            ],
            [
             0.7777777777777778,
             "#fb9f3a"
            ],
            [
             0.8888888888888888,
             "#fdca26"
            ],
            [
             1,
             "#f0f921"
            ]
           ]
          },
          "colorway": [
           "#636efa",
           "#EF553B",
           "#00cc96",
           "#ab63fa",
           "#FFA15A",
           "#19d3f3",
           "#FF6692",
           "#B6E880",
           "#FF97FF",
           "#FECB52"
          ],
          "font": {
           "color": "#2a3f5f"
          },
          "geo": {
           "bgcolor": "white",
           "lakecolor": "white",
           "landcolor": "#E5ECF6",
           "showlakes": true,
           "showland": true,
           "subunitcolor": "white"
          },
          "hoverlabel": {
           "align": "left"
          },
          "hovermode": "closest",
          "mapbox": {
           "style": "light"
          },
          "paper_bgcolor": "white",
          "plot_bgcolor": "#E5ECF6",
          "polar": {
           "angularaxis": {
            "gridcolor": "white",
            "linecolor": "white",
            "ticks": ""
           },
           "bgcolor": "#E5ECF6",
           "radialaxis": {
            "gridcolor": "white",
            "linecolor": "white",
            "ticks": ""
           }
          },
          "scene": {
           "xaxis": {
            "backgroundcolor": "#E5ECF6",
            "gridcolor": "white",
            "gridwidth": 2,
            "linecolor": "white",
            "showbackground": true,
            "ticks": "",
            "zerolinecolor": "white"
           },
           "yaxis": {
            "backgroundcolor": "#E5ECF6",
            "gridcolor": "white",
            "gridwidth": 2,
            "linecolor": "white",
            "showbackground": true,
            "ticks": "",
            "zerolinecolor": "white"
           },
           "zaxis": {
            "backgroundcolor": "#E5ECF6",
            "gridcolor": "white",
            "gridwidth": 2,
            "linecolor": "white",
            "showbackground": true,
            "ticks": "",
            "zerolinecolor": "white"
           }
          },
          "shapedefaults": {
           "line": {
            "color": "#2a3f5f"
           }
          },
          "ternary": {
           "aaxis": {
            "gridcolor": "white",
            "linecolor": "white",
            "ticks": ""
           },
           "baxis": {
            "gridcolor": "white",
            "linecolor": "white",
            "ticks": ""
           },
           "bgcolor": "#E5ECF6",
           "caxis": {
            "gridcolor": "white",
            "linecolor": "white",
            "ticks": ""
           }
          },
          "title": {
           "x": 0.05
          },
          "xaxis": {
           "automargin": true,
           "gridcolor": "white",
           "linecolor": "white",
           "ticks": "",
           "title": {
            "standoff": 15
           },
           "zerolinecolor": "white",
           "zerolinewidth": 2
          },
          "yaxis": {
           "automargin": true,
           "gridcolor": "white",
           "linecolor": "white",
           "ticks": "",
           "title": {
            "standoff": 15
           },
           "zerolinecolor": "white",
           "zerolinewidth": 2
          }
         }
        },
        "title": {
         "text": "Accuracy vs n_estimators",
         "x": 0.5
        },
        "width": 800,
        "xaxis": {
         "showgrid": false
        },
        "yaxis": {
         "showgrid": false
        }
       }
      }
     },
     "metadata": {},
     "output_type": "display_data"
    }
   ],
   "source": [
    "fig = go.Figure()\n",
    "fig.add_trace(\n",
    "    go.Scatter(\n",
    "        x=[i[0] for i in l],\n",
    "        y=[i[1] for i in l],\n",
    "        mode=\"lines+markers\",\n",
    "        marker_color=\"rgb(171, 226, 251)\",\n",
    "    )\n",
    ")\n",
    "fig.update_layout(\n",
    "    title=\"Accuracy vs n_estimators\",\n",
    "    title_x=0.5,\n",
    "    width=800,\n",
    "    height=800,\n",
    "    xaxis_showgrid=False,\n",
    "    yaxis_showgrid=False,\n",
    ")\n",
    "fig.show()\n",
    "    "
   ]
  },
  {
   "cell_type": "code",
   "execution_count": null,
   "metadata": {},
   "outputs": [],
   "source": []
  }
 ],
 "metadata": {
  "kernelspec": {
   "display_name": "venv",
   "language": "python",
   "name": "python3"
  },
  "language_info": {
   "codemirror_mode": {
    "name": "ipython",
    "version": 3
   },
   "file_extension": ".py",
   "mimetype": "text/x-python",
   "name": "python",
   "nbconvert_exporter": "python",
   "pygments_lexer": "ipython3",
   "version": "3.11.1"
  },
  "orig_nbformat": 4
 },
 "nbformat": 4,
 "nbformat_minor": 2
}
